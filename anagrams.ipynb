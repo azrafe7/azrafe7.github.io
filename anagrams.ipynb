{
  "cells": [
    {
      "cell_type": "code",
      "execution_count": 39,
      "id": "58bf4eb3",
      "metadata": {
        "colab": {
          "base_uri": "https://localhost:8080/",
          "height": 259
        },
        "id": "58bf4eb3",
        "outputId": "408ebea0-2bc3-4e32-decb-6845482898ec"
      },
      "outputs": [
        {
          "output_type": "stream",
          "name": "stdout",
          "text": [
            "Looking in indexes: https://pypi.org/simple, https://us-python.pkg.dev/colab-wheels/public/simple/\n",
            "Requirement already satisfied: anvil-uplink in /usr/local/lib/python3.10/dist-packages (0.4.2)\n",
            "Collecting argparse (from anvil-uplink)\n",
            "  Using cached argparse-1.4.0-py2.py3-none-any.whl (23 kB)\n",
            "Requirement already satisfied: future in /usr/local/lib/python3.10/dist-packages (from anvil-uplink) (0.18.3)\n",
            "Requirement already satisfied: six in /usr/local/lib/python3.10/dist-packages (from anvil-uplink) (1.16.0)\n",
            "Requirement already satisfied: ws4py in /usr/local/lib/python3.10/dist-packages (from anvil-uplink) (0.5.1)\n",
            "Installing collected packages: argparse\n",
            "Successfully installed argparse-1.4.0\n"
          ]
        },
        {
          "output_type": "display_data",
          "data": {
            "application/vnd.colab-display-data+json": {
              "pip_warning": {
                "packages": [
                  "argparse"
                ]
              }
            }
          },
          "metadata": {}
        }
      ],
      "source": [
        "!pip install anvil-uplink\n",
        "import anvil.server\n",
        "\n",
        "anvil.server.connect(\"server_AWZDTJC7ELLLWKQJM7XSDOUT-QMTVJN4LDJALI4EQ\")\n",
        "\n"
      ]
    },
    {
      "cell_type": "code",
      "source": [
        "# constansts\n",
        "\n",
        "START_WORD_LENGTHS = [4,5,6]\n",
        "\n",
        "MIN_WORD_LENGTH = 3\n",
        "MAX_WORD_LENGTH = 9\n",
        "\n",
        "NUM_STEPS = 8\n",
        "MIN_STEPS = 5\n"
      ],
      "metadata": {
        "id": "SrwvjfEE3gmm"
      },
      "id": "SrwvjfEE3gmm",
      "execution_count": 40,
      "outputs": []
    },
    {
      "cell_type": "code",
      "source": [
        "'''\n",
        "Created on Feb 7, 2013\n",
        "\n",
        "@author: olegs\n",
        "'''\n",
        "\n",
        "ROMAN_CONSTANTS = (\n",
        "            ( \"\", \"I\", \"II\", \"III\", \"IV\", \"V\", \"VI\", \"VII\", \"VIII\", \"IX\" ),\n",
        "            ( \"\", \"X\", \"XX\", \"XXX\", \"XL\", \"L\", \"LX\", \"LXX\", \"LXXX\", \"XC\" ),\n",
        "            ( \"\", \"C\", \"CC\", \"CCC\", \"CD\", \"D\", \"DC\", \"DCC\", \"DCCC\", \"CM\" ),\n",
        "            ( \"\", \"M\", \"MM\", \"MMM\", \"\",   \"\",  \"-\",  \"\",    \"\",     \"\"   ),\n",
        "        )\n",
        "\n",
        "ROMAN_SYMBOL_MAP = dict(I=1, V=5, X=10, L=50, C=100, D=500, M=1000)\n",
        "\n",
        "CUTOFF = 4000\n",
        "BIG_DEC = 2900\n",
        "BIG_ROMAN = \"MMCM\"\n",
        "ROMAN_NOUGHT = \"nulla\"\n",
        "\n",
        "def digits(num):\n",
        "    if num < 0:\n",
        "        raise Exception('range error: negative numbers not supported')\n",
        "    if num % 1 != 0.0:\n",
        "        raise Exception('floating point numbers not supported')\n",
        "    res = []\n",
        "    while num > 0:\n",
        "        res.append(num % 10)\n",
        "        num //= 10\n",
        "    return res\n",
        "\n",
        "def toString(num, emptyZero=False):\n",
        "    if num < CUTOFF:\n",
        "        digitlist = digits(num)\n",
        "        if digitlist:\n",
        "            res = reversed([ ROMAN_CONSTANTS[order][digit] for order, digit in enumerate(digitlist) ])\n",
        "            return \"\".join(res)\n",
        "        else:\n",
        "            return \"\" if emptyZero else ROMAN_NOUGHT \n",
        "    else:\n",
        "        if num % 1 != 0.0:\n",
        "            raise Exception('floating point numbers not supported')\n",
        "        # For numbers over or equal the CUTOFF, the remainder of division by 2900\n",
        "        # is represented as above, prepended with the multiples of MMCM (2900 in Roman),\n",
        "        # which guarantees no more than 3 repetitive Ms.\n",
        "        return BIG_ROMAN * (num // BIG_DEC) + toString(num % BIG_DEC, emptyZero=True)\n",
        "\n",
        "def parse(numeral):\n",
        "    numeral = numeral.upper()\n",
        "    result = 0\n",
        "\n",
        "    lastVal = 0\n",
        "    lastCount = 0\n",
        "    subtraction = False\n",
        "    for symbol in numeral[::-1]:\n",
        "        value = ROMAN_SYMBOL_MAP.get(symbol)\n",
        "        if not value:\n",
        "            return False\n",
        "        if lastVal == 0:\n",
        "            lastCount = 1\n",
        "            lastVal = value\n",
        "        elif lastVal == value:\n",
        "            lastCount += 1\n",
        "            # exceptions\n",
        "        else:\n",
        "            result += (-1 if subtraction else 1) * lastVal * lastCount\n",
        "            subtraction = lastVal > value\n",
        "            lastCount = 1\n",
        "            lastVal = value\n",
        "    \n",
        "    result = result + (-1 if subtraction else 1) * lastVal * lastCount\n",
        "    return True"
      ],
      "metadata": {
        "id": "tzf1yPgE_FOD"
      },
      "id": "tzf1yPgE_FOD",
      "execution_count": 41,
      "outputs": []
    },
    {
      "cell_type": "code",
      "execution_count": 42,
      "id": "c66edbee",
      "metadata": {
        "colab": {
          "base_uri": "https://localhost:8080/"
        },
        "id": "c66edbee",
        "outputId": "2c1d737b-e6dc-4f5c-849f-96281c49b4cd"
      },
      "outputs": [
        {
          "output_type": "stream",
          "name": "stdout",
          "text": [
            "Dictionary loaded in 0.95s\n",
            "401123/710993\n",
            "['AALENIANA', 'AALENIANE', 'AALENIANI', 'AALENIANO', 'ABABUA', 'ABACA', 'ABACETI', 'ABACETO', 'ABACHI', 'ABACHISTA']\n"
          ]
        }
      ],
      "source": [
        "import requests\n",
        "import time\n",
        "\n",
        "dictionaryFileName = 'assets/dictionary_FULL_IT.txt'\n",
        "dictionaryFileName = 'assets/Ita.txt'\n",
        "\n",
        "    \n",
        "def normalizeWord(word):\n",
        "    return word.strip().upper()\n",
        "    \n",
        "LOAD_FROM_URL = True\n",
        "\n",
        "t0 = time.time()\n",
        "\n",
        "lines = []\n",
        "if LOAD_FROM_URL:\n",
        "    baseUrl = 'https://azrafe7.github.io/'\n",
        "    f = requests.get(baseUrl + dictionaryFileName)\n",
        "    lines = f.text.splitlines()\n",
        "else:\n",
        "    with open(dictionaryFileName) as f:\n",
        "        lines = f.read().splitlines()\n",
        "\n",
        "filteredWords = []\n",
        "for line in lines:\n",
        "    word = normalizeWord(line)\n",
        "    length = len(word)\n",
        "    if length >= MIN_WORD_LENGTH and length <= MAX_WORD_LENGTH and not parse(word):\n",
        "        filteredWords.append(word)\n",
        "\n",
        "print(\"Dictionary loaded in {0:.2f}s\".format(time.time() - t0))\n",
        "\n",
        "print('{0}/{1}'.format(len(filteredWords), len(lines)))\n",
        "\n",
        "print(filteredWords[:10])"
      ]
    },
    {
      "cell_type": "code",
      "execution_count": 43,
      "id": "9722fc02",
      "metadata": {
        "colab": {
          "base_uri": "https://localhost:8080/"
        },
        "id": "9722fc02",
        "outputId": "0a7c8fc2-6293-4c36-8c7e-0bcba3a950ea"
      },
      "outputs": [
        {
          "output_type": "execute_result",
          "data": {
            "text/plain": [
              "35094"
            ]
          },
          "metadata": {},
          "execution_count": 43
        }
      ],
      "source": [
        "\n",
        "def wordsOfLength(lengths):\n",
        "    return [word for word in filteredWords if len(word) in lengths]\n",
        "\n",
        "len(list(wordsOfLength(START_WORD_LENGTHS)))\n"
      ]
    },
    {
      "cell_type": "code",
      "execution_count": 44,
      "id": "61cf18e7",
      "metadata": {
        "colab": {
          "base_uri": "https://localhost:8080/"
        },
        "id": "61cf18e7",
        "outputId": "376a344f-25d9-47dc-ffb8-9cc0db2b7fd8"
      },
      "outputs": [
        {
          "output_type": "stream",
          "name": "stdout",
          "text": [
            "isAnagram(\"ostra\", \"motri\")\n",
            "False\n"
          ]
        }
      ],
      "source": [
        "\n",
        "def isAnagram(sourceWord, targetWord):\n",
        "    if len(sourceWord) != len(targetWord):\n",
        "        return False\n",
        "    \n",
        "    res = True\n",
        "    \n",
        "    sourceCharSet = list(sourceWord)\n",
        "    targetCharSet = list(targetWord)\n",
        "    \n",
        "    #print(targetCharSet)\n",
        "    for i, ch in enumerate(sourceWord):\n",
        "        #print(ch, targetCharSet)\n",
        "        if ch in targetCharSet:\n",
        "            targetCharSet.remove(ch)\n",
        "        else:\n",
        "            res = False\n",
        "            break\n",
        "    \n",
        "    return res\n",
        "    \n",
        "        \n",
        "assert(isAnagram('', ''))\n",
        "assert(not isAnagram('corto', 'trOca'))\n",
        "assert(not isAnagram('c', ''))\n",
        "assert(isAnagram('cortao', 'trocao'))\n",
        "\n",
        "srcWord = 'ostra'\n",
        "dstWord ='motri'\n",
        "\n",
        "print('isAnagram(\"{0}\", \"{1}\")'.format(srcWord, dstWord))\n",
        "print(isAnagram(srcWord, dstWord))"
      ]
    },
    {
      "cell_type": "code",
      "execution_count": 45,
      "id": "58c3fde5",
      "metadata": {
        "colab": {
          "base_uri": "https://localhost:8080/"
        },
        "id": "58c3fde5",
        "outputId": "d9e01019-35a7-4120-8691-1e0484bc7cfe"
      },
      "outputs": [
        {
          "output_type": "stream",
          "name": "stdout",
          "text": [
            "isAnagramEx(\"straccio\", \"crosta\", 2)\n",
            "True\n"
          ]
        }
      ],
      "source": [
        "def isAnagramEx(sourceWord, targetWord, maxDiffLength=0, strict=False):\n",
        "    if maxDiffLength == 0:\n",
        "        return isAnagram(sourceWord, targetWord)\n",
        "    else:\n",
        "        wordDiffLength = abs(len(sourceWord) - len(targetWord))\n",
        "        if wordDiffLength > maxDiffLength:\n",
        "            return False\n",
        "        \n",
        "    sourceCharSet = list(sourceWord)\n",
        "    targetCharSet = list(targetWord)\n",
        "    \n",
        "    if len(sourceCharSet) > len(targetCharSet):\n",
        "        sourceCharSet, targetCharSet = targetCharSet, sourceCharSet\n",
        "        \n",
        "    #print(targetCharSet, sourceCharSet)\n",
        "    for ch in sourceCharSet:\n",
        "        #print(ch, targetCharSet)\n",
        "        if ch in targetCharSet:\n",
        "            targetCharSet.remove(ch)\n",
        "    \n",
        "    #print(targetCharSet)\n",
        "    targetCharSetLength = len(targetCharSet)\n",
        "    #print(wordDiffLength, targetCharSet)\n",
        "    isLooseAnagram = (targetCharSetLength <= maxDiffLength)\n",
        "    res = (not strict and isLooseAnagram) or (strict and isLooseAnagram and wordDiffLength == maxDiffLength)\n",
        "    return res\n",
        "    \n",
        "        \n",
        "maxDiffLength=2\n",
        "\n",
        "assert(isAnagramEx('', ''))\n",
        "assert(not isAnagramEx('corto', 'trOca'))\n",
        "assert(not isAnagramEx('c', ''))\n",
        "assert(isAnagramEx('cortao', 'trocao'))\n",
        "assert(isAnagramEx('cortao', 'trocaox', 1))\n",
        "assert(not isAnagramEx('strappo', 'posta', 1))\n",
        "assert(isAnagramEx('strappo', 'posta', 2))\n",
        "assert(isAnagramEx('strappo', 'posta', 3))\n",
        "assert(not isAnagramEx('strappo', 'posta', 3, strict=True))\n",
        "assert(isAnagramEx('strappo', 'posta', 2, strict=True))\n",
        "assert(isAnagramEx('LEVI', 'ABILE', 2,))\n",
        "assert(not isAnagramEx('TUFFAI', 'ABACA', 2,))\n",
        "\n",
        "\n",
        "srcWord = 'straccio'\n",
        "dstWord ='crosta'\n",
        "\n",
        "print('isAnagramEx(\"{0}\", \"{1}\", {2})'.format(srcWord, dstWord, maxDiffLength))\n",
        "print(isAnagramEx(srcWord, dstWord, maxDiffLength=maxDiffLength))\n"
      ]
    },
    {
      "cell_type": "code",
      "execution_count": 46,
      "id": "b03898fd",
      "metadata": {
        "colab": {
          "base_uri": "https://localhost:8080/"
        },
        "id": "b03898fd",
        "outputId": "182e58c5-81a8-4d56-caf3-68971a8a4a33"
      },
      "outputs": [
        {
          "output_type": "stream",
          "name": "stdout",
          "text": [
            "Build took 3.38369 s\n",
            "Read 401123 words into 674739 nodes\n",
            "Search took 0.934999 s\n"
          ]
        }
      ],
      "source": [
        "# http://stevehanov.ca/blog/index.php?id=114\n",
        "# By Steve Hanov, 2011. Released to the public domain\n",
        "import time\n",
        "import sys\n",
        "\n",
        "DICTIONARY = \"/usr/share/dict/words\";\n",
        "TARGET = \"SCORTA\"\n",
        "MAX_COST = 4\n",
        "\n",
        "# Keep some interesting statistics\n",
        "NodeCount = 0\n",
        "WordCount = 0\n",
        "\n",
        "# The Trie data structure keeps a set of words, organized with one node for\n",
        "# each letter. Each node has a branch for each letter that may follow it in the\n",
        "# set of words.\n",
        "class TrieNode:\n",
        "    def __init__(self):\n",
        "        self.word = None\n",
        "        self.children = {}\n",
        "\n",
        "        global NodeCount\n",
        "        NodeCount += 1\n",
        "\n",
        "    def insert( self, word ):\n",
        "        node = self\n",
        "        for letter in word:\n",
        "            if letter not in node.children: \n",
        "                node.children[letter] = TrieNode()\n",
        "\n",
        "            node = node.children[letter]\n",
        "\n",
        "        node.word = word\n",
        "\n",
        "# read dictionary file into a trie\n",
        "start = time.time()\n",
        "\n",
        "trie = TrieNode()\n",
        "for word in filteredWords:\n",
        "    WordCount += 1\n",
        "    trie.insert( word )\n",
        "\n",
        "end = time.time()\n",
        "print(\"Build took %g s\" % (end - start))\n",
        "\n",
        "print(\"Read %d words into %d nodes\" % (WordCount, NodeCount))\n",
        "\n",
        "# The search function returns a list of all words that are less than the given\n",
        "# maximum distance from the target word\n",
        "def search( word, maxCost ):\n",
        "\n",
        "    # build first row\n",
        "    currentRow = range( len(word) + 1 )\n",
        "\n",
        "    results = []\n",
        "\n",
        "    # recursively search each branch of the trie\n",
        "    for letter in trie.children:\n",
        "        searchRecursive( trie.children[letter], letter, word, currentRow, \n",
        "            results, maxCost )\n",
        "\n",
        "    return results\n",
        "\n",
        "# This recursive helper is used by the search function above. It assumes that\n",
        "# the previousRow has been filled in already.\n",
        "def searchRecursive( node, letter, word, previousRow, results, maxCost ):\n",
        "\n",
        "    columns = len( word ) + 1\n",
        "    currentRow = [ previousRow[0] + 1 ]\n",
        "\n",
        "    # Build one row for the letter, with a column for each letter in the target\n",
        "    # word, plus one for the empty string at column 0\n",
        "    for column in range( 1, columns ):\n",
        "\n",
        "        insertCost = currentRow[column - 1] + 1\n",
        "        deleteCost = previousRow[column] + 1\n",
        "\n",
        "        if word[column - 1] != letter:\n",
        "            replaceCost = previousRow[ column - 1 ] + 1\n",
        "        else:                \n",
        "            replaceCost = previousRow[ column - 1 ]\n",
        "\n",
        "        currentRow.append( min( insertCost, deleteCost, replaceCost ) )\n",
        "\n",
        "    # if the last entry in the row indicates the optimal cost is less than the\n",
        "    # maximum cost, and there is a word in this trie node, then add it.\n",
        "    if currentRow[-1] <= maxCost and node.word != None:\n",
        "        results.append( (node.word, currentRow[-1] ) )\n",
        "\n",
        "    # if any entries in the row are less than the maximum cost, then \n",
        "    # recursively search each branch of the trie\n",
        "    if min( currentRow ) <= maxCost:\n",
        "        for letter in node.children:\n",
        "            searchRecursive( node.children[letter], letter, word, currentRow, \n",
        "                results, maxCost )\n",
        "\n",
        "start = time.time()\n",
        "results = search( TARGET, MAX_COST )\n",
        "end = time.time()\n",
        "\n",
        "#for result in results: print(result)\n",
        "\n",
        "print(\"Search took %g s\" % (end - start))\n",
        "\n"
      ]
    },
    {
      "cell_type": "code",
      "execution_count": 47,
      "id": "4f36e052",
      "metadata": {
        "colab": {
          "base_uri": "https://localhost:8080/"
        },
        "id": "4f36e052",
        "outputId": "ebc41ec0-d3d6-4035-d024-a14884e58251"
      },
      "outputs": [
        {
          "output_type": "stream",
          "name": "stdout",
          "text": [
            "START WORD: CIRCA\n",
            "Search took 0.32102 s\n",
            "END WORD: ('CUPA', 3)\n"
          ]
        }
      ],
      "source": [
        "import random\n",
        "\n",
        "startWord = random.choice(filteredWords)\n",
        "print(\"START WORD:\", startWord)\n",
        "\n",
        "start = time.time()\n",
        "results = search(startWord, 3)\n",
        "end = time.time()\n",
        "\n",
        "print(\"Search took %g s\" % (end - start))\n",
        "\n",
        "validEndWord = random.choice(results)\n",
        "\n",
        "print(\"END WORD:\", validEndWord)\n"
      ]
    },
    {
      "cell_type": "code",
      "execution_count": 48,
      "id": "07dc857e",
      "metadata": {
        "id": "07dc857e"
      },
      "outputs": [],
      "source": [
        "def findAnagramsEx(wordList, word, maxDiffLength=1, strict=False):\n",
        "    results = []\n",
        "    wordLength = len(word)\n",
        "    for entry in wordList:\n",
        "        entryLength = len(entry)\n",
        "        if word == entry or entryLength < wordLength - maxDiffLength or entryLength > wordLength + maxDiffLength:\n",
        "            continue\n",
        "        if isAnagramEx(entry, word, maxDiffLength=maxDiffLength, strict=strict):\n",
        "            diffLength = abs(len(entry) - len(word))\n",
        "            results.append((entry, diffLength))\n",
        "    \n",
        "    return results\n"
      ]
    },
    {
      "cell_type": "code",
      "execution_count": 48,
      "id": "c1b41586",
      "metadata": {
        "id": "c1b41586"
      },
      "outputs": [],
      "source": []
    },
    {
      "cell_type": "code",
      "execution_count": 49,
      "id": "97032888",
      "metadata": {
        "colab": {
          "base_uri": "https://localhost:8080/"
        },
        "id": "97032888",
        "outputId": "208ec074-094f-4a3d-80e4-ad6e873ca615"
      },
      "outputs": [
        {
          "output_type": "stream",
          "name": "stdout",
          "text": [
            "START WORD: CIRCA\n",
            "[('ACCASARSI', 0), ('ACCORASSI', 0), ('ACCORSASI', 0), ('ACCURASSI', 0), ('ACCUSARSI', 0), ('BRACCASSI', 0), ('CARCASSI', 1), ('CARICASSE', 0), ('CARICASSI', 0), ('CASCARSI', 1), ('CASSARCI', 1), ('CIRCASSA', 1), ('CLASSARCI', 0), ('CRACCASSI', 0), ('CRACKARSI', 0), ('CRACKASSE', 0), ('CRACKASTI', 0), ('RACCASSI', 1), ('RACCESASI', 0), ('RICASSACI', 0), ('SACCARASI', 0), ('SACCAROSI', 0), ('SARACCOSI', 0), ('SCALCARSI', 0), ('SCANSARCI', 0), ('SCARNISCA', 0), ('SCASARCI', 1), ('SCASSARCI', 0), ('SFRASCACI', 0), ('SMACCARSI', 0), ('SPACCARSI', 0), ('STACCARSI', 0), ('STRASCICA', 0), ('SVACCARSI', 0)]\n"
          ]
        }
      ],
      "source": [
        "import random\n",
        "\n",
        "newStartWord = random.choice(filteredWords)\n",
        "print(\"START WORD:\", startWord)\n",
        "\n",
        "anagramsDict = {0:[], 1:[], 2:[]}\n",
        "randomFilteredWords = filteredWords[:]\n",
        "random.shuffle(filteredWords[:])\n",
        "randomFilteredWords = sorted(randomFilteredWords)\n",
        "\n",
        "anagrams = findAnagramsEx(randomFilteredWords, newStartWord, maxDiffLength=1, strict=False)\n",
        "for anagram in anagrams:\n",
        "    anagramsDict[anagram[1]].append(anagram[0])\n",
        "    \n",
        "print(anagrams)\n",
        "#print(anagramsDict[0][:10])"
      ]
    },
    {
      "cell_type": "code",
      "execution_count": 50,
      "id": "f203e9f3",
      "metadata": {
        "colab": {
          "base_uri": "https://localhost:8080/"
        },
        "id": "f203e9f3",
        "outputId": "6e6d2901-9052-4696-fdb1-cb4ba6b3d5be"
      },
      "outputs": [
        {
          "output_type": "stream",
          "name": "stdout",
          "text": [
            "['CARCASSI', 'CASCARSI', 'CASSARCI', 'CIRCASSA', 'RACCASSI', 'SCASARCI']\n"
          ]
        }
      ],
      "source": [
        "print(anagramsDict[1])"
      ]
    },
    {
      "cell_type": "code",
      "execution_count": 51,
      "id": "57b8bafa",
      "metadata": {
        "colab": {
          "base_uri": "https://localhost:8080/"
        },
        "id": "57b8bafa",
        "outputId": "94cf6461-f2fe-498c-8200-fa52562f127d"
      },
      "outputs": [
        {
          "output_type": "stream",
          "name": "stdout",
          "text": [
            "START WORD: CUBIA\n",
            "Finding anagrams... (0.27)\n",
            "('CUBATI', 1) 46 anagram\n",
            "Finding levenshtein... (0.01)\n",
            "('BUBATI', 1) 20 levenshtein\n",
            "Finding levenshtein... (0.01)\n",
            "('BUBANTI', 1) 18 levenshtein\n",
            "Finding anagrams... (2.00)\n",
            "anagram 5\n",
            "restart True\n",
            "\n",
            "START WORD: RIRIDE\n",
            "Finding levenshtein... (0.04)\n",
            "('RIGIDE', 1) 12 levenshtein\n",
            "Finding levenshtein... (0.03)\n",
            "levenshtein 9\n",
            "restart True\n",
            "\n",
            "START WORD: COFTO\n",
            "Finding anagrams... (0.47)\n",
            "anagram 7\n",
            "restart True\n",
            "\n",
            "START WORD: SUFITA\n",
            "Finding anagrams... (0.43)\n",
            "('AFFUSTI', 1) 44 anagram\n",
            "Finding anagrams... (0.73)\n",
            "('EFFUSATI', 1) 16 anagram\n",
            "Finding levenshtein... (0.00)\n",
            "levenshtein 9\n",
            "restart True\n",
            "\n",
            "START WORD: COLALO\n",
            "Finding levenshtein... (0.01)\n",
            "('COLALE', 1) 22 levenshtein\n",
            "Finding anagrams... (0.21)\n",
            "('CLONALE', 1) 46 anagram\n",
            "Finding anagrams... (0.44)\n",
            "('LANCIOLE', 1) 30 anagram\n",
            "Finding levenshtein... (0.01)\n",
            "levenshtein 5\n",
            "restart True\n",
            "\n",
            "START WORD: ODILO\n",
            "Finding levenshtein... (0.00)\n",
            "('RODILO', 1) 13 levenshtein\n",
            "Finding levenshtein... (0.01)\n",
            "('GODILO', 1) 15 levenshtein\n",
            "Finding levenshtein... (0.00)\n",
            "levenshtein 7\n",
            "restart True\n",
            "\n",
            "START WORD: IFUGAE\n",
            "Finding anagrams... (0.22)\n",
            "anagram 8\n",
            "restart True\n",
            "\n",
            "START WORD: PURIM\n",
            "Finding levenshtein... (0.00)\n",
            "levenshtein 3\n",
            "restart True\n",
            "\n",
            "START WORD: TARPEI\n",
            "Finding anagrams... (0.21)\n",
            "('PARESTI', 1) 160 anagram\n",
            "Finding levenshtein... (0.01)\n",
            "('PARETI', 1) 14 levenshtein\n",
            "Finding levenshtein... (0.01)\n",
            "('PARESI', 1) 16 levenshtein\n",
            "Finding anagrams... (0.24)\n",
            "('ASPERSI', 1) 201 anagram\n",
            "Finding levenshtein... (0.01)\n",
            "levenshtein 8\n",
            "restart True\n",
            "\n",
            "START WORD: BOERI\n",
            "Finding anagrams... (0.12)\n",
            "('BOARIE', 1) 57 anagram\n",
            "Finding anagrams... (0.23)\n",
            "('OBERA', 1) 60 anagram\n",
            "Finding anagrams... (0.11)\n",
            "('AERO', 1) 66 anagram\n",
            "Finding levenshtein... (0.01)\n",
            "('ATRO', 1) 27 levenshtein\n",
            "Finding levenshtein... (0.00)\n",
            "('ATTO', 1) 19 levenshtein\n",
            "Finding levenshtein... (0.00)\n",
            "('MATTO', 1) 27 levenshtein\n",
            "restart False\n",
            "\n",
            "END WORD: MATTO\n",
            "Elapsed 6.00s\n"
          ]
        }
      ],
      "source": [
        "import time\n",
        "\n",
        "def generateChain(quiet=False, startWord=None, strict=False):\n",
        "    startWords = wordsOfLength(START_WORD_LENGTHS)\n",
        "    \n",
        "    restart = True\n",
        "    \n",
        "    while restart:\n",
        "        restart = False\n",
        "        startWord = random.choice(startWords)\n",
        "        print(\"START WORD:\", startWord)\n",
        "    \n",
        "        steps = [startWord]\n",
        "    \n",
        "        prevStep = (startWord, 0)\n",
        "        #self.info.text = \"\"\n",
        "        for i in range(6):\n",
        "            choice = random.choice([\"anagram\", \"levenshtein\"])\n",
        "            if choice == \"anagram\":\n",
        "                if not quiet: print(\"Finding anagrams...\", end=\"\")\n",
        "                startTime = time.time()\n",
        "                anagrams = findAnagramsEx(filteredWords, prevStep[0], maxDiffLength=1, strict=strict)\n",
        "                if not quiet: print(\" ({0:.2f})\".format(time.time() - startTime))\n",
        "                if len(anagrams) < 10 and i < MIN_STEPS:\n",
        "                    restart = True\n",
        "                    print(choice, len(anagrams))\n",
        "                    break\n",
        "            else:\n",
        "                if not quiet: print(\"Finding levenshtein...\", end=\"\")\n",
        "                startTime = time.time()\n",
        "                results = search(prevStep[0], 1)\n",
        "                if not quiet: print(\" ({0:.2f})\".format(time.time() - startTime))\n",
        "                if len(results) < 10 and i < MIN_STEPS:\n",
        "                    restart = True\n",
        "                    print(choice, len(results))\n",
        "                    break\n",
        "                    \n",
        "            done = False\n",
        "            while not done:\n",
        "                if choice == \"anagram\":\n",
        "                    nextStep = random.choice(anagrams)\n",
        "                else:\n",
        "                    nextStep = random.choice(results)\n",
        "    \n",
        "                if nextStep[0] not in steps:\n",
        "                    steps.append(nextStep[0])\n",
        "                    done = True\n",
        "    \n",
        "            resultsCount = len(results) if choice == \"levenshtein\" else len(anagrams)\n",
        "            if not quiet: print(nextStep, resultsCount, choice)\n",
        "            prevStep = nextStep\n",
        "    \n",
        "        print(\"restart\", restart)\n",
        "        print()\n",
        "    \n",
        "    endWord = steps[-1]\n",
        "    print(\"END WORD:\", endWord)  \n",
        "    return steps\n",
        "\n",
        "t0 = time.time()\n",
        "steps = generateChain(startWord=None, strict=True)\n",
        "print(\"Elapsed {0:.2f}s\".format(time.time() - t0))\n",
        "\n",
        "startWord = steps[0]\n",
        "endWord = steps[-1]"
      ]
    },
    {
      "cell_type": "code",
      "execution_count": 52,
      "id": "11692f09",
      "metadata": {
        "colab": {
          "base_uri": "https://localhost:8080/"
        },
        "id": "11692f09",
        "outputId": "4de89759-b9db-4549-e27f-f55b0ce72922"
      },
      "outputs": [
        {
          "output_type": "stream",
          "name": "stdout",
          "text": [
            "START WORD: BOERI\n",
            "END WORD  : MATTO\n"
          ]
        }
      ],
      "source": [
        "def isInDictionary(word):\n",
        "    results = search(word, 0)\n",
        "    return len(results) > 0\n",
        "\n",
        "class WordStatus():\n",
        "  UNCHECKED = 0\n",
        "  VALID = 1\n",
        "  INVALID = 2\n",
        "  NOT_IN_DICT = 3\n",
        "\n",
        "def checkValidChain(startWord, endWord, wordChain):\n",
        "    prevWord = startWord\n",
        "    isOk = True\n",
        "    statuses = []\n",
        "    for word in wordChain + [endWord]:\n",
        "        inDictionary = isInDictionary(word)\n",
        "        results = [t[0] for t in search(prevWord, 1)]\n",
        "        anagrams = [t[0] for t in findAnagramsEx(filteredWords, prevWord, maxDiffLength=1, strict=False)]\n",
        "        isWordOk = inDictionary and (word in results or word in anagrams) \n",
        "        if not inDictionary:\n",
        "            print(\"✖️\", word)\n",
        "            statuses.append(WordStatus.NOT_IN_DICT)\n",
        "        else:\n",
        "            print(\"✔️\" if isWordOk else \"❌\", word)\n",
        "            statuses.append(WordStatus.VALID if isWordOk else WordStatus.INVALID)\n",
        "        \n",
        "        if not isWordOk:\n",
        "            isOk = False\n",
        "        prevWord = word\n",
        "\n",
        "    return isOk, statuses\n",
        "            \n",
        "print(\"START WORD:\", startWord)\n",
        "print(\"END WORD  :\", endWord)"
      ]
    },
    {
      "cell_type": "code",
      "execution_count": 53,
      "id": "e40e0b2d",
      "metadata": {
        "id": "e40e0b2d"
      },
      "outputs": [],
      "source": [
        "def displayCheckValidChain(startWord, endWord, wordChain):\n",
        "    print()\n",
        "    print(startWord)\n",
        "    ok, statuses = checkValidChain(startWord, endWord, wordChain)\n",
        "    print(endWord)\n",
        "\n",
        "    print()\n",
        "    print(\"👍 WON\" if ok else \"👎 LOST\")\n",
        "\n",
        "    print()\n"
      ]
    },
    {
      "cell_type": "code",
      "execution_count": 54,
      "id": "b13ddaf0",
      "metadata": {
        "colab": {
          "base_uri": "https://localhost:8080/"
        },
        "id": "b13ddaf0",
        "outputId": "7d3ee5d1-7ca8-4471-cec0-a87b6b9e5b5d"
      },
      "outputs": [
        {
          "output_type": "stream",
          "name": "stdout",
          "text": [
            "START WORD: ELGEYE\n",
            "levenshtein 4\n",
            "restart True\n",
            "\n",
            "START WORD: ALARMI\n",
            "levenshtein 9\n",
            "restart True\n",
            "\n",
            "START WORD: NERINA\n",
            "levenshtein 5\n",
            "restart True\n",
            "\n",
            "START WORD: FORI\n",
            "restart False\n",
            "\n",
            "END WORD: GIRSI\n",
            "\n",
            "Generate 1.20s\n",
            "START WORD: FORI\n",
            "END WORD  : GIRSI\n"
          ]
        }
      ],
      "source": [
        "# regenerate start/end words\n",
        "t0 = time.time()\n",
        "steps = generateChain(quiet=True, startWord='piccolo')\n",
        "print(\"\\nGenerate {0:.2f}s\".format(time.time() - t0))\n",
        "\n",
        "startWord = steps[0]\n",
        "endWord = steps[-1]\n",
        "\n",
        "print(\"START WORD:\", startWord)\n",
        "print(\"END WORD  :\", endWord)"
      ]
    },
    {
      "cell_type": "code",
      "execution_count": 55,
      "id": "510ee2b5",
      "metadata": {
        "scrolled": true,
        "colab": {
          "base_uri": "https://localhost:8080/"
        },
        "id": "510ee2b5",
        "outputId": "fb3ecbb3-c26d-489e-fe08-071532c329cd"
      },
      "outputs": [
        {
          "output_type": "stream",
          "name": "stdout",
          "text": [
            "\n",
            "FORI\n",
            "❌ PANTERA\n",
            "❌ PENTOLA\n",
            "❌ PANTOFOLA\n",
            "❌ OSTERIA\n",
            "❌ RISTORAI\n",
            "❌ PIANTALA\n",
            "❌ GIRSI\n",
            "GIRSI\n",
            "\n",
            "👎 LOST\n",
            "\n",
            "Validate 4.20s\n"
          ]
        }
      ],
      "source": [
        "wordChain = [\n",
        "    'pantera',\n",
        "    'pentola',\n",
        "    'pantofola',\n",
        "    'osteria',\n",
        "    'ristorai',\n",
        "    'piantala',\n",
        "]\n",
        "wordChain = [w.strip().upper() for w in wordChain]\n",
        "#print(\"GUESS WORD CHAIN\", wordChain)\n",
        "\n",
        "t0 = time.time()\n",
        "displayCheckValidChain(startWord, endWord, wordChain)\n",
        "print(\"Validate {0:.2f}s\".format(time.time() - t0))"
      ]
    },
    {
      "cell_type": "code",
      "execution_count": 56,
      "id": "7659d980",
      "metadata": {
        "colab": {
          "base_uri": "https://localhost:8080/"
        },
        "id": "7659d980",
        "outputId": "329c6a13-8917-4b08-8cad-588c0aafaa9b"
      },
      "outputs": [
        {
          "output_type": "stream",
          "name": "stdout",
          "text": [
            "COMPUTED WORD CHAIN ['FORI', 'ZIRO', 'ZIRI', 'DIRI', 'SIRI', 'SCIRI', 'GIRSI']\n"
          ]
        }
      ],
      "source": [
        "# STEPS\n",
        "\n",
        "print(\"COMPUTED WORD CHAIN\", steps)"
      ]
    },
    {
      "cell_type": "code",
      "execution_count": 57,
      "id": "783783ce",
      "metadata": {
        "colab": {
          "base_uri": "https://localhost:8080/"
        },
        "id": "783783ce",
        "outputId": "3bcb4227-01a6-42a1-a108-4b841456dcd4"
      },
      "outputs": [
        {
          "output_type": "execute_result",
          "data": {
            "text/plain": [
              "[('MUOVI', 0)]"
            ]
          },
          "metadata": {},
          "execution_count": 57
        }
      ],
      "source": [
        "# find in dictionary\n",
        "\n",
        "findWord = 'muovi'\n",
        "\n",
        "search(findWord.strip().upper(), 0)\n"
      ]
    },
    {
      "cell_type": "code",
      "source": [
        "print([hex(ord(ch)) for ch in \"✖️\"])\n",
        "print([hex(ord(ch)) for ch in \"✔️\"])\n",
        "print([hex(ord(ch)) for ch in \"❌\"])\n",
        "\"👍\"\n",
        "hex(ord(\"👎\"))"
      ],
      "metadata": {
        "id": "zxeuKIqdIM68",
        "outputId": "0e59bd9c-1f5b-4f27-8b3a-77e870a99901",
        "colab": {
          "base_uri": "https://localhost:8080/",
          "height": 87
        }
      },
      "id": "zxeuKIqdIM68",
      "execution_count": 58,
      "outputs": [
        {
          "output_type": "stream",
          "name": "stdout",
          "text": [
            "['0x2716', '0xfe0f']\n",
            "['0x2714', '0xfe0f']\n",
            "['0x274c']\n"
          ]
        },
        {
          "output_type": "execute_result",
          "data": {
            "text/plain": [
              "'0x1f44e'"
            ],
            "application/vnd.google.colaboratory.intrinsic+json": {
              "type": "string"
            }
          },
          "metadata": {},
          "execution_count": 58
        }
      ]
    },
    {
      "cell_type": "code",
      "source": [
        "@anvil.server.callable\n",
        "def srvGenerateWordChain(quiet=True, startWord=None, strict=True):\n",
        "  steps = generateChain(quiet=quiet, startWord=startWord, strict=strict)\n",
        "  return steps\n",
        "\n",
        "@anvil.server.callable\n",
        "def srvValidateChain(startWord, endWord, wordChain):\n",
        "  isOk, statuses = checkValidChain(startWord, endWord, wordChain)\n",
        "  return isOk, statuses\n",
        "\n"
      ],
      "metadata": {
        "id": "kHDjlRX9O7Jm"
      },
      "id": "kHDjlRX9O7Jm",
      "execution_count": 59,
      "outputs": []
    },
    {
      "cell_type": "code",
      "source": [
        "anvil.server.wait_forever()"
      ],
      "metadata": {
        "id": "bNPfNb8IPEga"
      },
      "id": "bNPfNb8IPEga",
      "execution_count": null,
      "outputs": []
    }
  ],
  "metadata": {
    "kernelspec": {
      "display_name": "Python 3 (ipykernel)",
      "language": "python",
      "name": "python3"
    },
    "language_info": {
      "codemirror_mode": {
        "name": "ipython",
        "version": 3
      },
      "file_extension": ".py",
      "mimetype": "text/x-python",
      "name": "python",
      "nbconvert_exporter": "python",
      "pygments_lexer": "ipython3",
      "version": "3.9.13"
    },
    "colab": {
      "provenance": []
    }
  },
  "nbformat": 4,
  "nbformat_minor": 5
}