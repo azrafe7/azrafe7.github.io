{
  "cells": [
    {
      "cell_type": "code",
      "execution_count": 28,
      "id": "58bf4eb3",
      "metadata": {
        "colab": {
          "base_uri": "https://localhost:8080/",
          "height": 346
        },
        "id": "58bf4eb3",
        "outputId": "4b4c0c8e-ebd0-4689-a9d6-b957295464b2"
      },
      "outputs": [
        {
          "output_type": "stream",
          "name": "stdout",
          "text": [
            "Looking in indexes: https://pypi.org/simple, https://us-python.pkg.dev/colab-wheels/public/simple/\n",
            "Requirement already satisfied: anvil-uplink in /usr/local/lib/python3.10/dist-packages (0.4.2)\n",
            "Collecting argparse (from anvil-uplink)\n",
            "  Using cached argparse-1.4.0-py2.py3-none-any.whl (23 kB)\n",
            "Requirement already satisfied: future in /usr/local/lib/python3.10/dist-packages (from anvil-uplink) (0.18.3)\n",
            "Requirement already satisfied: six in /usr/local/lib/python3.10/dist-packages (from anvil-uplink) (1.16.0)\n",
            "Requirement already satisfied: ws4py in /usr/local/lib/python3.10/dist-packages (from anvil-uplink) (0.5.1)\n",
            "Installing collected packages: argparse\n",
            "Successfully installed argparse-1.4.0\n"
          ]
        },
        {
          "output_type": "display_data",
          "data": {
            "application/vnd.colab-display-data+json": {
              "pip_warning": {
                "packages": [
                  "argparse"
                ]
              }
            }
          },
          "metadata": {}
        },
        {
          "output_type": "stream",
          "name": "stdout",
          "text": [
            "Disconnecting from previous connection first...\n",
            "Connecting to wss://anvil.works/uplink\n",
            "Anvil websocket closed (code 1000, reason=b'')\n",
            "Anvil websocket open\n",
            "Connected to \"Debug for azrafe7@gmail.com\" as SERVER\n"
          ]
        }
      ],
      "source": [
        "!pip install anvil-uplink\n",
        "import anvil.server\n",
        "\n",
        "anvil.server.connect(\"server_AWZDTJC7ELLLWKQJM7XSDOUT-QMTVJN4LDJALI4EQ\")\n",
        "\n",
        "# constansts\n",
        "\n",
        "START_WORD_LENGTH = 6\n",
        "\n",
        "MIN_WORD_LENGTH = 3\n",
        "MAX_WORD_LENGTH = 8\n",
        "\n",
        "NUM_STEPS = 8\n",
        "MIN_STEPS = 5\n"
      ]
    },
    {
      "cell_type": "code",
      "execution_count": 29,
      "id": "c66edbee",
      "metadata": {
        "colab": {
          "base_uri": "https://localhost:8080/"
        },
        "id": "c66edbee",
        "outputId": "34aad1e3-1a55-48a5-b2e2-e23759a2f1b8"
      },
      "outputs": [
        {
          "output_type": "stream",
          "name": "stdout",
          "text": [
            "Dictionary loaded in 0.41s\n",
            "202685/710993\n",
            "['ABABUA', 'ABACA', 'ABACETI', 'ABACETO', 'ABACHI', 'ABACISTA', 'ABACISTI', 'ABACO', 'ABADESSA', 'ABADESSE']\n"
          ]
        }
      ],
      "source": [
        "import requests\n",
        "import time\n",
        "\n",
        "dictionaryFileName = 'assets/dictionary_FULL_IT.txt'\n",
        "dictionaryFileName = 'assets/Ita.txt'\n",
        "\n",
        "    \n",
        "def normalizeWord(word):\n",
        "    return word.upper()\n",
        "    \n",
        "LOAD_FROM_URL = True\n",
        "\n",
        "t0 = time.time()\n",
        "\n",
        "lines = []\n",
        "if LOAD_FROM_URL:\n",
        "    baseUrl = 'https://azrafe7.github.io/'\n",
        "    f = requests.get(baseUrl + dictionaryFileName)\n",
        "    lines = f.text.splitlines()\n",
        "else:\n",
        "    with open(dictionaryFileName) as f:\n",
        "        lines = f.read().splitlines()\n",
        "\n",
        "filteredWords = []\n",
        "for line in lines:\n",
        "    length = len(line)\n",
        "    if length >= MIN_WORD_LENGTH and length <= MAX_WORD_LENGTH:\n",
        "        filteredWords.append(normalizeWord(line))\n",
        "\n",
        "print(\"Dictionary loaded in {0:.2f}s\".format(time.time() - t0))\n",
        "\n",
        "print('{0}/{1}'.format(len(filteredWords), len(lines)))\n",
        "\n",
        "print(filteredWords[:10])"
      ]
    },
    {
      "cell_type": "code",
      "execution_count": 30,
      "id": "9722fc02",
      "metadata": {
        "colab": {
          "base_uri": "https://localhost:8080/"
        },
        "id": "9722fc02",
        "outputId": "4ce7b140-5a91-46c6-92ed-04f8575a3ff3"
      },
      "outputs": [
        {
          "output_type": "execute_result",
          "data": {
            "text/plain": [
              "23552"
            ]
          },
          "metadata": {},
          "execution_count": 30
        }
      ],
      "source": [
        "\n",
        "\n",
        "def wordsOfLength(length=5):\n",
        "    return [word for word in filteredWords if len(word) == length]\n",
        "\n",
        "len(list(wordsOfLength(START_WORD_LENGTH)))\n"
      ]
    },
    {
      "cell_type": "code",
      "execution_count": 31,
      "id": "61cf18e7",
      "metadata": {
        "colab": {
          "base_uri": "https://localhost:8080/"
        },
        "id": "61cf18e7",
        "outputId": "d9436cd3-31d5-4bfe-ac55-9e95dc9027df"
      },
      "outputs": [
        {
          "output_type": "stream",
          "name": "stdout",
          "text": [
            "isAnagram(\"ostra\", \"motri\")\n",
            "False\n"
          ]
        }
      ],
      "source": [
        "\n",
        "def isAnagram(sourceWord, targetWord):\n",
        "    if len(sourceWord) != len(targetWord):\n",
        "        return False\n",
        "    \n",
        "    res = True\n",
        "    \n",
        "    sourceCharSet = list(sourceWord)\n",
        "    targetCharSet = list(targetWord)\n",
        "    \n",
        "    #print(targetCharSet)\n",
        "    for i, ch in enumerate(sourceWord):\n",
        "        #print(ch, targetCharSet)\n",
        "        if ch in targetCharSet:\n",
        "            targetCharSet.remove(ch)\n",
        "        else:\n",
        "            res = False\n",
        "            break\n",
        "    \n",
        "    return res\n",
        "    \n",
        "        \n",
        "assert(isAnagram('', ''))\n",
        "assert(not isAnagram('corto', 'trOca'))\n",
        "assert(not isAnagram('c', ''))\n",
        "assert(isAnagram('cortao', 'trocao'))\n",
        "\n",
        "srcWord = 'ostra'\n",
        "dstWord ='motri'\n",
        "\n",
        "print('isAnagram(\"{0}\", \"{1}\")'.format(srcWord, dstWord))\n",
        "print(isAnagram(srcWord, dstWord))"
      ]
    },
    {
      "cell_type": "code",
      "execution_count": 32,
      "id": "58c3fde5",
      "metadata": {
        "colab": {
          "base_uri": "https://localhost:8080/"
        },
        "id": "58c3fde5",
        "outputId": "dd326087-51fe-4844-c776-5d08f89b4bf4"
      },
      "outputs": [
        {
          "output_type": "stream",
          "name": "stdout",
          "text": [
            "isAnagramEx(\"straccio\", \"crosta\", 2)\n",
            "True\n"
          ]
        }
      ],
      "source": [
        "def isAnagramEx(sourceWord, targetWord, maxDiffLength=0, strict=False):\n",
        "    if maxDiffLength == 0:\n",
        "        return isAnagram(sourceWord, targetWord)\n",
        "    else:\n",
        "        wordDiffLength = abs(len(sourceWord) - len(targetWord))\n",
        "        if wordDiffLength > maxDiffLength:\n",
        "            return False\n",
        "        \n",
        "    sourceCharSet = list(sourceWord)\n",
        "    targetCharSet = list(targetWord)\n",
        "    \n",
        "    if len(sourceCharSet) > len(targetCharSet):\n",
        "        sourceCharSet, targetCharSet = targetCharSet, sourceCharSet\n",
        "        \n",
        "    #print(targetCharSet, sourceCharSet)\n",
        "    for ch in sourceCharSet:\n",
        "        #print(ch, targetCharSet)\n",
        "        if ch in targetCharSet:\n",
        "            targetCharSet.remove(ch)\n",
        "    \n",
        "    #print(targetCharSet)\n",
        "    targetCharSetLength = len(targetCharSet)\n",
        "    #print(wordDiffLength, targetCharSet)\n",
        "    isLooseAnagram = (targetCharSetLength <= maxDiffLength)\n",
        "    res = (not strict and isLooseAnagram) or (strict and isLooseAnagram and wordDiffLength == maxDiffLength)\n",
        "    return res\n",
        "    \n",
        "        \n",
        "maxDiffLength=2\n",
        "\n",
        "assert(isAnagramEx('', ''))\n",
        "assert(not isAnagramEx('corto', 'trOca'))\n",
        "assert(not isAnagramEx('c', ''))\n",
        "assert(isAnagramEx('cortao', 'trocao'))\n",
        "assert(isAnagramEx('cortao', 'trocaox', 1))\n",
        "assert(not isAnagramEx('strappo', 'posta', 1))\n",
        "assert(isAnagramEx('strappo', 'posta', 2))\n",
        "assert(isAnagramEx('strappo', 'posta', 3))\n",
        "assert(not isAnagramEx('strappo', 'posta', 3, strict=True))\n",
        "assert(isAnagramEx('strappo', 'posta', 2, strict=True))\n",
        "assert(isAnagramEx('LEVI', 'ABILE', 2,))\n",
        "assert(not isAnagramEx('TUFFAI', 'ABACA', 2,))\n",
        "\n",
        "\n",
        "srcWord = 'straccio'\n",
        "dstWord ='crosta'\n",
        "\n",
        "print('isAnagramEx(\"{0}\", \"{1}\", {2})'.format(srcWord, dstWord, maxDiffLength))\n",
        "print(isAnagramEx(srcWord, dstWord, maxDiffLength=maxDiffLength))\n"
      ]
    },
    {
      "cell_type": "code",
      "execution_count": 33,
      "id": "b03898fd",
      "metadata": {
        "colab": {
          "base_uri": "https://localhost:8080/"
        },
        "id": "b03898fd",
        "outputId": "2fefa211-61c9-4d2b-c428-ea7091976c83"
      },
      "outputs": [
        {
          "output_type": "stream",
          "name": "stdout",
          "text": [
            "Build took 1.78132 s\n",
            "Read 202685 words into 327088 nodes\n",
            "Search took 0.449069 s\n"
          ]
        }
      ],
      "source": [
        "# http://stevehanov.ca/blog/index.php?id=114\n",
        "# By Steve Hanov, 2011. Released to the public domain\n",
        "import time\n",
        "import sys\n",
        "\n",
        "DICTIONARY = \"/usr/share/dict/words\";\n",
        "TARGET = \"SCORTA\"\n",
        "MAX_COST = 4\n",
        "\n",
        "# Keep some interesting statistics\n",
        "NodeCount = 0\n",
        "WordCount = 0\n",
        "\n",
        "# The Trie data structure keeps a set of words, organized with one node for\n",
        "# each letter. Each node has a branch for each letter that may follow it in the\n",
        "# set of words.\n",
        "class TrieNode:\n",
        "    def __init__(self):\n",
        "        self.word = None\n",
        "        self.children = {}\n",
        "\n",
        "        global NodeCount\n",
        "        NodeCount += 1\n",
        "\n",
        "    def insert( self, word ):\n",
        "        node = self\n",
        "        for letter in word:\n",
        "            if letter not in node.children: \n",
        "                node.children[letter] = TrieNode()\n",
        "\n",
        "            node = node.children[letter]\n",
        "\n",
        "        node.word = word\n",
        "\n",
        "# read dictionary file into a trie\n",
        "start = time.time()\n",
        "\n",
        "trie = TrieNode()\n",
        "for word in filteredWords:\n",
        "    WordCount += 1\n",
        "    trie.insert( word )\n",
        "\n",
        "end = time.time()\n",
        "print(\"Build took %g s\" % (end - start))\n",
        "\n",
        "print(\"Read %d words into %d nodes\" % (WordCount, NodeCount))\n",
        "\n",
        "# The search function returns a list of all words that are less than the given\n",
        "# maximum distance from the target word\n",
        "def search( word, maxCost ):\n",
        "\n",
        "    # build first row\n",
        "    currentRow = range( len(word) + 1 )\n",
        "\n",
        "    results = []\n",
        "\n",
        "    # recursively search each branch of the trie\n",
        "    for letter in trie.children:\n",
        "        searchRecursive( trie.children[letter], letter, word, currentRow, \n",
        "            results, maxCost )\n",
        "\n",
        "    return results\n",
        "\n",
        "# This recursive helper is used by the search function above. It assumes that\n",
        "# the previousRow has been filled in already.\n",
        "def searchRecursive( node, letter, word, previousRow, results, maxCost ):\n",
        "\n",
        "    columns = len( word ) + 1\n",
        "    currentRow = [ previousRow[0] + 1 ]\n",
        "\n",
        "    # Build one row for the letter, with a column for each letter in the target\n",
        "    # word, plus one for the empty string at column 0\n",
        "    for column in range( 1, columns ):\n",
        "\n",
        "        insertCost = currentRow[column - 1] + 1\n",
        "        deleteCost = previousRow[column] + 1\n",
        "\n",
        "        if word[column - 1] != letter:\n",
        "            replaceCost = previousRow[ column - 1 ] + 1\n",
        "        else:                \n",
        "            replaceCost = previousRow[ column - 1 ]\n",
        "\n",
        "        currentRow.append( min( insertCost, deleteCost, replaceCost ) )\n",
        "\n",
        "    # if the last entry in the row indicates the optimal cost is less than the\n",
        "    # maximum cost, and there is a word in this trie node, then add it.\n",
        "    if currentRow[-1] <= maxCost and node.word != None:\n",
        "        results.append( (node.word, currentRow[-1] ) )\n",
        "\n",
        "    # if any entries in the row are less than the maximum cost, then \n",
        "    # recursively search each branch of the trie\n",
        "    if min( currentRow ) <= maxCost:\n",
        "        for letter in node.children:\n",
        "            searchRecursive( node.children[letter], letter, word, currentRow, \n",
        "                results, maxCost )\n",
        "\n",
        "start = time.time()\n",
        "results = search( TARGET, MAX_COST )\n",
        "end = time.time()\n",
        "\n",
        "#for result in results: print(result)\n",
        "\n",
        "print(\"Search took %g s\" % (end - start))\n",
        "\n"
      ]
    },
    {
      "cell_type": "code",
      "execution_count": 34,
      "id": "4f36e052",
      "metadata": {
        "colab": {
          "base_uri": "https://localhost:8080/"
        },
        "id": "4f36e052",
        "outputId": "0566b608-7e1e-4d8a-99e4-fc475f9868a8"
      },
      "outputs": [
        {
          "output_type": "stream",
          "name": "stdout",
          "text": [
            "START WORD: SCOZZATO\n",
            "Search took 0.190583 s\n",
            "END WORD: ('SMOTTATO', 3)\n"
          ]
        }
      ],
      "source": [
        "import random\n",
        "\n",
        "startWord = random.choice(filteredWords)\n",
        "print(\"START WORD:\", startWord)\n",
        "\n",
        "start = time.time()\n",
        "results = search(startWord, 3)\n",
        "end = time.time()\n",
        "\n",
        "print(\"Search took %g s\" % (end - start))\n",
        "\n",
        "validEndWord = random.choice(results)\n",
        "\n",
        "print(\"END WORD:\", validEndWord)\n"
      ]
    },
    {
      "cell_type": "code",
      "execution_count": 35,
      "id": "07dc857e",
      "metadata": {
        "id": "07dc857e"
      },
      "outputs": [],
      "source": [
        "def findAnagramsEx(wordList, word, maxDiffLength=1, strict=False):\n",
        "    results = []\n",
        "    wordLength = len(word)\n",
        "    for entry in wordList:\n",
        "        entryLength = len(entry)\n",
        "        if word == entry or entryLength < wordLength - maxDiffLength or entryLength > wordLength + maxDiffLength:\n",
        "            continue\n",
        "        if isAnagramEx(entry, word, maxDiffLength=maxDiffLength, strict=strict):\n",
        "            diffLength = abs(len(entry) - len(word))\n",
        "            results.append((entry, diffLength))\n",
        "    \n",
        "    return results\n"
      ]
    },
    {
      "cell_type": "code",
      "execution_count": 35,
      "id": "c1b41586",
      "metadata": {
        "id": "c1b41586"
      },
      "outputs": [],
      "source": []
    },
    {
      "cell_type": "code",
      "execution_count": 36,
      "id": "97032888",
      "metadata": {
        "colab": {
          "base_uri": "https://localhost:8080/"
        },
        "id": "97032888",
        "outputId": "6805c7e1-7b20-4bbc-d5a0-cd1cb4621acc"
      },
      "outputs": [
        {
          "output_type": "stream",
          "name": "stdout",
          "text": [
            "START WORD: SCOZZATO\n",
            "[('APEIRON', 0), ('APIRANO', 0), ('APIRENO', 0), ('APPINZO', 0), ('ARPIONA', 0), ('ARPIONE', 0), ('ARPIONI', 0), ('ARPIONO', 0), ('ARPONAI', 0), ('ARPONI', 1), ('ARRONZI', 0), ('ASPRINO', 0), ('AZIONAR', 0), ('BRONZAI', 0), ('CAPRINO', 0), ('CAPRONI', 0), ('CARPINO', 0), ('CARPONI', 0), ('CIARPON', 0), ('EPIZONA', 0), ('ERZIANO', 0), ('GARZINO', 0), ('GARZONI', 0), ('GIRONZA', 0), ('GRAZINO', 0), ('INASPRO', 0), ('INFORZA', 0), ('MARPION', 0), ('NAZIREO', 0), ('OPERINA', 0), ('OPINAR', 1), ('OPINARE', 0), ('OPINERA', 0), ('OPUNZIA', 0), ('OPZIONA', 0), ('OPZIONAR', 1), ('ORZANTI', 0), ('OZIARNE', 0), ('PADRINO', 0), ('PADRONI', 0), ('PANARIO', 0), ('PANDORI', 0), ('PANIZZO', 0), ('PANZONI', 0), ('PARAZONI', 1), ('PARIANO', 0), ('PARINO', 1), ('PARLINO', 0), ('PARTONI', 0), ('PATRONI', 0), ('PAZZINO', 0), ('PIANERO', 0), ('PIANORI', 0), ('PIANORO', 0), ('PIARONO', 0), ('PIGNORA', 0), ('PIGRONA', 0), ('PILONAR', 0), ('PINZALO', 0), ('PINZANO', 0), ('PINZAR', 1), ('PINZARE', 0), ('PINZARLO', 1), ('PINZATO', 0), ('PINZAVO', 0), ('PINZERA', 0), ('PINZERO', 0), ('PIRANO', 1), ('PIRLONA', 0), ('PIZZANO', 0), ('PIZZONA', 0), ('POCANZI', 0), ('PONZACI', 0), ('PONZAI', 1), ('PONZALI', 0), ('PONZAMI', 0), ('PONZAR', 1), ('PONZARCI', 1), ('PONZARE', 0), ('PONZARLI', 1), ('PONZARMI', 1), ('PONZARSI', 1), ('PONZARTI', 1), ('PONZARVI', 1), ('PONZATI', 0), ('PONZAVI', 0), ('PONZERA', 0), ('PONZERAI', 1), ('PORCINA', 0), ('PORFINA', 0), ('PORTINA', 0), ('PORZANA', 0), ('PORZANE', 0), ('PORZIONA', 1), ('PRADINO', 0), ('PRALINO', 0), ('PRANDIO', 0), ('PRANICO', 0), ('PRANZAI', 0), ('PRANZI', 1), ('PRANZINO', 1), ('PRANZO', 1), ('PRANZONI', 1), ('PRASINO', 0), ('PRATINO', 0), ('PRATONI', 0), ('PRIMANO', 0), ('PRITANO', 0), ('PRIVANO', 0), ('PROCAZI', 0), ('PRODINA', 0), ('PROFANI', 0), ('PROLINA', 0), ('PROMANI', 0), ('PRONAI', 1), ('PRONITA', 0), ('PRONTAI', 0), ('PROPANI', 0), ('PROPINA', 0), ('PROVINA', 0), ('PROZIA', 1), ('PRUNAIO', 0), ('RAMPINO', 0), ('RAMPONI', 0), ('RAPINO', 1), ('RAPONI', 1), ('RASPINO', 0), ('RAZIONA', 0), ('RAZIONE', 0), ('RAZIONI', 0), ('RAZIONO', 0), ('RAZZINO', 0), ('REZIANO', 0), ('RIDANZO', 0), ('RIMPANO', 0), ('RIPIANO', 0), ('RIPONGA', 0), ('RIPONZAI', 1), ('RIPONZAR', 1), ('RIPONZI', 0), ('RIPONZO', 0), ('RIPRANZO', 1), ('RIZAPPO', 0), ('RIZZANO', 0), ('ROMANZI', 0), ('RONZACI', 0), ('RONZAI', 1), ('RONZAMI', 0), ('RONZATI', 0), ('RONZAVI', 0), ('ROSPINA', 0), ('ROTZANI', 0), ('SOPRANI', 0), ('SPARINO', 0), ('SPAZINO', 0), ('SPIONAR', 0), ('SPIRANO', 0), ('SPRONAI', 0), ('TARPINO', 0), ('TARPONI', 0), ('TIPONAR', 0), ('TRAPONI', 0), ('TROPINA', 0), ('UNIPARO', 0), ('ZAMPINO', 0), ('ZAMPONI', 0), ('ZAPPINO', 0), ('ZAPPONI', 0), ('ZARINO', 1), ('ZINGARO', 0), ('ZIPOLAR', 0), ('ZIPPANO', 0), ('ZIRLANO', 0), ('ZOANTRI', 0), ('ZONARCI', 0), ('ZONARI', 1), ('ZONARIA', 0), ('ZONARIE', 0), ('ZONARII', 0), ('ZONARIO', 0), ('ZONARLI', 0), ('ZONARMI', 0), ('ZONARSI', 0), ('ZONARTI', 0), ('ZONARVI', 0), ('ZONERAI', 0), ('ZOPPINA', 0)]\n"
          ]
        }
      ],
      "source": [
        "import random\n",
        "\n",
        "newStartWord = random.choice(filteredWords)\n",
        "print(\"START WORD:\", startWord)\n",
        "\n",
        "anagramsDict = {0:[], 1:[], 2:[]}\n",
        "randomFilteredWords = filteredWords[:]\n",
        "random.shuffle(filteredWords[:])\n",
        "randomFilteredWords = sorted(randomFilteredWords)\n",
        "\n",
        "anagrams = findAnagramsEx(randomFilteredWords, newStartWord, maxDiffLength=1, strict=False)\n",
        "for anagram in anagrams:\n",
        "    anagramsDict[anagram[1]].append(anagram[0])\n",
        "    \n",
        "print(anagrams)\n",
        "#print(anagramsDict[0][:10])"
      ]
    },
    {
      "cell_type": "code",
      "execution_count": 37,
      "id": "f203e9f3",
      "metadata": {
        "colab": {
          "base_uri": "https://localhost:8080/"
        },
        "id": "f203e9f3",
        "outputId": "b2ace1a0-382d-4a0a-b564-1e189e9e7a3c"
      },
      "outputs": [
        {
          "output_type": "stream",
          "name": "stdout",
          "text": [
            "['ARPONI', 'OPINAR', 'OPZIONAR', 'PARAZONI', 'PARINO', 'PINZAR', 'PINZARLO', 'PIRANO', 'PONZAI', 'PONZAR', 'PONZARCI', 'PONZARLI', 'PONZARMI', 'PONZARSI', 'PONZARTI', 'PONZARVI', 'PONZERAI', 'PORZIONA', 'PRANZI', 'PRANZINO', 'PRANZO', 'PRANZONI', 'PRONAI', 'PROZIA', 'RAPINO', 'RAPONI', 'RIPONZAI', 'RIPONZAR', 'RIPRANZO', 'RONZAI', 'ZARINO', 'ZONARI']\n"
          ]
        }
      ],
      "source": [
        "print(anagramsDict[1])"
      ]
    },
    {
      "cell_type": "code",
      "execution_count": 38,
      "id": "57b8bafa",
      "metadata": {
        "colab": {
          "base_uri": "https://localhost:8080/"
        },
        "id": "57b8bafa",
        "outputId": "9acc6a4b-55cd-4835-bc79-17d6132f95ab"
      },
      "outputs": [
        {
          "output_type": "stream",
          "name": "stdout",
          "text": [
            "START WORD: LIBBRA\n",
            "Finding anagrams... (0.38)\n",
            "('LABRI', 1) 16 anagram\n",
            "Finding anagrams... (0.16)\n",
            "('ALBI', 1) 42 anagram\n",
            "Finding levenshtein... (0.01)\n",
            "('ALAI', 1) 21 levenshtein\n",
            "Finding levenshtein... (0.01)\n",
            "('ALDI', 1) 28 levenshtein\n",
            "Finding levenshtein... (0.01)\n",
            "('ALMI', 1) 20 levenshtein\n",
            "Finding levenshtein... (0.01)\n",
            "('ALSI', 1) 23 levenshtein\n",
            "restart False\n",
            "\n",
            "END WORD: ALSI\n",
            "Elapsed 0.63s\n"
          ]
        }
      ],
      "source": [
        "import time\n",
        "\n",
        "def generateChain(quiet=False, startWord=None, strict=False):\n",
        "    startWords = wordsOfLength(START_WORD_LENGTH)\n",
        "    \n",
        "    restart = True\n",
        "    \n",
        "    while restart:\n",
        "        restart = False\n",
        "        startWord = random.choice(startWords)\n",
        "        print(\"START WORD:\", startWord)\n",
        "    \n",
        "        steps = [startWord]\n",
        "    \n",
        "        prevStep = (startWord, 0)\n",
        "        #self.info.text = \"\"\n",
        "        for i in range(6):\n",
        "            choice = random.choice([\"anagram\", \"levenshtein\"])\n",
        "            if choice == \"anagram\":\n",
        "                if not quiet: print(\"Finding anagrams...\", end=\"\")\n",
        "                startTime = time.time()\n",
        "                anagrams = findAnagramsEx(filteredWords, prevStep[0], maxDiffLength=1, strict=strict)\n",
        "                if not quiet: print(\" ({0:.2f})\".format(time.time() - startTime))\n",
        "                if len(anagrams) < 10 and i < MIN_STEPS:\n",
        "                    restart = True\n",
        "                    print(choice, len(anagrams))\n",
        "                    break\n",
        "            else:\n",
        "                if not quiet: print(\"Finding levenshtein...\", end=\"\")\n",
        "                startTime = time.time()\n",
        "                results = search(prevStep[0], 1)\n",
        "                if not quiet: print(\" ({0:.2f})\".format(time.time() - startTime))\n",
        "                if len(results) < 10 and i < MIN_STEPS:\n",
        "                    restart = True\n",
        "                    print(choice, len(results))\n",
        "                    break\n",
        "                    \n",
        "            done = False\n",
        "            while not done:\n",
        "                if choice == \"anagram\":\n",
        "                    nextStep = random.choice(anagrams)\n",
        "                else:\n",
        "                    nextStep = random.choice(results)\n",
        "    \n",
        "                if nextStep[0] not in steps:\n",
        "                    steps.append(nextStep[0])\n",
        "                    done = True\n",
        "    \n",
        "            resultsCount = len(results) if choice == \"levenshtein\" else len(anagrams)\n",
        "            if not quiet: print(nextStep, resultsCount, choice)\n",
        "            prevStep = nextStep\n",
        "    \n",
        "        print(\"restart\", restart)\n",
        "        print()\n",
        "    \n",
        "    endWord = steps[-1]\n",
        "    print(\"END WORD:\", endWord)  \n",
        "    return steps\n",
        "\n",
        "t0 = time.time()\n",
        "steps = generateChain(startWord=None, strict=True)\n",
        "print(\"Elapsed {0:.2f}s\".format(time.time() - t0))\n",
        "\n",
        "startWord = steps[0]\n",
        "endWord = steps[-1]"
      ]
    },
    {
      "cell_type": "code",
      "execution_count": 39,
      "id": "11692f09",
      "metadata": {
        "colab": {
          "base_uri": "https://localhost:8080/"
        },
        "id": "11692f09",
        "outputId": "2afb0dca-9e39-43ec-affe-adfdfb70a0ad"
      },
      "outputs": [
        {
          "output_type": "stream",
          "name": "stdout",
          "text": [
            "START WORD: LIBBRA\n",
            "END WORD  : ALSI\n"
          ]
        }
      ],
      "source": [
        "def isInDictionary(word):\n",
        "    results = search(word, 0)\n",
        "    return len(results) > 0\n",
        "\n",
        "class WordStatus():\n",
        "  UNCHECKED = 0\n",
        "  VALID = 1\n",
        "  INVALID = 2\n",
        "  NOT_IN_DICT = 3\n",
        "\n",
        "def checkValidChain(startWord, endWord, wordChain):\n",
        "    prevWord = startWord\n",
        "    isOk = True\n",
        "    statuses = []\n",
        "    for word in wordChain + [endWord]:\n",
        "        inDictionary = isInDictionary(word)\n",
        "        results = [t[0] for t in search(prevWord, 1)]\n",
        "        anagrams = [t[0] for t in findAnagramsEx(filteredWords, prevWord, maxDiffLength=1, strict=False)]\n",
        "        isWordOk = inDictionary and (word in results or word in anagrams) \n",
        "        if not inDictionary:\n",
        "            print(\"✖️\", word)\n",
        "            statuses.append(WordStatus.NOT_IN_DICT)\n",
        "        else:\n",
        "            print(\"✔️\" if isWordOk else \"❌\", word)\n",
        "            statuses.append(WordStatus.VALID if isWordOk else WordStatus.INVALID)\n",
        "        \n",
        "        if not isWordOk:\n",
        "            isOk = False\n",
        "        prevWord = word\n",
        "\n",
        "    return isOk, statuses\n",
        "            \n",
        "print(\"START WORD:\", startWord)\n",
        "print(\"END WORD  :\", endWord)"
      ]
    },
    {
      "cell_type": "code",
      "execution_count": 40,
      "id": "e40e0b2d",
      "metadata": {
        "id": "e40e0b2d"
      },
      "outputs": [],
      "source": [
        "def displayCheckValidChain(startWord, endWord, wordChain):\n",
        "    print()\n",
        "    print(startWord)\n",
        "    ok, statuses = checkValidChain(startWord, endWord, wordChain)\n",
        "    print(endWord)\n",
        "\n",
        "    print()\n",
        "    print(\"👍 WON\" if ok else \"👎 LOST\")\n",
        "\n",
        "    print()\n"
      ]
    },
    {
      "cell_type": "code",
      "execution_count": 41,
      "id": "b13ddaf0",
      "metadata": {
        "colab": {
          "base_uri": "https://localhost:8080/"
        },
        "id": "b13ddaf0",
        "outputId": "f7c77f6b-b885-4a74-e6cc-9a17c0f18f33"
      },
      "outputs": [
        {
          "output_type": "stream",
          "name": "stdout",
          "text": [
            "START WORD: FUSONE\n",
            "levenshtein 7\n",
            "restart True\n",
            "\n",
            "START WORD: VANUME\n",
            "levenshtein 2\n",
            "restart True\n",
            "\n",
            "START WORD: VIVACE\n",
            "levenshtein 8\n",
            "restart True\n",
            "\n",
            "START WORD: ANGELI\n",
            "levenshtein 6\n",
            "restart True\n",
            "\n",
            "START WORD: GAMETI\n",
            "restart False\n",
            "\n",
            "END WORD: ESENTALI\n",
            "\n",
            "Generate 1.83s\n",
            "START WORD: GAMETI\n",
            "END WORD  : ESENTALI\n"
          ]
        }
      ],
      "source": [
        "# regenerate start/end words\n",
        "t0 = time.time()\n",
        "steps = generateChain(quiet=True, startWord='piccolo')\n",
        "print(\"\\nGenerate {0:.2f}s\".format(time.time() - t0))\n",
        "\n",
        "startWord = steps[0]\n",
        "endWord = steps[-1]\n",
        "\n",
        "print(\"START WORD:\", startWord)\n",
        "print(\"END WORD  :\", endWord)"
      ]
    },
    {
      "cell_type": "code",
      "execution_count": 42,
      "id": "510ee2b5",
      "metadata": {
        "scrolled": true,
        "colab": {
          "base_uri": "https://localhost:8080/"
        },
        "id": "510ee2b5",
        "outputId": "7b6f0011-7da4-4618-d3ab-61fc18eddf92"
      },
      "outputs": [
        {
          "output_type": "stream",
          "name": "stdout",
          "text": [
            "\n",
            "GAMETI\n",
            "❌ PANTERA\n",
            "❌ PENTOLA\n",
            "✖️ PANTOFOLA\n",
            "❌ OSTERIA\n",
            "❌ RISTORAI\n",
            "❌ PIANTALA\n",
            "❌ ESENTALI\n",
            "ESENTALI\n",
            "\n",
            "👎 LOST\n",
            "\n",
            "Validate 2.48s\n"
          ]
        }
      ],
      "source": [
        "wordChain = [\n",
        "    'pantera',\n",
        "    'pentola',\n",
        "    'pantofola',\n",
        "    'osteria',\n",
        "    'ristorai',\n",
        "    'piantala',\n",
        "]\n",
        "wordChain = [w.strip().upper() for w in wordChain]\n",
        "#print(\"GUESS WORD CHAIN\", wordChain)\n",
        "\n",
        "t0 = time.time()\n",
        "displayCheckValidChain(startWord, endWord, wordChain)\n",
        "print(\"Validate {0:.2f}s\".format(time.time() - t0))"
      ]
    },
    {
      "cell_type": "code",
      "execution_count": 43,
      "id": "7659d980",
      "metadata": {
        "colab": {
          "base_uri": "https://localhost:8080/"
        },
        "id": "7659d980",
        "outputId": "d5bf6c33-095d-43c3-f47e-047313d7acd3"
      },
      "outputs": [
        {
          "output_type": "stream",
          "name": "stdout",
          "text": [
            "COMPUTED WORD CHAIN ['GAMETI', 'GAMETE', 'MESATE', 'MESTATE', 'MESTANTE', 'ESENTAMI', 'ESENTALI']\n"
          ]
        }
      ],
      "source": [
        "# STEPS\n",
        "\n",
        "print(\"COMPUTED WORD CHAIN\", steps)"
      ]
    },
    {
      "cell_type": "code",
      "execution_count": 44,
      "id": "783783ce",
      "metadata": {
        "colab": {
          "base_uri": "https://localhost:8080/"
        },
        "id": "783783ce",
        "outputId": "31fef3bd-7a74-42e8-e972-4010728640d9"
      },
      "outputs": [
        {
          "output_type": "execute_result",
          "data": {
            "text/plain": [
              "[('MUOVI', 0)]"
            ]
          },
          "metadata": {},
          "execution_count": 44
        }
      ],
      "source": [
        "# find in dictionary\n",
        "\n",
        "findWord = 'muovi'\n",
        "\n",
        "search(findWord.strip().upper(), 0)\n"
      ]
    },
    {
      "cell_type": "code",
      "source": [
        "print([hex(ord(ch)) for ch in \"✖️\"])\n",
        "print([hex(ord(ch)) for ch in \"✔️\"])\n",
        "print([hex(ord(ch)) for ch in \"❌\"])\n",
        "\"👍\"\n",
        "hex(ord(\"👎\"))"
      ],
      "metadata": {
        "id": "zxeuKIqdIM68",
        "outputId": "0a26bd80-0fc7-4442-96c4-df3b366e85a9",
        "colab": {
          "base_uri": "https://localhost:8080/",
          "height": 87
        }
      },
      "id": "zxeuKIqdIM68",
      "execution_count": 45,
      "outputs": [
        {
          "output_type": "stream",
          "name": "stdout",
          "text": [
            "['0x2716', '0xfe0f']\n",
            "['0x2714', '0xfe0f']\n",
            "['0x274c']\n"
          ]
        },
        {
          "output_type": "execute_result",
          "data": {
            "text/plain": [
              "'0x1f44e'"
            ],
            "application/vnd.google.colaboratory.intrinsic+json": {
              "type": "string"
            }
          },
          "metadata": {},
          "execution_count": 45
        }
      ]
    },
    {
      "cell_type": "code",
      "source": [
        "@anvil.server.callable\n",
        "def srvGenerateWordChain(quiet=True, startWord=None, strict=True):\n",
        "  steps = generateChain(quiet=quiet, startWord=startWord, strict=strict)\n",
        "  return steps\n",
        "\n",
        "@anvil.server.callable\n",
        "def srvValidateChain(startWord, endWord, wordChain):\n",
        "  isOk, statuses = checkValidChain(startWord, endWord, wordChain)\n",
        "  return isOk, statuses\n",
        "\n"
      ],
      "metadata": {
        "id": "kHDjlRX9O7Jm"
      },
      "id": "kHDjlRX9O7Jm",
      "execution_count": 46,
      "outputs": []
    },
    {
      "cell_type": "code",
      "source": [
        "anvil.server.wait_forever()"
      ],
      "metadata": {
        "id": "bNPfNb8IPEga"
      },
      "id": "bNPfNb8IPEga",
      "execution_count": null,
      "outputs": []
    }
  ],
  "metadata": {
    "kernelspec": {
      "display_name": "Python 3 (ipykernel)",
      "language": "python",
      "name": "python3"
    },
    "language_info": {
      "codemirror_mode": {
        "name": "ipython",
        "version": 3
      },
      "file_extension": ".py",
      "mimetype": "text/x-python",
      "name": "python",
      "nbconvert_exporter": "python",
      "pygments_lexer": "ipython3",
      "version": "3.9.13"
    },
    "colab": {
      "provenance": []
    }
  },
  "nbformat": 4,
  "nbformat_minor": 5
}