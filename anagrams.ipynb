{
  "cells": [
    {
      "cell_type": "code",
      "execution_count": 24,
      "id": "58bf4eb3",
      "metadata": {
        "colab": {
          "base_uri": "https://localhost:8080/",
          "height": 279
        },
        "id": "58bf4eb3",
        "outputId": "699b7101-5ac7-42a2-b28c-04f9b4bdaad1"
      },
      "outputs": [
        {
          "output_type": "stream",
          "name": "stdout",
          "text": [
            "Looking in indexes: https://pypi.org/simple, https://us-python.pkg.dev/colab-wheels/public/simple/\n",
            "Requirement already satisfied: anvil-uplink in /usr/local/lib/python3.10/dist-packages (0.4.2)\n",
            "Collecting argparse (from anvil-uplink)\n",
            "  Using cached argparse-1.4.0-py2.py3-none-any.whl (23 kB)\n",
            "Requirement already satisfied: future in /usr/local/lib/python3.10/dist-packages (from anvil-uplink) (0.18.3)\n",
            "Requirement already satisfied: six in /usr/local/lib/python3.10/dist-packages (from anvil-uplink) (1.16.0)\n",
            "Requirement already satisfied: ws4py in /usr/local/lib/python3.10/dist-packages (from anvil-uplink) (0.5.1)\n",
            "Installing collected packages: argparse\n",
            "Successfully installed argparse-1.4.0\n"
          ]
        },
        {
          "output_type": "display_data",
          "data": {
            "application/vnd.colab-display-data+json": {
              "pip_warning": {
                "packages": [
                  "argparse"
                ]
              }
            }
          },
          "metadata": {}
        }
      ],
      "source": [
        "!pip install anvil-uplink\n",
        "import anvil.server\n",
        "\n",
        "anvil.server.connect(\"server_H5MPGVFDTZF4ABQTJCMDVVHF-QMTVJN4LDJALI4EQ\")\n",
        "\n",
        "# constansts\n",
        "\n",
        "START_WORD_LENGTH = 6\n",
        "\n",
        "MIN_WORD_LENGTH = 3\n",
        "MAX_WORD_LENGTH = 8\n",
        "\n",
        "NUM_STEPS = 8\n",
        "MIN_STEPS = 5\n"
      ]
    },
    {
      "cell_type": "code",
      "execution_count": 25,
      "id": "c66edbee",
      "metadata": {
        "colab": {
          "base_uri": "https://localhost:8080/"
        },
        "id": "c66edbee",
        "outputId": "37f3ced9-a859-42e3-f3d3-d44d16bb6e95"
      },
      "outputs": [
        {
          "output_type": "stream",
          "name": "stdout",
          "text": [
            "Dictionary loaded in 0.71s\n",
            "202685/710993\n",
            "['ABABUA', 'ABACA', 'ABACETI', 'ABACETO', 'ABACHI', 'ABACISTA', 'ABACISTI', 'ABACO', 'ABADESSA', 'ABADESSE']\n"
          ]
        }
      ],
      "source": [
        "import requests\n",
        "import time\n",
        "\n",
        "dictionaryFileName = 'assets/dictionary_FULL_IT.txt'\n",
        "dictionaryFileName = 'assets/Ita.txt'\n",
        "\n",
        "    \n",
        "def normalizeWord(word):\n",
        "    return word.upper()\n",
        "    \n",
        "LOAD_FROM_URL = True\n",
        "\n",
        "t0 = time.time()\n",
        "\n",
        "lines = []\n",
        "if LOAD_FROM_URL:\n",
        "    baseUrl = 'https://azrafe7.github.io/'\n",
        "    f = requests.get(baseUrl + dictionaryFileName)\n",
        "    lines = f.text.splitlines()\n",
        "else:\n",
        "    with open(dictionaryFileName) as f:\n",
        "        lines = f.read().splitlines()\n",
        "\n",
        "filteredWords = []\n",
        "for line in lines:\n",
        "    length = len(line)\n",
        "    if length >= MIN_WORD_LENGTH and length <= MAX_WORD_LENGTH:\n",
        "        filteredWords.append(normalizeWord(line))\n",
        "\n",
        "print(\"Dictionary loaded in {0:.2f}s\".format(time.time() - t0))\n",
        "\n",
        "print('{0}/{1}'.format(len(filteredWords), len(lines)))\n",
        "\n",
        "print(filteredWords[:10])"
      ]
    },
    {
      "cell_type": "code",
      "execution_count": 26,
      "id": "9722fc02",
      "metadata": {
        "colab": {
          "base_uri": "https://localhost:8080/"
        },
        "id": "9722fc02",
        "outputId": "a37bb0e4-f1cb-456c-d0c3-2f14626a698b"
      },
      "outputs": [
        {
          "output_type": "execute_result",
          "data": {
            "text/plain": [
              "23552"
            ]
          },
          "metadata": {},
          "execution_count": 26
        }
      ],
      "source": [
        "\n",
        "\n",
        "def wordsOfLength(length=5):\n",
        "    return [word for word in filteredWords if len(word) == length]\n",
        "\n",
        "len(list(wordsOfLength(START_WORD_LENGTH)))\n"
      ]
    },
    {
      "cell_type": "code",
      "execution_count": 27,
      "id": "61cf18e7",
      "metadata": {
        "colab": {
          "base_uri": "https://localhost:8080/"
        },
        "id": "61cf18e7",
        "outputId": "d4870ab5-3eaa-46d0-efd9-8203394f191a"
      },
      "outputs": [
        {
          "output_type": "stream",
          "name": "stdout",
          "text": [
            "isAnagram(\"ostra\", \"motri\")\n",
            "False\n"
          ]
        }
      ],
      "source": [
        "\n",
        "def isAnagram(sourceWord, targetWord):\n",
        "    if len(sourceWord) != len(targetWord):\n",
        "        return False\n",
        "    \n",
        "    res = True\n",
        "    \n",
        "    sourceCharSet = list(sourceWord)\n",
        "    targetCharSet = list(targetWord)\n",
        "    \n",
        "    #print(targetCharSet)\n",
        "    for i, ch in enumerate(sourceWord):\n",
        "        #print(ch, targetCharSet)\n",
        "        if ch in targetCharSet:\n",
        "            targetCharSet.remove(ch)\n",
        "        else:\n",
        "            res = False\n",
        "            break\n",
        "    \n",
        "    return res\n",
        "    \n",
        "        \n",
        "assert(isAnagram('', ''))\n",
        "assert(not isAnagram('corto', 'trOca'))\n",
        "assert(not isAnagram('c', ''))\n",
        "assert(isAnagram('cortao', 'trocao'))\n",
        "\n",
        "srcWord = 'ostra'\n",
        "dstWord ='motri'\n",
        "\n",
        "print('isAnagram(\"{0}\", \"{1}\")'.format(srcWord, dstWord))\n",
        "print(isAnagram(srcWord, dstWord))"
      ]
    },
    {
      "cell_type": "code",
      "execution_count": 28,
      "id": "58c3fde5",
      "metadata": {
        "colab": {
          "base_uri": "https://localhost:8080/"
        },
        "id": "58c3fde5",
        "outputId": "d7f352bf-58fe-414a-e6a8-6635e50d3640"
      },
      "outputs": [
        {
          "output_type": "stream",
          "name": "stdout",
          "text": [
            "isAnagramEx(\"straccio\", \"crosta\", 2)\n",
            "True\n"
          ]
        }
      ],
      "source": [
        "def isAnagramEx(sourceWord, targetWord, maxDiffLength=0, strict=False):\n",
        "    if maxDiffLength == 0:\n",
        "        return isAnagram(sourceWord, targetWord)\n",
        "    else:\n",
        "        wordDiffLength = abs(len(sourceWord) - len(targetWord))\n",
        "        if wordDiffLength > maxDiffLength:\n",
        "            return False\n",
        "        \n",
        "    sourceCharSet = list(sourceWord)\n",
        "    targetCharSet = list(targetWord)\n",
        "    \n",
        "    if len(sourceCharSet) > len(targetCharSet):\n",
        "        sourceCharSet, targetCharSet = targetCharSet, sourceCharSet\n",
        "        \n",
        "    #print(targetCharSet, sourceCharSet)\n",
        "    for ch in sourceCharSet:\n",
        "        #print(ch, targetCharSet)\n",
        "        if ch in targetCharSet:\n",
        "            targetCharSet.remove(ch)\n",
        "    \n",
        "    #print(targetCharSet)\n",
        "    targetCharSetLength = len(targetCharSet)\n",
        "    #print(wordDiffLength, targetCharSet)\n",
        "    isLooseAnagram = (targetCharSetLength <= maxDiffLength)\n",
        "    res = (not strict and isLooseAnagram) or (strict and isLooseAnagram and wordDiffLength == maxDiffLength)\n",
        "    return res\n",
        "    \n",
        "        \n",
        "maxDiffLength=2\n",
        "\n",
        "assert(isAnagramEx('', ''))\n",
        "assert(not isAnagramEx('corto', 'trOca'))\n",
        "assert(not isAnagramEx('c', ''))\n",
        "assert(isAnagramEx('cortao', 'trocao'))\n",
        "assert(isAnagramEx('cortao', 'trocaox', 1))\n",
        "assert(not isAnagramEx('strappo', 'posta', 1))\n",
        "assert(isAnagramEx('strappo', 'posta', 2))\n",
        "assert(isAnagramEx('strappo', 'posta', 3))\n",
        "assert(not isAnagramEx('strappo', 'posta', 3, strict=True))\n",
        "assert(isAnagramEx('strappo', 'posta', 2, strict=True))\n",
        "assert(isAnagramEx('LEVI', 'ABILE', 2,))\n",
        "assert(not isAnagramEx('TUFFAI', 'ABACA', 2,))\n",
        "\n",
        "\n",
        "srcWord = 'straccio'\n",
        "dstWord ='crosta'\n",
        "\n",
        "print('isAnagramEx(\"{0}\", \"{1}\", {2})'.format(srcWord, dstWord, maxDiffLength))\n",
        "print(isAnagramEx(srcWord, dstWord, maxDiffLength=maxDiffLength))\n"
      ]
    },
    {
      "cell_type": "code",
      "execution_count": 29,
      "id": "b03898fd",
      "metadata": {
        "colab": {
          "base_uri": "https://localhost:8080/"
        },
        "id": "b03898fd",
        "outputId": "b850f189-e4b7-423c-ac90-a306160ccd1d"
      },
      "outputs": [
        {
          "output_type": "stream",
          "name": "stdout",
          "text": [
            "Build took 2.33368 s\n",
            "Read 202685 words into 327088 nodes\n",
            "Search took 0.509286 s\n"
          ]
        }
      ],
      "source": [
        "# http://stevehanov.ca/blog/index.php?id=114\n",
        "# By Steve Hanov, 2011. Released to the public domain\n",
        "import time\n",
        "import sys\n",
        "\n",
        "DICTIONARY = \"/usr/share/dict/words\";\n",
        "TARGET = \"SCORTA\"\n",
        "MAX_COST = 4\n",
        "\n",
        "# Keep some interesting statistics\n",
        "NodeCount = 0\n",
        "WordCount = 0\n",
        "\n",
        "# The Trie data structure keeps a set of words, organized with one node for\n",
        "# each letter. Each node has a branch for each letter that may follow it in the\n",
        "# set of words.\n",
        "class TrieNode:\n",
        "    def __init__(self):\n",
        "        self.word = None\n",
        "        self.children = {}\n",
        "\n",
        "        global NodeCount\n",
        "        NodeCount += 1\n",
        "\n",
        "    def insert( self, word ):\n",
        "        node = self\n",
        "        for letter in word:\n",
        "            if letter not in node.children: \n",
        "                node.children[letter] = TrieNode()\n",
        "\n",
        "            node = node.children[letter]\n",
        "\n",
        "        node.word = word\n",
        "\n",
        "# read dictionary file into a trie\n",
        "start = time.time()\n",
        "\n",
        "trie = TrieNode()\n",
        "for word in filteredWords:\n",
        "    WordCount += 1\n",
        "    trie.insert( word )\n",
        "\n",
        "end = time.time()\n",
        "print(\"Build took %g s\" % (end - start))\n",
        "\n",
        "print(\"Read %d words into %d nodes\" % (WordCount, NodeCount))\n",
        "\n",
        "# The search function returns a list of all words that are less than the given\n",
        "# maximum distance from the target word\n",
        "def search( word, maxCost ):\n",
        "\n",
        "    # build first row\n",
        "    currentRow = range( len(word) + 1 )\n",
        "\n",
        "    results = []\n",
        "\n",
        "    # recursively search each branch of the trie\n",
        "    for letter in trie.children:\n",
        "        searchRecursive( trie.children[letter], letter, word, currentRow, \n",
        "            results, maxCost )\n",
        "\n",
        "    return results\n",
        "\n",
        "# This recursive helper is used by the search function above. It assumes that\n",
        "# the previousRow has been filled in already.\n",
        "def searchRecursive( node, letter, word, previousRow, results, maxCost ):\n",
        "\n",
        "    columns = len( word ) + 1\n",
        "    currentRow = [ previousRow[0] + 1 ]\n",
        "\n",
        "    # Build one row for the letter, with a column for each letter in the target\n",
        "    # word, plus one for the empty string at column 0\n",
        "    for column in range( 1, columns ):\n",
        "\n",
        "        insertCost = currentRow[column - 1] + 1\n",
        "        deleteCost = previousRow[column] + 1\n",
        "\n",
        "        if word[column - 1] != letter:\n",
        "            replaceCost = previousRow[ column - 1 ] + 1\n",
        "        else:                \n",
        "            replaceCost = previousRow[ column - 1 ]\n",
        "\n",
        "        currentRow.append( min( insertCost, deleteCost, replaceCost ) )\n",
        "\n",
        "    # if the last entry in the row indicates the optimal cost is less than the\n",
        "    # maximum cost, and there is a word in this trie node, then add it.\n",
        "    if currentRow[-1] <= maxCost and node.word != None:\n",
        "        results.append( (node.word, currentRow[-1] ) )\n",
        "\n",
        "    # if any entries in the row are less than the maximum cost, then \n",
        "    # recursively search each branch of the trie\n",
        "    if min( currentRow ) <= maxCost:\n",
        "        for letter in node.children:\n",
        "            searchRecursive( node.children[letter], letter, word, currentRow, \n",
        "                results, maxCost )\n",
        "\n",
        "start = time.time()\n",
        "results = search( TARGET, MAX_COST )\n",
        "end = time.time()\n",
        "\n",
        "#for result in results: print(result)\n",
        "\n",
        "print(\"Search took %g s\" % (end - start))\n",
        "\n"
      ]
    },
    {
      "cell_type": "code",
      "execution_count": 30,
      "id": "4f36e052",
      "metadata": {
        "colab": {
          "base_uri": "https://localhost:8080/"
        },
        "id": "4f36e052",
        "outputId": "996d8e08-bec8-48dd-dc37-4df6d817685b"
      },
      "outputs": [
        {
          "output_type": "stream",
          "name": "stdout",
          "text": [
            "START WORD: SEGATELO\n",
            "Search took 0.239167 s\n",
            "END WORD: ('BEVITELO', 3)\n"
          ]
        }
      ],
      "source": [
        "import random\n",
        "\n",
        "startWord = random.choice(filteredWords)\n",
        "print(\"START WORD:\", startWord)\n",
        "\n",
        "start = time.time()\n",
        "results = search(startWord, 3)\n",
        "end = time.time()\n",
        "\n",
        "print(\"Search took %g s\" % (end - start))\n",
        "\n",
        "validEndWord = random.choice(results)\n",
        "\n",
        "print(\"END WORD:\", validEndWord)\n"
      ]
    },
    {
      "cell_type": "code",
      "execution_count": 31,
      "id": "07dc857e",
      "metadata": {
        "id": "07dc857e"
      },
      "outputs": [],
      "source": [
        "def findAnagramsEx(wordList, word, maxDiffLength=1, strict=False):\n",
        "    results = []\n",
        "    wordLength = len(word)\n",
        "    for entry in wordList:\n",
        "        entryLength = len(entry)\n",
        "        if word == entry or entryLength < wordLength - maxDiffLength or entryLength > wordLength + maxDiffLength:\n",
        "            continue\n",
        "        if isAnagramEx(entry, word, maxDiffLength=maxDiffLength, strict=strict):\n",
        "            diffLength = abs(len(entry) - len(word))\n",
        "            results.append((entry, diffLength))\n",
        "    \n",
        "    return results\n"
      ]
    },
    {
      "cell_type": "code",
      "execution_count": 31,
      "id": "c1b41586",
      "metadata": {
        "id": "c1b41586"
      },
      "outputs": [],
      "source": []
    },
    {
      "cell_type": "code",
      "execution_count": 32,
      "id": "97032888",
      "metadata": {
        "colab": {
          "base_uri": "https://localhost:8080/"
        },
        "id": "97032888",
        "outputId": "0b0f2566-1d3e-40ec-a38d-54de28987024"
      },
      "outputs": [
        {
          "output_type": "stream",
          "name": "stdout",
          "text": [
            "START WORD: SEGATELO\n",
            "[('ANTEPOR', 0), ('ANTIOPE', 0), ('APEIRON', 0), ('APIRENO', 0), ('APRENTI', 0), ('ARETINO', 0), ('ARPENTI', 0), ('ARPENTO', 0), ('ARPIONE', 0), ('ATROPINE', 1), ('BERTINO', 0), ('BERTONI', 0), ('BIPORTE', 0), ('BORENTI', 0), ('BORNITE', 0), ('BRETONI', 0), ('CERNITO', 0), ('CERTINO', 0), ('CINTERO', 0), ('COPERTI', 0), ('COPRENTI', 1), ('COPRINE', 0), ('COPRITE', 0), ('CORTINE', 0), ('CREPINO', 0), ('CREPITO', 0), ('CRETINO', 0), ('CRIPTON', 0), ('DENITRO', 0), ('DEPORTI', 0), ('DIPTERO', 0), ('EMPITOR', 0), ('ENTRINO', 0), ('ENTROPIA', 1), ('ENTROPIE', 1), ('EPIROTA', 0), ('EPIROTE', 0), ('EPIROTI', 0), ('EPURINO', 0), ('ERETINO', 0), ('ERNIATO', 0), ('ESPORTI', 0), ('ESTIRPO', 0), ('ESTRONI', 0), ('FINTERO', 0), ('FORNITE', 0), ('GERONTI', 0), ('GINEPRO', 0), ('IMPERNO', 0), ('IMPETRO', 0), ('IMPORNE', 0), ('IMPRENTO', 1), ('IMPRONTE', 1), ('INCERTO', 0), ('INCREPO', 0), ('INCRETO', 0), ('INERITO', 0), ('INFERTO', 0), ('INOLTRE', 0), ('INOTROPE', 1), ('INPUTERO', 1), ('INSERTO', 0), ('INSORTE', 0), ('INSTERO', 0), ('INTEGRO', 0), ('INTERNO', 0), ('INTERO', 1), ('INTERPOR', 1), ('INTERRO', 0), ('INTERZO', 0), ('INTIERO', 0), ('INTORTE', 0), ('INTRONE', 0), ('INVERTO', 0), ('IPERONE', 0), ('IPERONI', 0), ('IPERTONI', 1), ('IPERTONO', 1), ('IPETRO', 1), ('IPONUTRE', 1), ('IPOTENAR', 1), ('ITERANO', 0), ('ITERINO', 0), ('KRIPTON', 0), ('LENTORI', 0), ('LEPRINO', 0), ('LEPTONI', 0), ('MENTIRO', 0), ('MENTORI', 0), ('MORENTI', 0), ('MORTINE', 0), ('NEFROPI', 0), ('NEGRITO', 0), ('NESTORI', 0), ('NIPOTE', 1), ('NITORE', 1), ('NITRERO', 0), ('NITROSE', 0), ('NODRITE', 0), ('NORITE', 1), ('NOTARIE', 0), ('NOTERAI', 0), ('NOTEREI', 0), ('NOTERIA', 0), ('NOTERIE', 0), ('NOTORIE', 0), ('ONERATI', 0), ('ONRIATE', 0), ('OPERANTI', 1), ('OPERATI', 0), ('OPERINA', 0), ('OPERINE', 0), ('OPERINO', 0), ('OPERONI', 0), ('OPINARE', 0), ('OPINATE', 0), ('OPINERA', 0), ('OPINERO', 0), ('OPTARNE', 0), ('OPTERAI', 0), ('OPTEREI', 0), ('ORATINE', 0), ('ORDENTI', 0), ('ORETANI', 0), ('ORIENTA', 0), ('ORIENTE', 0), ('ORIENTI', 0), ('ORIENTO', 0), ('ORINATE', 0), ('ORITANE', 0), ('ORNIATE', 0), ('ORRENTI', 0), ('ORTENSI', 0), ('PARENTI', 0), ('PARETINO', 1), ('PARTENI', 0), ('PARTENIO', 1), ('PARTINE', 0), ('PARTONE', 0), ('PARTONI', 0), ('PATERINO', 1), ('PATERNI', 0), ('PATERNO', 0), ('PATINERO', 1), ('PATIRNE', 0), ('PATRONE', 0), ('PATRONI', 0), ('PEGNORI', 0), ('PENARTI', 0), ('PENETRI', 0), ('PENETRO', 0), ('PENTILO', 0), ('PENTIR', 1), ('PENTIRA', 0), ('PENTIRE', 0), ('PENTIRLO', 1), ('PENTIRO', 0), ('PENTITO', 0), ('PENTIVO', 0), ('PENTODI', 0), ('PENTOSI', 0), ('PENURIO', 0), ('PEPTONI', 0), ('PERCOTI', 0), ('PERDONI', 0), ('PERENTI', 0), ('PERENTO', 0), ('PERFINO', 0), ('PERINEO', 0), ('PERITANO', 1), ('PERITINO', 1), ('PERITO', 1), ('PERITONE', 1), ('PERNIO', 1), ('PERNOTTI', 1), ('PERONEI', 0), ('PERONI', 1), ('PERSINO', 0), ('PERSOTI', 0), ('PERTICO', 0), ('PESTINO', 0), ('PESTONI', 0), ('PETINO', 1), ('PETRIANO', 1), ('PETRINA', 0), ('PETRINE', 0), ('PETRINI', 0), ('PETROLI', 0), ('PETRONE', 0), ('PETRONI', 0), ('PETRONIA', 1), ('PETRONIE', 1), ('PETRONII', 1), ('PETRONIO', 1), ('PETROSI', 0), ('PETTINO', 0), ('PIANERO', 0), ('PIANOTE', 0), ('PIANTERO', 1), ('PIATONE', 0), ('PIENATO', 0), ('PIENERO', 0), ('PIERINO', 0), ('PIERROT', 0), ('PIETRINO', 1), ('PIETRONA', 1), ('PIETRONE', 1), ('PIETRONI', 1), ('PIGRONE', 0), ('PIMENTO', 0), ('PIMETRO', 0), ('PINETO', 1), ('PINETTO', 0), ('PINTOR', 1), ('PINTORE', 0), ('PINTORI', 0), ('PINTURE', 0), ('PINZERO', 0), ('PIONIER', 0), ('PIOTARE', 0), ('PIOTERA', 0), ('PIOTERO', 0), ('PIPERNO', 0), ('PIRENO', 1), ('PIRETRO', 0), ('PIRLONE', 0), ('PIRONE', 1), ('PISTONE', 0), ('PISTORE', 0), ('PITONE', 1), ('PITTERO', 0), ('PITTONE', 0), ('PITTORE', 0), ('POETINO', 0), ('POETRIA', 0), ('POETRIE', 0), ('POINTER', 0), ('POINTERS', 1), ('POLENTI', 0), ('POLIRNE', 0), ('PONDERI', 0), ('PONENTI', 0), ('PONESTI', 0), ('PONIATE', 0), ('PONITORE', 1), ('PONTAIE', 0), ('PONTARE', 0), ('PONTERA', 0), ('PONTERAI', 1), ('PONTEREI', 1), ('PONTERO', 0), ('PONTESI', 0), ('PONTIERE', 1), ('PONTIERI', 1), ('PONTILE', 0), ('PONTINE', 0), ('PORCINE', 0), ('PORFINE', 0), ('PORGENTI', 1), ('PORGINE', 0), ('PORTANE', 0), ('PORTECI', 0), ('PORTELI', 0), ('PORTEMI', 0), ('PORTENE', 0), ('PORTENTI', 1), ('PORTESI', 0), ('PORTETI', 0), ('PORTEVI', 0), ('PORTIANE', 1), ('PORTILE', 0), ('PORTINA', 0), ('PORTINE', 0), ('PORTINO', 0), ('PORTONE', 0), ('PORTONI', 0), ('POSTERI', 0), ('POSTINE', 0), ('POTARNE', 0), ('POTENTI', 0), ('POTENZI', 0), ('POTERAI', 0), ('POTERCI', 0), ('POTEREI', 0), ('POTERI', 1), ('POTERLI', 0), ('POTERMI', 0), ('POTERNE', 0), ('POTERSI', 0), ('POTERTI', 0), ('POTERVI', 0), ('POTORIE', 0), ('POTREI', 1), ('PRATINO', 0), ('PRATONE', 0), ('PRATONI', 0), ('PREATINO', 1), ('PRECINTO', 1), ('PRECONI', 0), ('PREDINO', 0), ('PREDITO', 0), ('PREDONI', 0), ('PREFINTO', 1), ('PREGINO', 0), ('PRELINO', 0), ('PREMINO', 0), ('PREMITO', 0), ('PREMONI', 0), ('PREMONTI', 1), ('PRENATI', 0), ('PRENATO', 0), ('PRENOMI', 0), ('PRENOTA', 0), ('PRENOTAI', 1), ('PRENOTI', 0), ('PRENOTO', 0), ('PREPONI', 0), ('PRESOTI', 0), ('PRESTINO', 1), ('PRETAIO', 0), ('PRETINI', 0), ('PRETINO', 0), ('PRETONE', 0), ('PRETONI', 0), ('PRETORI', 0), ('PRINTED', 0), ('PRIONE', 1), ('PRITANE', 0), ('PRITANEO', 1), ('PRITANO', 0), ('PRODINE', 0), ('PROFETI', 0), ('PROLINE', 0), ('PRONITA', 0), ('PRONOTI', 0), ('PRONTAI', 0), ('PRONTE', 1), ('PRONTI', 1), ('PROPENI', 0), ('PROPINE', 0), ('PROTEI', 1), ('PROTEINA', 1), ('PROTEINE', 1), ('PROTELI', 0), ('PROTENDI', 1), ('PROTESI', 0), ('PROTIDE', 0), ('PROTONE', 0), ('PROTONI', 0), ('PROVENTI', 1), ('PRUNETI', 0), ('PRUNETO', 0), ('PTEROMI', 0), ('PTEROPI', 0), ('PUNITOR', 0), ('PUNITORE', 1), ('PUNTERO', 0), ('PUNTORI', 0), ('PUNTORIE', 1), ('RAPENTI', 0), ('RAPITONE', 1), ('RATEINO', 0), ('RATIONE', 0), ('REATINO', 0), ('RECINTO', 0), ('REPENTI', 0), ('REPETIO', 0), ('REPRINT', 0), ('REPUTINO', 1), ('RESPINTO', 1), ('RESTINO', 0), ('RESTONI', 0), ('RETINO', 1), ('RETTINO', 0), ('RIENTRO', 0), ('RIETINO', 0), ('RILENTO', 0), ('RIMONTE', 0), ('RIMPONE', 0), ('RINCOPE', 0), ('RINETTO', 0), ('RINOTTE', 0), ('RINTELO', 0), ('RIOPTANE', 1), ('RIPENDO', 0), ('RIPENSO', 0), ('RIPENTA', 0), ('RIPENTE', 0), ('RIPENTI', 0), ('RIPENTO', 0), ('RIPESTO', 0), ('RIPETANO', 1), ('RIPETO', 1), ('RIPETONO', 1), ('RIPIENO', 0), ('RIPINTE', 0), ('RIPINTO', 0), ('RIPITONE', 1), ('RIPONE', 1), ('RIPONETE', 1), ('RIPORNE', 0), ('RIPORTE', 0), ('RIPOSTE', 0), ('RIPOTANE', 1), ('RIPOTE', 1), ('RIPOTEI', 0), ('RIPOTER', 0), ('RIPUNTE', 0), ('RIPUNTO', 0), ('RISENTO', 0), ('RISPENTO', 1), ('RITEGNO', 0), ('RITENDO', 0), ('RITENGO', 0), ('RITENTO', 0), ('RITONE', 1), ('RODENTI', 0), ('ROMPENTI', 1), ('ROMPINE', 0), ('RONTESI', 0), ('ROSPINE', 0), ('ROTEINO', 0), ('ROTTINE', 0), ('ROUTINE', 0), ('ROVENTI', 0), ('RUOTINE', 0), ('RUTENIO', 0), ('SENTIRO', 0), ('SENTORI', 0), ('SOPENTI', 0), ('SOPIRNE', 0), ('SORTINE', 0), ('SPERINO', 0), ('SPERONI', 0), ('SPETRINO', 1), ('SPIETRO', 0), ('SPINERO', 0), ('SPINETO', 0), ('SPINTORE', 1), ('SPORTINE', 1), ('SPRETINO', 1), ('SPRINTO', 0), ('STERPINO', 1), ('STINERO', 0), ('STIPERO', 0), ('STORPIE', 0), ('STRIONE', 0), ('TAPINERO', 1), ('TAPIRONE', 1), ('TARPINO', 0), ('TARPONE', 0), ('TARPONI', 0), ('TEMPINO', 0), ('TEMPONI', 0), ('TEMPRINO', 1), ('TENARIO', 0), ('TENITOR', 0), ('TENORI', 1), ('TENSORI', 0), ('TENTORI', 0), ('TEPORI', 1), ('TERMINO', 0), ('TERNINO', 0), ('TERONI', 1), ('TERPENI', 0), ('TERPINA', 0), ('TERPINE', 0), ('TERRONI', 0), ('TERZINO', 0), ('TERZONI', 0), ('TIGNERO', 0), ('TINGERO', 0), ('TINSERO', 0), ('TINTORE', 0), ('TIPONAR', 0), ('TIPONARE', 1), ('TIPONERA', 1), ('TIPONERO', 1), ('TIRONE', 1), ('TIRRENO', 0), ('TONERAI', 0), ('TONEREI', 0), ('TOPINE', 1), ('TORCINE', 0), ('TOREINO', 0), ('TORNEAI', 0), ('TORNEI', 1), ('TORNESI', 0), ('TORNIRE', 0), ('TORNITE', 0), ('TORPEINA', 1), ('TORPEINE', 1), ('TORPEINI', 1), ('TORPEINO', 1), ('TORPENTI', 1), ('TORPIDE', 0), ('TORTINE', 0), ('TRAPONE', 0), ('TRAPONI', 0), ('TREFONI', 0), ('TREMINO', 0), ('TRENINO', 0), ('TREPIDO', 0), ('TREPPIO', 0), ('TRIGONE', 0), ('TRIMONE', 0), ('TRINERO', 0), ('TRIOPE', 1), ('TRIPODE', 0), ('TRIPPON', 0), ('TRIPPONE', 1), ('TRITONE', 0), ('TROIANE', 0), ('TRONFIE', 0), ('TROPEANI', 1), ('TROPINA', 0), ('TROPINE', 0), ('TROTINE', 0), ('TURIONE', 0), ('UNITORE', 0), ('UNTORIE', 0), ('UTERINO', 0), ('VETRINO', 0), ('VETRONI', 0), ('VINTORE', 0)]\n"
          ]
        }
      ],
      "source": [
        "import random\n",
        "\n",
        "newStartWord = random.choice(filteredWords)\n",
        "print(\"START WORD:\", startWord)\n",
        "\n",
        "anagramsDict = {0:[], 1:[], 2:[]}\n",
        "randomFilteredWords = filteredWords[:]\n",
        "random.shuffle(filteredWords[:])\n",
        "randomFilteredWords = sorted(randomFilteredWords)\n",
        "\n",
        "anagrams = findAnagramsEx(randomFilteredWords, newStartWord, maxDiffLength=1, strict=False)\n",
        "for anagram in anagrams:\n",
        "    anagramsDict[anagram[1]].append(anagram[0])\n",
        "    \n",
        "print(anagrams)\n",
        "#print(anagramsDict[0][:10])"
      ]
    },
    {
      "cell_type": "code",
      "execution_count": 33,
      "id": "f203e9f3",
      "metadata": {
        "colab": {
          "base_uri": "https://localhost:8080/"
        },
        "id": "f203e9f3",
        "outputId": "65cfc4c8-459a-4544-ce40-440f5d6caa0c"
      },
      "outputs": [
        {
          "output_type": "stream",
          "name": "stdout",
          "text": [
            "['ATROPINE', 'COPRENTI', 'ENTROPIA', 'ENTROPIE', 'IMPRENTO', 'IMPRONTE', 'INOTROPE', 'INPUTERO', 'INTERO', 'INTERPOR', 'IPERTONI', 'IPERTONO', 'IPETRO', 'IPONUTRE', 'IPOTENAR', 'NIPOTE', 'NITORE', 'NORITE', 'OPERANTI', 'PARETINO', 'PARTENIO', 'PATERINO', 'PATINERO', 'PENTIR', 'PENTIRLO', 'PERITANO', 'PERITINO', 'PERITO', 'PERITONE', 'PERNIO', 'PERNOTTI', 'PERONI', 'PETINO', 'PETRIANO', 'PETRONIA', 'PETRONIE', 'PETRONII', 'PETRONIO', 'PIANTERO', 'PIETRINO', 'PIETRONA', 'PIETRONE', 'PIETRONI', 'PINETO', 'PINTOR', 'PIRENO', 'PIRONE', 'PITONE', 'POINTERS', 'PONITORE', 'PONTERAI', 'PONTEREI', 'PONTIERE', 'PONTIERI', 'PORGENTI', 'PORTENTI', 'PORTIANE', 'POTERI', 'POTREI', 'PREATINO', 'PRECINTO', 'PREFINTO', 'PREMONTI', 'PRENOTAI', 'PRESTINO', 'PRIONE', 'PRITANEO', 'PRONTE', 'PRONTI', 'PROTEI', 'PROTEINA', 'PROTEINE', 'PROTENDI', 'PROVENTI', 'PUNITORE', 'PUNTORIE', 'RAPITONE', 'REPUTINO', 'RESPINTO', 'RETINO', 'RIOPTANE', 'RIPETANO', 'RIPETO', 'RIPETONO', 'RIPITONE', 'RIPONE', 'RIPONETE', 'RIPOTANE', 'RIPOTE', 'RISPENTO', 'RITONE', 'ROMPENTI', 'SPETRINO', 'SPINTORE', 'SPORTINE', 'SPRETINO', 'STERPINO', 'TAPINERO', 'TAPIRONE', 'TEMPRINO', 'TENORI', 'TEPORI', 'TERONI', 'TIPONARE', 'TIPONERA', 'TIPONERO', 'TIRONE', 'TOPINE', 'TORNEI', 'TORPEINA', 'TORPEINE', 'TORPEINI', 'TORPEINO', 'TORPENTI', 'TRIOPE', 'TRIPPONE', 'TROPEANI']\n"
          ]
        }
      ],
      "source": [
        "print(anagramsDict[1])"
      ]
    },
    {
      "cell_type": "code",
      "execution_count": 34,
      "id": "57b8bafa",
      "metadata": {
        "colab": {
          "base_uri": "https://localhost:8080/"
        },
        "id": "57b8bafa",
        "outputId": "aedd352a-db23-4717-a63e-be65e0a0f5d7"
      },
      "outputs": [
        {
          "output_type": "stream",
          "name": "stdout",
          "text": [
            "START WORD: OLEATE\n",
            "Finding anagrams... (0.31)\n",
            "('EBETALO', 1) 26 anagram\n",
            "Finding anagrams... (0.43)\n",
            "('BEARTELO', 1) 25 anagram\n",
            "Finding levenshtein... (0.01)\n",
            "('BEARCELO', 1) 11 levenshtein\n",
            "Finding anagrams... (0.39)\n",
            "('CABLERO', 1) 13 anagram\n",
            "Finding anagrams... (0.40)\n",
            "('ORBACELI', 1) 53 anagram\n",
            "Finding anagrams... (0.56)\n",
            "('BOREALI', 1) 27 anagram\n",
            "restart False\n",
            "\n",
            "END WORD: BOREALI\n",
            "Elapsed 2.14s\n"
          ]
        }
      ],
      "source": [
        "import time\n",
        "\n",
        "def generateChain(quiet=False, startWord=None, strict=False):\n",
        "    startWords = wordsOfLength(START_WORD_LENGTH)\n",
        "    \n",
        "    restart = True\n",
        "    \n",
        "    while restart:\n",
        "        restart = False\n",
        "        startWord = random.choice(startWords)\n",
        "        print(\"START WORD:\", startWord)\n",
        "    \n",
        "        steps = [startWord]\n",
        "    \n",
        "        prevStep = (startWord, 0)\n",
        "        #self.info.text = \"\"\n",
        "        for i in range(6):\n",
        "            choice = random.choice([\"anagram\", \"levenshtein\"])\n",
        "            if choice == \"anagram\":\n",
        "                if not quiet: print(\"Finding anagrams...\", end=\"\")\n",
        "                startTime = time.time()\n",
        "                anagrams = findAnagramsEx(filteredWords, prevStep[0], maxDiffLength=1, strict=strict)\n",
        "                if not quiet: print(\" ({0:.2f})\".format(time.time() - startTime))\n",
        "                if len(anagrams) < 10 and i < MIN_STEPS:\n",
        "                    restart = True\n",
        "                    print(choice, len(anagrams))\n",
        "                    break\n",
        "            else:\n",
        "                if not quiet: print(\"Finding levenshtein...\", end=\"\")\n",
        "                startTime = time.time()\n",
        "                results = search(prevStep[0], 1)\n",
        "                if not quiet: print(\" ({0:.2f})\".format(time.time() - startTime))\n",
        "                if len(results) < 10 and i < MIN_STEPS:\n",
        "                    restart = True\n",
        "                    print(choice, len(results))\n",
        "                    break\n",
        "                    \n",
        "            done = False\n",
        "            while not done:\n",
        "                if choice == \"anagram\":\n",
        "                    nextStep = random.choice(anagrams)\n",
        "                else:\n",
        "                    nextStep = random.choice(results)\n",
        "    \n",
        "                if nextStep[0] not in steps:\n",
        "                    steps.append(nextStep[0])\n",
        "                    done = True\n",
        "    \n",
        "            resultsCount = len(results) if choice == \"levenshtein\" else len(anagrams)\n",
        "            if not quiet: print(nextStep, resultsCount, choice)\n",
        "            prevStep = nextStep\n",
        "    \n",
        "        print(\"restart\", restart)\n",
        "        print()\n",
        "    \n",
        "    endWord = steps[-1]\n",
        "    print(\"END WORD:\", endWord)  \n",
        "    return steps\n",
        "\n",
        "t0 = time.time()\n",
        "steps = generateChain(startWord=None, strict=True)\n",
        "print(\"Elapsed {0:.2f}s\".format(time.time() - t0))\n",
        "\n",
        "startWord = steps[0]\n",
        "endWord = steps[-1]"
      ]
    },
    {
      "cell_type": "code",
      "execution_count": 46,
      "id": "11692f09",
      "metadata": {
        "colab": {
          "base_uri": "https://localhost:8080/"
        },
        "id": "11692f09",
        "outputId": "42ccb75e-9c08-466c-f220-2e3856a4e600"
      },
      "outputs": [
        {
          "output_type": "stream",
          "name": "stdout",
          "text": [
            "START WORD: SCUSSO\n",
            "END WORD  : RISSOSE\n"
          ]
        }
      ],
      "source": [
        "def isInDictionary(word):\n",
        "    results = search(word, 0)\n",
        "    return len(results) > 0\n",
        "\n",
        "class WordStatus():\n",
        "  UNCHECKED = 0\n",
        "  VALID = 1\n",
        "  INVALID = 2\n",
        "  NOT_IN_DICT = 3\n",
        "\n",
        "def checkValidChain(startWord, endWord, wordChain):\n",
        "    prevWord = startWord\n",
        "    isOk = True\n",
        "    statuses = []\n",
        "    for word in wordChain + [endWord]:\n",
        "        inDictionary = isInDictionary(word)\n",
        "        results = [t[0] for t in search(prevWord, 1)]\n",
        "        anagrams = [t[0] for t in findAnagramsEx(filteredWords, prevWord, maxDiffLength=1, strict=False)]\n",
        "        isWordOk = inDictionary and (word in results or word in anagrams) \n",
        "        if not inDictionary:\n",
        "            print(\"✖️\", word)\n",
        "            statuses.append(WordStatus.NOT_IN_DICT)\n",
        "        else:\n",
        "            print(\"✔️\" if isWordOk else \"❌\", word)\n",
        "            statuses.append(WordStatus.VALID if isWordOk else WordStatus.INVALID)\n",
        "        \n",
        "        if not isWordOk:\n",
        "            isOk = False\n",
        "        prevWord = word\n",
        "\n",
        "    return isOk, statuses\n",
        "            \n",
        "print(\"START WORD:\", startWord)\n",
        "print(\"END WORD  :\", endWord)"
      ]
    },
    {
      "cell_type": "code",
      "execution_count": 43,
      "id": "e40e0b2d",
      "metadata": {
        "id": "e40e0b2d"
      },
      "outputs": [],
      "source": [
        "def displayCheckValidChain(startWord, endWord, wordChain):\n",
        "    print()\n",
        "    print(startWord)\n",
        "    ok, statuses = checkValidChain(startWord, endWord, wordChain)\n",
        "    print(endWord)\n",
        "\n",
        "    print()\n",
        "    print(\"👍 WON\" if ok else \"👎 LOST\")\n",
        "\n",
        "    print()\n"
      ]
    },
    {
      "cell_type": "code",
      "execution_count": 37,
      "id": "b13ddaf0",
      "metadata": {
        "colab": {
          "base_uri": "https://localhost:8080/"
        },
        "id": "b13ddaf0",
        "outputId": "2d7e6698-0a8a-4403-e26f-738238fbcdaa"
      },
      "outputs": [
        {
          "output_type": "stream",
          "name": "stdout",
          "text": [
            "START WORD: BUGULA\n",
            "levenshtein 4\n",
            "restart True\n",
            "\n",
            "START WORD: SCUSSO\n",
            "restart False\n",
            "\n",
            "END WORD: RISSOSE\n",
            "\n",
            "Generate 1.04s\n",
            "START WORD: SCUSSO\n",
            "END WORD  : RISSOSE\n"
          ]
        }
      ],
      "source": [
        "# regenerate start/end words\n",
        "t0 = time.time()\n",
        "steps = generateChain(quiet=True, startWord='piccolo')\n",
        "print(\"\\nGenerate {0:.2f}s\".format(time.time() - t0))\n",
        "\n",
        "startWord = steps[0]\n",
        "endWord = steps[-1]\n",
        "\n",
        "print(\"START WORD:\", startWord)\n",
        "print(\"END WORD  :\", endWord)"
      ]
    },
    {
      "cell_type": "code",
      "execution_count": 44,
      "id": "510ee2b5",
      "metadata": {
        "scrolled": true,
        "colab": {
          "base_uri": "https://localhost:8080/"
        },
        "id": "510ee2b5",
        "outputId": "574a93b8-52d4-44ff-d123-fcc2bdcd4d9c"
      },
      "outputs": [
        {
          "output_type": "stream",
          "name": "stdout",
          "text": [
            "\n",
            "SCUSSO\n",
            "❌ PANTERA\n",
            "❌ PENTOLA\n",
            "✖️ PANTOFOLA\n",
            "❌ PIANTALA\n",
            "❌ RISSOSE\n",
            "RISSOSE\n",
            "\n",
            "👎 LOST\n",
            "\n",
            "Validate 2.52s\n"
          ]
        }
      ],
      "source": [
        "wordChain = [\n",
        "    'pantera',\n",
        "    'pentola',\n",
        "    'pantofola',\n",
        "    'piantala',\n",
        "]\n",
        "wordChain = [w.strip().upper() for w in wordChain]\n",
        "#print(\"GUESS WORD CHAIN\", wordChain)\n",
        "\n",
        "t0 = time.time()\n",
        "displayCheckValidChain(startWord, endWord, wordChain)\n",
        "print(\"Validate {0:.2f}s\".format(time.time() - t0))"
      ]
    },
    {
      "cell_type": "code",
      "execution_count": 39,
      "id": "7659d980",
      "metadata": {
        "colab": {
          "base_uri": "https://localhost:8080/"
        },
        "id": "7659d980",
        "outputId": "235df907-a7c6-41ad-b351-2ed5731701d0"
      },
      "outputs": [
        {
          "output_type": "stream",
          "name": "stdout",
          "text": [
            "COMPUTED WORD CHAIN ['SCUSSO', 'SCASSO', 'OSSOSA', 'SCOSSA', 'SCOSSAR', 'RISSOSA', 'RISSOSE']\n"
          ]
        }
      ],
      "source": [
        "# STEPS\n",
        "\n",
        "print(\"COMPUTED WORD CHAIN\", steps)"
      ]
    },
    {
      "cell_type": "code",
      "execution_count": 40,
      "id": "783783ce",
      "metadata": {
        "colab": {
          "base_uri": "https://localhost:8080/"
        },
        "id": "783783ce",
        "outputId": "ea71d259-17c9-439e-970d-fdb2b3f50021"
      },
      "outputs": [
        {
          "output_type": "execute_result",
          "data": {
            "text/plain": [
              "[('MUOVI', 0)]"
            ]
          },
          "metadata": {},
          "execution_count": 40
        }
      ],
      "source": [
        "# find in dictionary\n",
        "\n",
        "findWord = 'muovi'\n",
        "\n",
        "search(findWord.strip().upper(), 0)\n"
      ]
    },
    {
      "cell_type": "code",
      "source": [
        "@anvil.server.callable\n",
        "def srvGenerateWordChain(quiet=True, startWord=None, strict=True):\n",
        "  steps = generateChain(quiet=quiet, startWord=startWord, strict=strict)\n",
        "  return steps\n",
        "\n",
        "@anvil.server.callable\n",
        "def srvValidateChain(startWord, endWord, wordChain):\n",
        "  isOk, statuses = checkValidChain(startWord, endWord, wordChain)\n",
        "  return isOk, statuses\n",
        "\n"
      ],
      "metadata": {
        "id": "kHDjlRX9O7Jm"
      },
      "id": "kHDjlRX9O7Jm",
      "execution_count": 41,
      "outputs": []
    },
    {
      "cell_type": "code",
      "source": [
        "anvil.server.wait_forever()"
      ],
      "metadata": {
        "colab": {
          "base_uri": "https://localhost:8080/"
        },
        "id": "bNPfNb8IPEga",
        "outputId": "8cce507d-a897-4c06-ef7d-717f739096eb"
      },
      "id": "bNPfNb8IPEga",
      "execution_count": null,
      "outputs": [
        {
          "output_type": "stream",
          "name": "stdout",
          "text": [
            "START WORD: AMEBEO\n",
            "anagram 5\n",
            "restart True\n",
            "\n",
            "START WORD: RAIAVA\n",
            "restart False\n",
            "\n",
            "END WORD: VINARIE\n",
            "✖️ \n",
            "❌ VINARIE\n",
            "START WORD: UNNICA\n",
            "levenshtein 4\n",
            "restart True\n",
            "\n",
            "START WORD: REMIXI\n",
            "levenshtein 8\n",
            "restart True\n",
            "\n",
            "START WORD: DINGHI\n",
            "levenshtein 5\n",
            "restart True\n",
            "\n",
            "START WORD: MOLALA\n",
            "restart False\n",
            "\n",
            "END WORD: SALIMELO\n",
            "✖️ \n",
            "❌ SALIMELO\n",
            "START WORD: YPRITE\n",
            "levenshtein 4\n",
            "restart True\n",
            "\n",
            "START WORD: ISTATA\n",
            "levenshtein 9\n",
            "restart True\n",
            "\n",
            "START WORD: TIMING\n",
            "anagram 8\n",
            "restart True\n",
            "\n",
            "START WORD: COVANE\n",
            "restart False\n",
            "\n",
            "END WORD: NESTAI\n",
            "✖️ \n",
            "❌ NESTAI\n",
            "✖️ \n",
            "❌ NESTAI\n",
            "START WORD: OSANTI\n",
            "levenshtein 8\n",
            "restart True\n",
            "\n",
            "START WORD: DOGALI\n",
            "levenshtein 4\n",
            "restart True\n",
            "\n",
            "START WORD: EMULSE\n",
            "anagram 2\n",
            "restart True\n",
            "\n",
            "START WORD: STENDE\n",
            "restart False\n",
            "\n",
            "END WORD: ESECUTI\n",
            "✖️ \n",
            "❌ ESECUTI\n",
            "❌ LUPO\n",
            "❌ ESECUTI\n",
            "START WORD: BUFERO\n",
            "anagram 8\n",
            "restart True\n",
            "\n",
            "START WORD: STAGNA\n",
            "restart False\n",
            "\n",
            "END WORD: CANSANTE\n",
            "START WORD: VIGILE\n",
            "anagram 9\n",
            "restart True\n",
            "\n",
            "START WORD: SCEMAR\n",
            "restart False\n",
            "\n",
            "END WORD: MATESI\n",
            "✖️ \n",
            "❌ MATESI\n",
            "❌ POLLO\n",
            "❌ MATESI\n",
            "START WORD: ATTEDI\n",
            "levenshtein 8\n",
            "restart True\n",
            "\n",
            "START WORD: SCOZIA\n",
            "levenshtein 6\n",
            "restart True\n",
            "\n",
            "START WORD: VOLALA\n",
            "restart False\n",
            "\n",
            "END WORD: FALENA\n",
            "❌ POLLO\n",
            "❌ FALENA\n",
            "START WORD: ZILLAR\n",
            "restart False\n",
            "\n",
            "END WORD: ERGILA\n",
            "❌ POLLO\n",
            "❌ ERGILA\n",
            "START WORD: MUTAVA\n",
            "anagram 3\n",
            "restart True\n",
            "\n",
            "START WORD: RUGGHI\n",
            "levenshtein 7\n",
            "restart True\n",
            "\n",
            "START WORD: CALERE\n",
            "restart False\n",
            "\n",
            "END WORD: BARDELLE\n",
            "✖️ \n",
            "❌ BARDELLE\n",
            "START WORD: OMENTO\n",
            "levenshtein 6\n",
            "restart True\n",
            "\n",
            "START WORD: FLOREA\n",
            "levenshtein 6\n",
            "restart True\n",
            "\n",
            "START WORD: ARSURE\n",
            "levenshtein 3\n",
            "restart True\n",
            "\n",
            "START WORD: CALINO\n",
            "levenshtein 3\n",
            "restart True\n",
            "\n",
            "START WORD: IRSUTE\n",
            "levenshtein 4\n",
            "restart True\n",
            "\n",
            "START WORD: FISATI\n",
            "restart False\n",
            "\n",
            "END WORD: PARARVI\n",
            "✖️ \n",
            "❌ PARARVI\n",
            "START WORD: MUSATA\n",
            "anagram 7\n",
            "restart True\n",
            "\n",
            "START WORD: SFANGA\n",
            "levenshtein 7\n",
            "restart True\n",
            "\n",
            "START WORD: ECCIDI\n",
            "levenshtein 5\n",
            "restart True\n",
            "\n",
            "START WORD: EROMPA\n",
            "levenshtein 3\n",
            "restart True\n",
            "\n",
            "START WORD: RETATE\n",
            "restart False\n",
            "\n",
            "END WORD: ATTUAVO\n",
            "✖️ \n",
            "❌ ATTUAVO\n",
            "✖️ ATTIRE\n",
            "❌ ATTUAVO\n",
            "✔️ TREMATE\n",
            "❌ ATTUAVO\n"
          ]
        }
      ]
    }
  ],
  "metadata": {
    "kernelspec": {
      "display_name": "Python 3 (ipykernel)",
      "language": "python",
      "name": "python3"
    },
    "language_info": {
      "codemirror_mode": {
        "name": "ipython",
        "version": 3
      },
      "file_extension": ".py",
      "mimetype": "text/x-python",
      "name": "python",
      "nbconvert_exporter": "python",
      "pygments_lexer": "ipython3",
      "version": "3.9.13"
    },
    "colab": {
      "provenance": []
    }
  },
  "nbformat": 4,
  "nbformat_minor": 5
}