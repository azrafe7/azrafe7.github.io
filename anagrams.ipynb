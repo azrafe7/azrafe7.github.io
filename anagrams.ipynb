{
  "cells": [
    {
      "cell_type": "code",
      "execution_count": 1,
      "id": "58bf4eb3",
      "metadata": {
        "colab": {
          "base_uri": "https://localhost:8080/",
          "height": 485
        },
        "id": "58bf4eb3",
        "outputId": "0946ddd8-ceb6-44a2-e637-a9ff35fdb099"
      },
      "outputs": [
        {
          "output_type": "stream",
          "name": "stdout",
          "text": [
            "Looking in indexes: https://pypi.org/simple, https://us-python.pkg.dev/colab-wheels/public/simple/\n",
            "Collecting anvil-uplink\n",
            "  Downloading anvil_uplink-0.4.2-py2.py3-none-any.whl (90 kB)\n",
            "\u001b[2K     \u001b[90m━━━━━━━━━━━━━━━━━━━━━━━━━━━━━━━━━━━━━━━━\u001b[0m \u001b[32m90.1/90.1 kB\u001b[0m \u001b[31m4.0 MB/s\u001b[0m eta \u001b[36m0:00:00\u001b[0m\n",
            "\u001b[?25hCollecting argparse (from anvil-uplink)\n",
            "  Downloading argparse-1.4.0-py2.py3-none-any.whl (23 kB)\n",
            "Requirement already satisfied: future in /usr/local/lib/python3.10/dist-packages (from anvil-uplink) (0.18.3)\n",
            "Requirement already satisfied: six in /usr/local/lib/python3.10/dist-packages (from anvil-uplink) (1.16.0)\n",
            "Collecting ws4py (from anvil-uplink)\n",
            "  Downloading ws4py-0.5.1.tar.gz (51 kB)\n",
            "\u001b[2K     \u001b[90m━━━━━━━━━━━━━━━━━━━━━━━━━━━━━━━━━━━━━━━━\u001b[0m \u001b[32m51.4/51.4 kB\u001b[0m \u001b[31m6.8 MB/s\u001b[0m eta \u001b[36m0:00:00\u001b[0m\n",
            "\u001b[?25h  Preparing metadata (setup.py) ... \u001b[?25l\u001b[?25hdone\n",
            "Building wheels for collected packages: ws4py\n",
            "  Building wheel for ws4py (setup.py) ... \u001b[?25l\u001b[?25hdone\n",
            "  Created wheel for ws4py: filename=ws4py-0.5.1-py3-none-any.whl size=45228 sha256=dc58f4cbded0b5a0130457ebd9e5f47b91e6a09b91ebf89468bee9d2db13ce42\n",
            "  Stored in directory: /root/.cache/pip/wheels/2e/7c/ad/d9c746276bf024d44296340869fcb169f1e5d80fb147351a57\n",
            "Successfully built ws4py\n",
            "Installing collected packages: ws4py, argparse, anvil-uplink\n",
            "Successfully installed anvil-uplink-0.4.2 argparse-1.4.0 ws4py-0.5.1\n"
          ]
        },
        {
          "output_type": "display_data",
          "data": {
            "application/vnd.colab-display-data+json": {
              "pip_warning": {
                "packages": [
                  "argparse",
                  "google"
                ]
              }
            }
          },
          "metadata": {}
        },
        {
          "output_type": "stream",
          "name": "stdout",
          "text": [
            "Connecting to wss://anvil.works/uplink\n",
            "Anvil websocket open\n",
            "Connected to \"Debug for azrafe7@gmail.com\" as SERVER\n"
          ]
        }
      ],
      "source": [
        "!pip install anvil-uplink\n",
        "import anvil.server\n",
        "\n",
        "anvil.server.connect(\"server_AWZDTJC7ELLLWKQJM7XSDOUT-QMTVJN4LDJALI4EQ\")\n",
        "\n"
      ]
    },
    {
      "cell_type": "code",
      "source": [
        "# constansts\n",
        "\n",
        "START_WORD_LENGTHS = [4,5,6]\n",
        "\n",
        "MIN_WORD_LENGTH = 3\n",
        "MAX_WORD_LENGTH = 9\n",
        "\n",
        "NUM_STEPS = 8\n",
        "MIN_STEPS = 5\n"
      ],
      "metadata": {
        "id": "SrwvjfEE3gmm"
      },
      "id": "SrwvjfEE3gmm",
      "execution_count": 2,
      "outputs": []
    },
    {
      "cell_type": "code",
      "source": [
        "'''\n",
        "Created on Feb 7, 2013\n",
        "\n",
        "@author: olegs\n",
        "'''\n",
        "\n",
        "ROMAN_CONSTANTS = (\n",
        "            ( \"\", \"I\", \"II\", \"III\", \"IV\", \"V\", \"VI\", \"VII\", \"VIII\", \"IX\" ),\n",
        "            ( \"\", \"X\", \"XX\", \"XXX\", \"XL\", \"L\", \"LX\", \"LXX\", \"LXXX\", \"XC\" ),\n",
        "            ( \"\", \"C\", \"CC\", \"CCC\", \"CD\", \"D\", \"DC\", \"DCC\", \"DCCC\", \"CM\" ),\n",
        "            ( \"\", \"M\", \"MM\", \"MMM\", \"\",   \"\",  \"-\",  \"\",    \"\",     \"\"   ),\n",
        "        )\n",
        "\n",
        "ROMAN_SYMBOL_MAP = dict(I=1, V=5, X=10, L=50, C=100, D=500, M=1000)\n",
        "\n",
        "CUTOFF = 4000\n",
        "BIG_DEC = 2900\n",
        "BIG_ROMAN = \"MMCM\"\n",
        "ROMAN_NOUGHT = \"nulla\"\n",
        "\n",
        "def digits(num):\n",
        "    if num < 0:\n",
        "        raise Exception('range error: negative numbers not supported')\n",
        "    if num % 1 != 0.0:\n",
        "        raise Exception('floating point numbers not supported')\n",
        "    res = []\n",
        "    while num > 0:\n",
        "        res.append(num % 10)\n",
        "        num //= 10\n",
        "    return res\n",
        "\n",
        "def toString(num, emptyZero=False):\n",
        "    if num < CUTOFF:\n",
        "        digitlist = digits(num)\n",
        "        if digitlist:\n",
        "            res = reversed([ ROMAN_CONSTANTS[order][digit] for order, digit in enumerate(digitlist) ])\n",
        "            return \"\".join(res)\n",
        "        else:\n",
        "            return \"\" if emptyZero else ROMAN_NOUGHT \n",
        "    else:\n",
        "        if num % 1 != 0.0:\n",
        "            raise Exception('floating point numbers not supported')\n",
        "        # For numbers over or equal the CUTOFF, the remainder of division by 2900\n",
        "        # is represented as above, prepended with the multiples of MMCM (2900 in Roman),\n",
        "        # which guarantees no more than 3 repetitive Ms.\n",
        "        return BIG_ROMAN * (num // BIG_DEC) + toString(num % BIG_DEC, emptyZero=True)\n",
        "\n",
        "def parse(numeral):\n",
        "    numeral = numeral.upper()\n",
        "    result = 0\n",
        "\n",
        "    lastVal = 0\n",
        "    lastCount = 0\n",
        "    subtraction = False\n",
        "    for symbol in numeral[::-1]:\n",
        "        value = ROMAN_SYMBOL_MAP.get(symbol)\n",
        "        if not value:\n",
        "            return False\n",
        "        if lastVal == 0:\n",
        "            lastCount = 1\n",
        "            lastVal = value\n",
        "        elif lastVal == value:\n",
        "            lastCount += 1\n",
        "            # exceptions\n",
        "        else:\n",
        "            result += (-1 if subtraction else 1) * lastVal * lastCount\n",
        "            subtraction = lastVal > value\n",
        "            lastCount = 1\n",
        "            lastVal = value\n",
        "    \n",
        "    result = result + (-1 if subtraction else 1) * lastVal * lastCount\n",
        "    return True"
      ],
      "metadata": {
        "id": "tzf1yPgE_FOD"
      },
      "id": "tzf1yPgE_FOD",
      "execution_count": 3,
      "outputs": []
    },
    {
      "cell_type": "code",
      "execution_count": 4,
      "id": "c66edbee",
      "metadata": {
        "colab": {
          "base_uri": "https://localhost:8080/"
        },
        "id": "c66edbee",
        "outputId": "18d87227-a032-4354-d27c-c1a7e82e2981"
      },
      "outputs": [
        {
          "output_type": "stream",
          "name": "stdout",
          "text": [
            "Dictionary loaded in 0.84s\n",
            "401123/710993\n",
            "['AALENIANA', 'AALENIANE', 'AALENIANI', 'AALENIANO', 'ABABUA', 'ABACA', 'ABACETI', 'ABACETO', 'ABACHI', 'ABACHISTA']\n"
          ]
        }
      ],
      "source": [
        "import requests\n",
        "import time\n",
        "\n",
        "dictionaryFileName = 'assets/dictionary_FULL_IT.txt'\n",
        "dictionaryFileName = 'assets/Ita.txt'\n",
        "\n",
        "    \n",
        "def normalizeWord(word):\n",
        "    return word.strip().upper()\n",
        "    \n",
        "LOAD_FROM_URL = True\n",
        "\n",
        "t0 = time.time()\n",
        "\n",
        "lines = []\n",
        "if LOAD_FROM_URL:\n",
        "    baseUrl = 'https://azrafe7.github.io/'\n",
        "    f = requests.get(baseUrl + dictionaryFileName)\n",
        "    lines = f.text.splitlines()\n",
        "else:\n",
        "    with open(dictionaryFileName) as f:\n",
        "        lines = f.read().splitlines()\n",
        "\n",
        "filteredWords = []\n",
        "for line in lines:\n",
        "    word = normalizeWord(line)\n",
        "    length = len(word)\n",
        "    if length >= MIN_WORD_LENGTH and length <= MAX_WORD_LENGTH and not parse(word):\n",
        "        filteredWords.append(word)\n",
        "\n",
        "print(\"Dictionary loaded in {0:.2f}s\".format(time.time() - t0))\n",
        "\n",
        "print('{0}/{1}'.format(len(filteredWords), len(lines)))\n",
        "\n",
        "print(filteredWords[:10])"
      ]
    },
    {
      "cell_type": "code",
      "execution_count": 5,
      "id": "9722fc02",
      "metadata": {
        "colab": {
          "base_uri": "https://localhost:8080/"
        },
        "id": "9722fc02",
        "outputId": "46048cfe-2e4a-4dd5-ada4-649b1e41dd59"
      },
      "outputs": [
        {
          "output_type": "execute_result",
          "data": {
            "text/plain": [
              "35094"
            ]
          },
          "metadata": {},
          "execution_count": 5
        }
      ],
      "source": [
        "\n",
        "def wordsOfLength(lengths):\n",
        "    return [word for word in filteredWords if len(word) in lengths]\n",
        "\n",
        "len(list(wordsOfLength(START_WORD_LENGTHS)))\n"
      ]
    },
    {
      "cell_type": "code",
      "execution_count": 6,
      "id": "61cf18e7",
      "metadata": {
        "colab": {
          "base_uri": "https://localhost:8080/"
        },
        "id": "61cf18e7",
        "outputId": "de97b1b5-06a8-4251-c29c-6dcbbead49f1"
      },
      "outputs": [
        {
          "output_type": "stream",
          "name": "stdout",
          "text": [
            "isAnagram(\"ostra\", \"motri\")\n",
            "False\n"
          ]
        }
      ],
      "source": [
        "\n",
        "def isAnagram(sourceWord, targetWord):\n",
        "    if len(sourceWord) != len(targetWord):\n",
        "        return False\n",
        "    \n",
        "    res = True\n",
        "    \n",
        "    sourceCharSet = list(sourceWord)\n",
        "    targetCharSet = list(targetWord)\n",
        "    \n",
        "    #print(targetCharSet)\n",
        "    for i, ch in enumerate(sourceWord):\n",
        "        #print(ch, targetCharSet)\n",
        "        if ch in targetCharSet:\n",
        "            targetCharSet.remove(ch)\n",
        "        else:\n",
        "            res = False\n",
        "            break\n",
        "    \n",
        "    return res\n",
        "    \n",
        "        \n",
        "assert(isAnagram('', ''))\n",
        "assert(not isAnagram('corto', 'trOca'))\n",
        "assert(not isAnagram('c', ''))\n",
        "assert(isAnagram('cortao', 'trocao'))\n",
        "\n",
        "srcWord = 'ostra'\n",
        "dstWord ='motri'\n",
        "\n",
        "print('isAnagram(\"{0}\", \"{1}\")'.format(srcWord, dstWord))\n",
        "print(isAnagram(srcWord, dstWord))"
      ]
    },
    {
      "cell_type": "code",
      "execution_count": 7,
      "id": "58c3fde5",
      "metadata": {
        "colab": {
          "base_uri": "https://localhost:8080/"
        },
        "id": "58c3fde5",
        "outputId": "729e1001-f7fe-4609-9d81-67b3b2ca9422"
      },
      "outputs": [
        {
          "output_type": "stream",
          "name": "stdout",
          "text": [
            "isAnagramEx(\"straccio\", \"crosta\", 2)\n",
            "True\n",
            "0.0529s\n"
          ]
        }
      ],
      "source": [
        "import time\n",
        "\n",
        "def isAnagramEx(sourceWord, targetWord, maxDiffLength=0, strict=False):\n",
        "    if maxDiffLength == 0:\n",
        "        return isAnagram(sourceWord, targetWord)\n",
        "    else:\n",
        "        wordDiffLength = abs(len(sourceWord) - len(targetWord))\n",
        "        if wordDiffLength > maxDiffLength:\n",
        "            return False\n",
        "        \n",
        "    sourceCharSet = list(sourceWord)\n",
        "    targetCharSet = list(targetWord)\n",
        "    \n",
        "    if len(sourceCharSet) > len(targetCharSet):\n",
        "        sourceCharSet, targetCharSet = targetCharSet, sourceCharSet\n",
        "        \n",
        "    #print(targetCharSet, sourceCharSet)\n",
        "    for ch in sourceCharSet:\n",
        "        #print(ch, targetCharSet)\n",
        "        if ch in targetCharSet:\n",
        "            targetCharSet.remove(ch)\n",
        "    \n",
        "    #print(targetCharSet)\n",
        "    targetCharSetLength = len(targetCharSet)\n",
        "    #print(wordDiffLength, targetCharSet)\n",
        "    isLooseAnagram = (targetCharSetLength <= maxDiffLength)\n",
        "    res = (not strict and isLooseAnagram) or (strict and isLooseAnagram and wordDiffLength == maxDiffLength)\n",
        "    return res\n",
        "    \n",
        "        \n",
        "maxDiffLength=2\n",
        "\n",
        "assert(isAnagramEx('', ''))\n",
        "assert(not isAnagramEx('corto', 'trOca'))\n",
        "assert(not isAnagramEx('c', ''))\n",
        "assert(isAnagramEx('cortao', 'trocao'))\n",
        "assert(isAnagramEx('cortao', 'trocaox', 1))\n",
        "assert(not isAnagramEx('strappo', 'posta', 1))\n",
        "assert(isAnagramEx('strappo', 'posta', 2))\n",
        "assert(isAnagramEx('strappo', 'posta', 3))\n",
        "assert(not isAnagramEx('strappo', 'posta', 3, strict=True))\n",
        "assert(isAnagramEx('strappo', 'posta', 2, strict=True))\n",
        "assert(isAnagramEx('LEVI', 'ABILE', 2,))\n",
        "assert(not isAnagramEx('TUFFAI', 'ABACA', 2,))\n",
        "\n",
        "\n",
        "srcWord = 'straccio'\n",
        "dstWord ='crosta'\n",
        "\n",
        "print('isAnagramEx(\"{0}\", \"{1}\", {2})'.format(srcWord, dstWord, maxDiffLength))\n",
        "print(isAnagramEx(srcWord, dstWord, maxDiffLength=maxDiffLength))\n",
        "\n",
        "t0 = time.time()\n",
        "for i in range(5000):\n",
        "  isAnagramEx('', '')\n",
        "  not isAnagramEx('corto', 'trOca')\n",
        "  not isAnagramEx('c', '')\n",
        "  isAnagramEx('cortao', 'trocao')\n",
        "  isAnagramEx('cortao', 'trocaox', 1)\n",
        "  not isAnagramEx('strappo', 'posta', 1)\n",
        "  isAnagramEx('strappo', 'posta', 2)\n",
        "  isAnagramEx('strappo', 'posta', 3)\n",
        "  not isAnagramEx('strappo', 'posta', 3, strict=True)\n",
        "  isAnagramEx('strappo', 'posta', 2, strict=True)\n",
        "  isAnagramEx('LEVI', 'ABILE', 2, )\n",
        "  not isAnagramEx('TUFFAI', 'ABACA', 2, )  \n",
        "print(f'{(time.time() - t0):.4f}s')\n"
      ]
    },
    {
      "cell_type": "code",
      "source": [
        "import time\n",
        "\n",
        "\n",
        "def _isAnagramEx2(sortedSourceChars, sortedTargetChars, sourceLength, targetLength, maxDiffLength=0, strict=False):\n",
        "  # if maxDiffLength == 0:\n",
        "  #     return sortedSourceChars == sortedTargetChars\n",
        "  # else:\n",
        "  #   wordDiffLength = abs(sourceLength - targetLength)\n",
        "  #   if wordDiffLength > maxDiffLength:\n",
        "  #       return False\n",
        "\n",
        "  i = 0\n",
        "  j = 0\n",
        "  diff = 0\n",
        "  same = 0\n",
        "  if sourceLength != 0 and targetLength != 0:\n",
        "    while i < sourceLength and j < targetLength:\n",
        "      sourceCh = sortedSourceChars[i]\n",
        "      targetCh = sortedTargetChars[j]\n",
        "      if sourceCh == targetCh:\n",
        "        i += 1\n",
        "        j += 1\n",
        "        same += 1\n",
        "      else:\n",
        "        if sourceCh < targetCh:\n",
        "          i += 1\n",
        "        else:\n",
        "          j += 1\n",
        "\n",
        "  diff = max(sourceLength, targetLength) - same\n",
        "  #print(sortedSourceChars, sortedTargetChars, diff, same)\n",
        "  isLooseAnagram = diff <= maxDiffLength\n",
        "  res = (not strict and isLooseAnagram) or (strict and isLooseAnagram and diff == maxDiffLength)\n",
        "  return res, diff\n",
        "\n",
        "\n",
        "def isAnagramEx2(sourceWord, targetWord, maxDiffLength=0, strict=False):\n",
        "  sortedSourceChars = sorted(sourceWord)\n",
        "  sortedTargetChars = sorted(targetWord)\n",
        "\n",
        "  # if maxDiffLength == 0:\n",
        "  #     return sortedSourceChars == sortedTargetChars\n",
        "  # else:\n",
        "\n",
        "\n",
        "  sourceLength = len(sortedSourceChars)\n",
        "  targetLength = len(sortedTargetChars)\n",
        "\n",
        "  return _isAnagramEx2(sortedSourceChars, sortedTargetChars, sourceLength, targetLength, maxDiffLength=maxDiffLength, strict=strict)\n",
        "\n",
        "maxDiffLength = 2\n",
        "\n",
        "assert (True, 0) == isAnagramEx2('', '')\n",
        "assert (False, 2) == isAnagramEx2('corto', 'trOca')\n",
        "assert (False, 4) == isAnagramEx2('corto', 'trOcaul')\n",
        "assert (False, 1) == isAnagramEx2('c', '')\n",
        "assert (True, 1) == isAnagramEx2('cortao', 'trocaox', 1)\n",
        "assert (True, 0) == isAnagramEx2('cortao', 'trocao')\n",
        "assert (False, 2) == isAnagramEx2('strappo', 'posta', 1)\n",
        "assert (True, 2) == isAnagramEx2('strappo', 'posta', 2)\n",
        "assert (True, 2) == isAnagramEx2('strappo', 'posta', 3)\n",
        "assert (False, 2) == isAnagramEx2('strappo', 'posta', 3, strict=True)\n",
        "assert (True, 2) == isAnagramEx2('strappo', 'posta', 2, strict=True)\n",
        "assert (True, 2) == isAnagramEx2('LEVI', 'ABILE', 2, strict=False)\n",
        "assert (False, 5) == isAnagramEx2('TUFFAI', 'ABACA', 2, strict=False)\n",
        "assert (False, 5) == isAnagramEx2('TUFFAI', 'ABACA', 2, strict=True)\n",
        "assert (True, 1) == isAnagramEx2('AOPST', 'AOPSTU', 1, strict=False)\n",
        "assert (True, 1) == isAnagramEx2('AOPST', 'AOPSTU', 1, strict=True)\n",
        "\n",
        "srcWord = 'straccio'\n",
        "dstWord = 'crosta'\n",
        "\n",
        "print('isAnagramEx2(\"{0}\", \"{1}\", {2})'.format(srcWord, dstWord, maxDiffLength))\n",
        "print(isAnagramEx2(srcWord, dstWord, maxDiffLength=maxDiffLength))\n",
        "\n",
        "t0 = time.time()\n",
        "for i in range(5000):\n",
        "  isAnagramEx2('', '')\n",
        "  not isAnagramEx2('corto', 'trOca')\n",
        "  not isAnagramEx2('c', '')\n",
        "  isAnagramEx2('cortao', 'trocao')\n",
        "  isAnagramEx2('cortao', 'trocaox', 1)\n",
        "  not isAnagramEx2('strappo', 'posta', 1)\n",
        "  isAnagramEx2('strappo', 'posta', 2)\n",
        "  isAnagramEx2('strappo', 'posta', 3)\n",
        "  not isAnagramEx2('strappo', 'posta', 3, strict=True)\n",
        "  isAnagramEx2('strappo', 'posta', 2, strict=True)\n",
        "  isAnagramEx2('LEVI', 'ABILE', 2, )\n",
        "  not isAnagramEx2('TUFFAI', 'ABACA', 2, )\n",
        "print(f'{(time.time() - t0):.4f}s')\n"
      ],
      "metadata": {
        "colab": {
          "base_uri": "https://localhost:8080/"
        },
        "id": "CGB3EfzCYLUX",
        "outputId": "1078b575-babf-45ae-b034-c4053791f695"
      },
      "id": "CGB3EfzCYLUX",
      "execution_count": 8,
      "outputs": [
        {
          "output_type": "stream",
          "name": "stdout",
          "text": [
            "isAnagramEx2(\"straccio\", \"crosta\", 2)\n",
            "(True, 2)\n",
            "0.0881s\n"
          ]
        }
      ]
    },
    {
      "cell_type": "code",
      "source": [
        "import time\n",
        "from collections import Counter\n",
        "\n",
        "def isAnagram_Counter(sourceWord, targetWord, maxDiffLength=0, strict=False):\n",
        "  sourceCounter = Counter(sourceWord)\n",
        "  targetCounter = Counter(targetWord)\n",
        "\n",
        "  # swap? (lengthier first!)\n",
        "  if len(sourceWord) < len(targetWord):\n",
        "    sourceCounter, targetCounter = targetCounter, sourceCounter\n",
        "\n",
        "  diffCounter = sourceCounter - targetCounter\n",
        "\n",
        "  diffSum = sum(diffCounter.values())\n",
        "\n",
        "  isAnagram = (not strict and diffSum <= maxDiffLength) or (strict and diffSum == maxDiffLength)\n",
        "  return isAnagram, diffSum\n",
        "\n",
        "print(\"->\", isAnagram_Counter('corto', 'trOca'))\n",
        "\n",
        "\n",
        "assert (True, 0) == isAnagram_Counter('', '')\n",
        "assert (False, 2) == isAnagram_Counter('corto', 'trOca')\n",
        "assert (False, 4) == isAnagram_Counter('corto', 'trOcaul')\n",
        "assert (False, 1) == isAnagram_Counter('c', '')\n",
        "assert (True, 1) == isAnagram_Counter('cortao', 'trocaox', 1)\n",
        "assert (True, 0) == isAnagram_Counter('cortao', 'trocao')\n",
        "assert (False, 2) == isAnagram_Counter('strappo', 'posta', 1)\n",
        "assert (True, 2) == isAnagram_Counter('strappo', 'posta', 2)\n",
        "assert (True, 2) == isAnagram_Counter('strappo', 'posta', 3)\n",
        "assert (False, 2) == isAnagram_Counter('strappo', 'posta', 3, strict=True)\n",
        "assert (True, 2) == isAnagram_Counter('strappo', 'posta', 2, strict=True)\n",
        "assert (True, 2) == isAnagram_Counter('LEVI', 'ABILE', 2, strict=False)\n",
        "assert (False, 5) == isAnagram_Counter('TUFFAI', 'ABACA', 2, strict=False)\n",
        "assert (False, 5) == isAnagram_Counter('TUFFAI', 'ABACA', 2, strict=True)\n",
        "assert (True, 1) == isAnagram_Counter('AOPST', 'AOPSTU', 1, strict=False)\n",
        "assert (True, 1) == isAnagram_Counter('AOPST', 'AOPSTU', 1, strict=True)\n",
        "assert (True, 1) == isAnagram_Counter('BAVA', 'ABAVI', 1, strict=True)\n",
        "\n",
        "t0 = time.time()\n",
        "for i in range(5000):\n",
        "  isAnagram_Counter('', '')\n",
        "  not isAnagram_Counter('corto', 'trOca')\n",
        "  not isAnagram_Counter('c', '')\n",
        "  isAnagram_Counter('cortao', 'trocao')\n",
        "  isAnagram_Counter('cortao', 'trocaox', 1)\n",
        "  not isAnagram_Counter('strappo', 'posta', 1)\n",
        "  isAnagram_Counter('strappo', 'posta', 2)\n",
        "  isAnagram_Counter('strappo', 'posta', 3)\n",
        "  not isAnagram_Counter('strappo', 'posta', 3, strict=True)\n",
        "  isAnagram_Counter('strappo', 'posta', 2, strict=True)\n",
        "  isAnagram_Counter('LEVI', 'ABILE', 2, )\n",
        "  not isAnagram_Counter('TUFFAI', 'ABACA', 2, )\n",
        "print(f'{(time.time() - t0):.4f}s')\n"
      ],
      "metadata": {
        "colab": {
          "base_uri": "https://localhost:8080/"
        },
        "id": "k_Ob2uNwsGy1",
        "outputId": "6fe75df3-01f0-4ff4-91ae-0022dabf2977"
      },
      "id": "k_Ob2uNwsGy1",
      "execution_count": 9,
      "outputs": [
        {
          "output_type": "stream",
          "name": "stdout",
          "text": [
            "-> (False, 2)\n",
            "0.2539s\n"
          ]
        }
      ]
    },
    {
      "cell_type": "code",
      "execution_count": 10,
      "id": "b03898fd",
      "metadata": {
        "colab": {
          "base_uri": "https://localhost:8080/"
        },
        "id": "b03898fd",
        "outputId": "bc58ac37-a8ee-4b53-a14b-c9d376c40a76"
      },
      "outputs": [
        {
          "output_type": "stream",
          "name": "stdout",
          "text": [
            "Build took 2.35992 s\n",
            "Read 401123 words into 674739 nodes\n",
            "Search took 0.389868 s\n"
          ]
        }
      ],
      "source": [
        "# http://stevehanov.ca/blog/index.php?id=114\n",
        "# By Steve Hanov, 2011. Released to the public domain\n",
        "import time\n",
        "import sys\n",
        "\n",
        "DICTIONARY = \"/usr/share/dict/words\";\n",
        "TARGET = \"SCORTA\"\n",
        "MAX_COST = 4\n",
        "\n",
        "# Keep some interesting statistics\n",
        "NodeCount = 0\n",
        "WordCount = 0\n",
        "\n",
        "# The Trie data structure keeps a set of words, organized with one node for\n",
        "# each letter. Each node has a branch for each letter that may follow it in the\n",
        "# set of words.\n",
        "class TrieNode:\n",
        "    def __init__(self):\n",
        "        self.word = None\n",
        "        self.children = {}\n",
        "\n",
        "        global NodeCount\n",
        "        NodeCount += 1\n",
        "\n",
        "    def insert( self, word ):\n",
        "        node = self\n",
        "        for letter in word:\n",
        "            if letter not in node.children: \n",
        "                node.children[letter] = TrieNode()\n",
        "\n",
        "            node = node.children[letter]\n",
        "\n",
        "        node.word = word\n",
        "\n",
        "# read dictionary file into a trie\n",
        "start = time.time()\n",
        "\n",
        "trie = TrieNode()\n",
        "for word in filteredWords:\n",
        "    WordCount += 1\n",
        "    trie.insert( word )\n",
        "\n",
        "end = time.time()\n",
        "print(\"Build took %g s\" % (end - start))\n",
        "\n",
        "print(\"Read %d words into %d nodes\" % (WordCount, NodeCount))\n",
        "\n",
        "# The search function returns a list of all words that are less than the given\n",
        "# maximum distance from the target word\n",
        "def search( word, maxCost ):\n",
        "\n",
        "    # build first row\n",
        "    currentRow = range( len(word) + 1 )\n",
        "\n",
        "    results = []\n",
        "\n",
        "    # recursively search each branch of the trie\n",
        "    for letter in trie.children:\n",
        "        searchRecursive( trie.children[letter], letter, word, currentRow, \n",
        "            results, maxCost )\n",
        "\n",
        "    return results\n",
        "\n",
        "# This recursive helper is used by the search function above. It assumes that\n",
        "# the previousRow has been filled in already.\n",
        "def searchRecursive( node, letter, word, previousRow, results, maxCost ):\n",
        "\n",
        "    columns = len( word ) + 1\n",
        "    currentRow = [ previousRow[0] + 1 ]\n",
        "\n",
        "    # Build one row for the letter, with a column for each letter in the target\n",
        "    # word, plus one for the empty string at column 0\n",
        "    for column in range( 1, columns ):\n",
        "\n",
        "        insertCost = currentRow[column - 1] + 1\n",
        "        deleteCost = previousRow[column] + 1\n",
        "\n",
        "        if word[column - 1] != letter:\n",
        "            replaceCost = previousRow[ column - 1 ] + 1\n",
        "        else:                \n",
        "            replaceCost = previousRow[ column - 1 ]\n",
        "\n",
        "        currentRow.append( min( insertCost, deleteCost, replaceCost ) )\n",
        "\n",
        "    # if the last entry in the row indicates the optimal cost is less than the\n",
        "    # maximum cost, and there is a word in this trie node, then add it.\n",
        "    if currentRow[-1] <= maxCost and node.word != None:\n",
        "        results.append( (node.word, currentRow[-1] ) )\n",
        "\n",
        "    # if any entries in the row are less than the maximum cost, then \n",
        "    # recursively search each branch of the trie\n",
        "    if min( currentRow ) <= maxCost:\n",
        "        for letter in node.children:\n",
        "            searchRecursive( node.children[letter], letter, word, currentRow, \n",
        "                results, maxCost )\n",
        "\n",
        "start = time.time()\n",
        "results = search( TARGET, MAX_COST )\n",
        "end = time.time()\n",
        "\n",
        "#for result in results: print(result)\n",
        "\n",
        "print(\"Search took %g s\" % (end - start))\n",
        "\n"
      ]
    },
    {
      "cell_type": "code",
      "execution_count": 11,
      "id": "4f36e052",
      "metadata": {
        "colab": {
          "base_uri": "https://localhost:8080/"
        },
        "id": "4f36e052",
        "outputId": "0a1cddde-5eda-430f-e799-3bb9674e2a2a"
      },
      "outputs": [
        {
          "output_type": "stream",
          "name": "stdout",
          "text": [
            "START WORD: ALLEATOTI\n",
            "Search took 0.32703 s\n",
            "END WORD: ('ASCIATOTI', 3)\n"
          ]
        }
      ],
      "source": [
        "import random\n",
        "\n",
        "startWord = random.choice(filteredWords)\n",
        "print(\"START WORD:\", startWord)\n",
        "\n",
        "start = time.time()\n",
        "results = search(startWord, 3)\n",
        "end = time.time()\n",
        "\n",
        "print(\"Search took %g s\" % (end - start))\n",
        "\n",
        "validEndWord = random.choice(results)\n",
        "\n",
        "print(\"END WORD:\", validEndWord)\n"
      ]
    },
    {
      "cell_type": "code",
      "execution_count": 12,
      "id": "07dc857e",
      "metadata": {
        "id": "07dc857e"
      },
      "outputs": [],
      "source": [
        "def findAnagramsEx(wordList, word, maxDiffLength=1, strict=False):\n",
        "    results = []\n",
        "    wordLength = len(word)\n",
        "    for entry in wordList:\n",
        "        entryLength = len(entry)\n",
        "        if word == entry or entryLength < wordLength - maxDiffLength or entryLength > wordLength + maxDiffLength:\n",
        "            continue\n",
        "        if isAnagramEx(entry, word, maxDiffLength=maxDiffLength, strict=strict):\n",
        "            diffLength = abs(len(entry) - len(word))\n",
        "            results.append((entry, diffLength))\n",
        "    \n",
        "    return results\n"
      ]
    },
    {
      "cell_type": "code",
      "execution_count": 12,
      "id": "c1b41586",
      "metadata": {
        "id": "c1b41586"
      },
      "outputs": [],
      "source": []
    },
    {
      "cell_type": "code",
      "execution_count": 13,
      "id": "97032888",
      "metadata": {
        "id": "97032888",
        "colab": {
          "base_uri": "https://localhost:8080/"
        },
        "outputId": "25d1ab4b-e8da-4f50-f9f1-59bfeefca3d1"
      },
      "outputs": [
        {
          "output_type": "stream",
          "name": "stdout",
          "text": [
            "START WORD: ALLEATOTI\n",
            "[('ACUTIZZA', 0), ('AGUZZACI', 0), ('AGUZZAI', 1), ('AGUZZALI', 0), ('AGUZZAMI', 0), ('AGUZZARCI', 1), ('AGUZZATI', 0), ('AGUZZAVI', 0), ('AGUZZINA', 0), ('CAGNAZZI', 0), ('CAZZAGLI', 0), ('DIGUAZZA', 0), ('GUAZZAI', 1), ('GUAZZALI', 0), ('GUAZZAMI', 0), ('GUAZZARCI', 1), ('GUAZZATI', 0), ('GUAZZAVI', 0), ('GUIZZACI', 0), ('GUIZZALA', 0), ('GUIZZATA', 0), ('GUIZZAVA', 0), ('RIAGUZZA', 0), ('SGUAZZACI', 1), ('SGUAZZAI', 0)]\n"
          ]
        }
      ],
      "source": [
        "import random\n",
        "\n",
        "newStartWord = random.choice(filteredWords)\n",
        "print(\"START WORD:\", startWord)\n",
        "\n",
        "anagramsDict = {0:[], 1:[], 2:[]}\n",
        "randomFilteredWords = filteredWords[:]\n",
        "random.shuffle(filteredWords[:])\n",
        "randomFilteredWords = sorted(randomFilteredWords)\n",
        "\n",
        "anagrams = findAnagramsEx(randomFilteredWords, newStartWord, maxDiffLength=1, strict=False)\n",
        "for anagram in anagrams:\n",
        "    anagramsDict[anagram[1]].append(anagram[0])\n",
        "    \n",
        "print(anagrams)\n",
        "#print(anagramsDict[0][:10])"
      ]
    },
    {
      "cell_type": "code",
      "execution_count": 14,
      "id": "f203e9f3",
      "metadata": {
        "id": "f203e9f3",
        "colab": {
          "base_uri": "https://localhost:8080/"
        },
        "outputId": "3c362c67-166a-4672-d3d4-001e1f342c1e"
      },
      "outputs": [
        {
          "output_type": "stream",
          "name": "stdout",
          "text": [
            "['AGUZZAI', 'AGUZZARCI', 'GUAZZAI', 'GUAZZARCI', 'SGUAZZACI']\n"
          ]
        }
      ],
      "source": [
        "print(anagramsDict[1])"
      ]
    },
    {
      "cell_type": "code",
      "execution_count": 15,
      "id": "57b8bafa",
      "metadata": {
        "id": "57b8bafa",
        "colab": {
          "base_uri": "https://localhost:8080/"
        },
        "outputId": "54eaec0d-8b45-4eee-8270-3a9ced38dc65"
      },
      "outputs": [
        {
          "output_type": "stream",
          "name": "stdout",
          "text": [
            "START WORD: MOXA\n",
            "Finding levenshtein... (0.00)\n",
            "('MOJA', 1) 13 levenshtein\n",
            "Finding anagrams... (0.15)\n",
            "anagram 1\n",
            "restart True\n",
            "\n",
            "START WORD: SPARAR\n",
            "Finding levenshtein... (0.01)\n",
            "('SGARAR', 1) 18 levenshtein\n",
            "Finding anagrams... (0.58)\n",
            "('SAGRERA', 1) 18 anagram\n",
            "Finding anagrams... (1.26)\n",
            "('SGRATARE', 1) 34 anagram\n",
            "Finding anagrams... (1.19)\n",
            "('ARRESTA', 1) 31 anagram\n",
            "Finding anagrams... (0.28)\n",
            "('SARTIERA', 1) 91 anagram\n",
            "Finding levenshtein... (0.01)\n",
            "('SARTIERAI', 1) 4 levenshtein\n",
            "restart False\n",
            "\n",
            "END WORD: SARTIERAI\n",
            "Elapsed 3.58s\n"
          ]
        }
      ],
      "source": [
        "import time\n",
        "\n",
        "def generateChain(quiet=False, startWord=None, strict=False):\n",
        "    startWords = wordsOfLength(START_WORD_LENGTHS)\n",
        "    \n",
        "    restart = True\n",
        "    \n",
        "    while restart:\n",
        "        restart = False\n",
        "        startWord = random.choice(startWords)\n",
        "        print(\"START WORD:\", startWord)\n",
        "    \n",
        "        steps = [startWord]\n",
        "    \n",
        "        prevStep = (startWord, 0)\n",
        "        #self.info.text = \"\"\n",
        "        for i in range(6):\n",
        "            choice = random.choice([\"anagram\", \"levenshtein\"])\n",
        "            if choice == \"anagram\":\n",
        "                if not quiet: print(\"Finding anagrams...\", end=\"\")\n",
        "                startTime = time.time()\n",
        "                anagrams = findAnagramsEx(filteredWords, prevStep[0], maxDiffLength=1, strict=strict)\n",
        "                if not quiet: print(\" ({0:.2f})\".format(time.time() - startTime))\n",
        "                if len(anagrams) < 10 and i < MIN_STEPS:\n",
        "                    restart = True\n",
        "                    print(choice, len(anagrams))\n",
        "                    break\n",
        "            else:\n",
        "                if not quiet: print(\"Finding levenshtein...\", end=\"\")\n",
        "                startTime = time.time()\n",
        "                results = search(prevStep[0], 1)\n",
        "                if not quiet: print(\" ({0:.2f})\".format(time.time() - startTime))\n",
        "                if len(results) < 10 and i < MIN_STEPS:\n",
        "                    restart = True\n",
        "                    print(choice, len(results))\n",
        "                    break\n",
        "                    \n",
        "            done = False\n",
        "            while not done:\n",
        "                if choice == \"anagram\":\n",
        "                    nextStep = random.choice(anagrams)\n",
        "                else:\n",
        "                    nextStep = random.choice(results)\n",
        "    \n",
        "                if nextStep[0] not in steps:\n",
        "                    steps.append(nextStep[0])\n",
        "                    done = True\n",
        "    \n",
        "            resultsCount = len(results) if choice == \"levenshtein\" else len(anagrams)\n",
        "            if not quiet: print(nextStep, resultsCount, choice)\n",
        "            prevStep = nextStep\n",
        "    \n",
        "        print(\"restart\", restart)\n",
        "        print()\n",
        "    \n",
        "    endWord = steps[-1]\n",
        "    print(\"END WORD:\", endWord)  \n",
        "    return steps\n",
        "\n",
        "t0 = time.time()\n",
        "steps = generateChain(startWord=None, strict=True)\n",
        "print(\"Elapsed {0:.2f}s\".format(time.time() - t0))\n",
        "\n",
        "startWord = steps[0]\n",
        "endWord = steps[-1]"
      ]
    },
    {
      "cell_type": "code",
      "execution_count": 16,
      "id": "11692f09",
      "metadata": {
        "id": "11692f09",
        "colab": {
          "base_uri": "https://localhost:8080/"
        },
        "outputId": "fd14fdc8-0dab-401a-94dd-655b9c6ec211"
      },
      "outputs": [
        {
          "output_type": "stream",
          "name": "stdout",
          "text": [
            "START WORD: SPARAR\n",
            "END WORD  : SARTIERAI\n"
          ]
        }
      ],
      "source": [
        "def isInDictionary(word):\n",
        "    results = search(word, 0)\n",
        "    return len(results) > 0\n",
        "\n",
        "class WordStatus():\n",
        "  UNCHECKED = 0\n",
        "  VALID = 1\n",
        "  INVALID = 2\n",
        "  NOT_IN_DICT = 3\n",
        "\n",
        "def checkValidChain(startWord, endWord, wordChain):\n",
        "    prevWord = startWord\n",
        "    isOk = True\n",
        "    statuses = []\n",
        "    for word in wordChain + [endWord]:\n",
        "        inDictionary = isInDictionary(word)\n",
        "        results = [t[0] for t in search(prevWord, 1)]\n",
        "        anagrams = [t[0] for t in findAnagramsEx(filteredWords, prevWord, maxDiffLength=1, strict=False)]\n",
        "        isWordOk = inDictionary and (word in results or word in anagrams) \n",
        "        if not inDictionary:\n",
        "            print(\"✖️\", word)\n",
        "            statuses.append(WordStatus.NOT_IN_DICT)\n",
        "        else:\n",
        "            print(\"✔️\" if isWordOk else \"❌\", word)\n",
        "            statuses.append(WordStatus.VALID if isWordOk else WordStatus.INVALID)\n",
        "        \n",
        "        if not isWordOk:\n",
        "            isOk = False\n",
        "        prevWord = word\n",
        "\n",
        "    return isOk, statuses\n",
        "            \n",
        "print(\"START WORD:\", startWord)\n",
        "print(\"END WORD  :\", endWord)"
      ]
    },
    {
      "cell_type": "code",
      "execution_count": 17,
      "id": "e40e0b2d",
      "metadata": {
        "id": "e40e0b2d"
      },
      "outputs": [],
      "source": [
        "def displayCheckValidChain(startWord, endWord, wordChain):\n",
        "    print()\n",
        "    print(startWord)\n",
        "    ok, statuses = checkValidChain(startWord, endWord, wordChain)\n",
        "    print(endWord)\n",
        "\n",
        "    print()\n",
        "    print(\"👍 WON\" if ok else \"👎 LOST\")\n",
        "\n",
        "    print()\n"
      ]
    },
    {
      "cell_type": "code",
      "execution_count": 18,
      "id": "b13ddaf0",
      "metadata": {
        "id": "b13ddaf0",
        "colab": {
          "base_uri": "https://localhost:8080/"
        },
        "outputId": "047c22fb-2664-41ef-cbac-ec2f1c7a89bd"
      },
      "outputs": [
        {
          "output_type": "stream",
          "name": "stdout",
          "text": [
            "START WORD: SBRANO\n",
            "restart False\n",
            "\n",
            "END WORD: PASSAR\n",
            "\n",
            "Generate 0.71s\n",
            "START WORD: SBRANO\n",
            "END WORD  : PASSAR\n"
          ]
        }
      ],
      "source": [
        "# regenerate start/end words\n",
        "t0 = time.time()\n",
        "steps = generateChain(quiet=True, startWord='piccolo')\n",
        "print(\"\\nGenerate {0:.2f}s\".format(time.time() - t0))\n",
        "\n",
        "startWord = steps[0]\n",
        "endWord = steps[-1]\n",
        "\n",
        "print(\"START WORD:\", startWord)\n",
        "print(\"END WORD  :\", endWord)"
      ]
    },
    {
      "cell_type": "code",
      "execution_count": 19,
      "id": "510ee2b5",
      "metadata": {
        "scrolled": true,
        "id": "510ee2b5",
        "colab": {
          "base_uri": "https://localhost:8080/"
        },
        "outputId": "acc5d88c-9a56-40a6-9bed-34cc3a9697ff"
      },
      "outputs": [
        {
          "output_type": "stream",
          "name": "stdout",
          "text": [
            "\n",
            "SBRANO\n",
            "❌ PANTERA\n",
            "❌ PENTOLA\n",
            "❌ PANTOFOLA\n",
            "❌ OSTERIA\n",
            "❌ RISTORAI\n",
            "❌ PIANTALA\n",
            "❌ PASSAR\n",
            "PASSAR\n",
            "\n",
            "👎 LOST\n",
            "\n",
            "Validate 2.51s\n"
          ]
        }
      ],
      "source": [
        "wordChain = [\n",
        "    'pantera',\n",
        "    'pentola',\n",
        "    'pantofola',\n",
        "    'osteria',\n",
        "    'ristorai',\n",
        "    'piantala',\n",
        "]\n",
        "wordChain = [w.strip().upper() for w in wordChain]\n",
        "#print(\"GUESS WORD CHAIN\", wordChain)\n",
        "\n",
        "t0 = time.time()\n",
        "displayCheckValidChain(startWord, endWord, wordChain)\n",
        "print(\"Validate {0:.2f}s\".format(time.time() - t0))"
      ]
    },
    {
      "cell_type": "code",
      "execution_count": 20,
      "id": "7659d980",
      "metadata": {
        "id": "7659d980",
        "colab": {
          "base_uri": "https://localhost:8080/"
        },
        "outputId": "0e7ef53c-582d-49f7-b1b7-11b64a51f215"
      },
      "outputs": [
        {
          "output_type": "stream",
          "name": "stdout",
          "text": [
            "COMPUTED WORD CHAIN ['SBRANO', 'SORABA', 'BASSAR', 'SCASAR', 'GRASSA', 'LASSAR', 'PASSAR']\n"
          ]
        }
      ],
      "source": [
        "# STEPS\n",
        "\n",
        "print(\"COMPUTED WORD CHAIN\", steps)"
      ]
    },
    {
      "cell_type": "code",
      "execution_count": 21,
      "id": "783783ce",
      "metadata": {
        "id": "783783ce",
        "colab": {
          "base_uri": "https://localhost:8080/"
        },
        "outputId": "97e82d75-89d3-4ce3-dce4-e7552134c0f0"
      },
      "outputs": [
        {
          "output_type": "execute_result",
          "data": {
            "text/plain": [
              "[('MUOVI', 0)]"
            ]
          },
          "metadata": {},
          "execution_count": 21
        }
      ],
      "source": [
        "# find in dictionary\n",
        "\n",
        "findWord = 'muovi'\n",
        "\n",
        "search(findWord.strip().upper(), 0)\n"
      ]
    },
    {
      "cell_type": "code",
      "source": [
        "print([hex(ord(ch)) for ch in \"✖️\"])\n",
        "print([hex(ord(ch)) for ch in \"✔️\"])\n",
        "print([hex(ord(ch)) for ch in \"❌\"])\n",
        "\"👍\"\n",
        "hex(ord(\"👎\"))"
      ],
      "metadata": {
        "id": "zxeuKIqdIM68",
        "colab": {
          "base_uri": "https://localhost:8080/",
          "height": 87
        },
        "outputId": "b0f56bda-04d8-4a9c-cca0-c7786f52c46d"
      },
      "id": "zxeuKIqdIM68",
      "execution_count": 22,
      "outputs": [
        {
          "output_type": "stream",
          "name": "stdout",
          "text": [
            "['0x2716', '0xfe0f']\n",
            "['0x2714', '0xfe0f']\n",
            "['0x274c']\n"
          ]
        },
        {
          "output_type": "execute_result",
          "data": {
            "text/plain": [
              "'0x1f44e'"
            ],
            "application/vnd.google.colaboratory.intrinsic+json": {
              "type": "string"
            }
          },
          "metadata": {},
          "execution_count": 22
        }
      ]
    },
    {
      "cell_type": "code",
      "source": [
        "@anvil.server.callable\n",
        "def srvGenerateWordChain(quiet=True, startWord=None, strict=True):\n",
        "  steps = generateChain(quiet=quiet, startWord=startWord, strict=strict)\n",
        "  return steps\n",
        "\n",
        "@anvil.server.callable\n",
        "def srvValidateChain(startWord, endWord, wordChain):\n",
        "  isOk, statuses = checkValidChain(startWord, endWord, wordChain)\n",
        "  return isOk, statuses\n",
        "\n"
      ],
      "metadata": {
        "id": "kHDjlRX9O7Jm"
      },
      "id": "kHDjlRX9O7Jm",
      "execution_count": 23,
      "outputs": []
    },
    {
      "cell_type": "code",
      "source": [
        "t0 = time.time()\n",
        "\n",
        "anagramsDict = {}\n",
        "wordsByLength = {}\n",
        "wordsBySortedAndLength = {}\n",
        "for w in filteredWords[:]:\n",
        "  sortedWord = ''.join(sorted(w))\n",
        "  if sortedWord not in anagramsDict:\n",
        "    anagramsDict[sortedWord] = set()\n",
        "  anagramsDict[sortedWord].add(w)\n",
        "  # moreAnagrams = findAnagramsEx(filteredWords, w, maxDiffLength=1, strict=True)\n",
        "  # for item in moreAnagrams:\n",
        "  #   anagramsDict[sortedWord].add(item[0])\n",
        "  length = len(w)\n",
        "  if length not in wordsByLength:\n",
        "    wordsByLength[length] = set()\n",
        "  wordsByLength[length].add(w)\n",
        "  if w not in wordsBySortedAndLength:\n",
        "    wordsBySortedAndLength[w] = [None, None]\n",
        "  wordsBySortedAndLength[w][0] = sortedWord\n",
        "  wordsBySortedAndLength[w][1] = length\n",
        "\n",
        "\n",
        "print(f'{(time.time() - t0):.2f}s')\n",
        "\n",
        "display([item for item in random.choices(list(anagramsDict.items()), k=10)])\n",
        "display([(k, list(v)[:5]) for k, v in wordsByLength.items()])\n",
        "display([item for item in random.choices(list(wordsBySortedAndLength.items()), k=10)])\n"
      ],
      "metadata": {
        "id": "SCxcY8vFkjAL",
        "outputId": "c259b780-0c94-4892-cfe5-f14929c202f6",
        "colab": {
          "base_uri": "https://localhost:8080/",
          "height": 486
        }
      },
      "id": "SCxcY8vFkjAL",
      "execution_count": 24,
      "outputs": [
        {
          "output_type": "stream",
          "name": "stdout",
          "text": [
            "1.22s\n"
          ]
        },
        {
          "output_type": "display_data",
          "data": {
            "text/plain": [
              "[('AACGLRU', {'GRACULA', 'GUALCAR'}),\n",
              " ('EFIILSSS', {'FLESSISI'}),\n",
              " ('ADEIRTTUV', {'DUETTARVI', 'TRAVEDUTI'}),\n",
              " ('EEEFIRZ', {'FEREZEI'}),\n",
              " ('EEIIMNRSV', {'MISVENIRE'}),\n",
              " ('AAFFGIIRR', {'GRAFFIRAI', 'RIGRAFFIA'}),\n",
              " ('CGIIILNV', {'VINCIGLI'}),\n",
              " ('EEEIILPSS', {'EPILESSIE'}),\n",
              " ('DEIIIORSV', {'DIVISORIE'}),\n",
              " ('EEIIMP', {'EMPIEI', 'PIEMIE'})]"
            ]
          },
          "metadata": {}
        },
        {
          "output_type": "display_data",
          "data": {
            "text/plain": [
              "[(9, ['VISIONATA', 'QUIRINALI', 'STUDIARCI', 'AFFLUENTE', 'AURANDONE']),\n",
              " (6, ['FEERIE', 'KUSASI', 'ROSOVI', 'BINANE', 'BUCATO']),\n",
              " (5, ['COURT', 'VAIAI', 'GONDI', 'IDRIE', 'MANAA']),\n",
              " (7, ['GRIZZLY', 'SALARIO', 'RULLARE', 'RIMARCO', 'FOGNAVA']),\n",
              " (8, ['ZINNARLA', 'DESALATA', 'RIGATALE', 'SPURIAMO', 'RAMAZZAI']),\n",
              " (4, ['FUMI', 'PARO', 'BUGE', 'CEFO', 'LIFO'])]"
            ]
          },
          "metadata": {}
        },
        {
          "output_type": "display_data",
          "data": {
            "text/plain": [
              "[('SAETTIA', ['AAEISTT', 7]),\n",
              " ('USUFRUIVO', ['FIORSUUUV', 9]),\n",
              " ('NUORINA', ['AINNORU', 7]),\n",
              " ('CEDUTILI', ['CDEIILTU', 8]),\n",
              " ('MONZASCHE', ['ACEHMNOSZ', 9]),\n",
              " ('UNIRMELE', ['EEILMNRU', 8]),\n",
              " ('ZIGATELE', ['AEEGILTZ', 8]),\n",
              " ('EROGALO', ['AEGLOOR', 7]),\n",
              " ('VALANGA', ['AAAGLNV', 7]),\n",
              " ('TRATTERA', ['AAERRTTT', 8])]"
            ]
          },
          "metadata": {}
        }
      ]
    },
    {
      "cell_type": "code",
      "source": [
        "from google.colab import files\n",
        "\n",
        "t0 = time.time()\n",
        "\n",
        "wordList = filteredWords\n",
        "for i, w in enumerate(wordList):\n",
        "  if i % 100 == 0:\n",
        "    print(f'{i:6}/{len(wordList)} {w}')\n",
        "  sortedWord, wordLength = wordsBySortedAndLength[w]\n",
        "  \n",
        "  candidates = []\n",
        "  targetLength = wordLength - 1\n",
        "  if targetLength in wordsByLength:\n",
        "    candidates = list(wordsByLength[targetLength])\n",
        "  targetLength = wordLength + 1\n",
        "  if targetLength in wordsByLength:\n",
        "    candidates += list(wordsByLength[targetLength])\n",
        "  \n",
        "  for targetWord in candidates:\n",
        "    sortedTargetWord, targetLength = wordsBySortedAndLength[targetWord]\n",
        "    isAnagram, diff = _isAnagramEx2(sortedWord, sortedTargetWord, wordLength, targetLength, maxDiffLength=1, strict=True)\n",
        "    if isAnagram:\n",
        "      # print(\"->\", targetWord)\n",
        "      anagramsDict[sortedWord].add(targetWord)\n",
        "      # display(anagramsDict[sortedWord])\n",
        "\n",
        "print(f'{(time.time() - t0):.2f}s')\n"
      ],
      "metadata": {
        "id": "nVL2EeW-vcdL",
        "outputId": "a45fe67b-9d49-4dae-bce1-c8c9bcc037d4",
        "colab": {
          "base_uri": "https://localhost:8080/",
          "height": 981
        }
      },
      "id": "nVL2EeW-vcdL",
      "execution_count": 25,
      "outputs": [
        {
          "output_type": "stream",
          "name": "stdout",
          "text": [
            "     0/401123 AALENIANA\n",
            "   100/401123 ABBACAVA\n",
            "   200/401123 ABBAIARSI\n",
            "   300/401123 ABBARBICO\n",
            "   400/401123 ABBATE\n",
            "   500/401123 ABBIADERA\n",
            "   600/401123 ABBIMENE\n",
            "   700/401123 ABBITTERO\n",
            "   800/401123 ABBONDAMI\n",
            "   900/401123 ABBORRAMI\n",
            "  1000/401123 ABBRANCHI\n",
            "  1100/401123 ABBRUNARE\n",
            "  1200/401123 ABBUIARVI\n",
            "  1300/401123 ABDICATI\n",
            "  1400/401123 ABDURREMO\n",
            "  1500/401123 ABERRAI\n",
            "  1600/401123 ABIGEATO\n",
            "  1700/401123 ABITACENE\n",
            "  1800/401123 ABITIAMO\n",
            "  1900/401123 ABIURERO\n",
            "  2000/401123 ABOLIRLO\n",
            "  2100/401123 ABOMINOSO\n",
            "  2200/401123 ABORTO\n",
            "  2300/401123 ABRENCALO\n",
            "  2400/401123 ABROGHERA\n",
            "  2500/401123 ABUSATOTI\n",
            "  2600/401123 ACAZIO\n",
            "  2700/401123 ACCALCANO\n",
            "  2800/401123 ACCAMPI\n",
            "  2900/401123 ACCAPPI\n",
            "  3000/401123 ACCATASTI\n",
            "  3100/401123 ACCEDERAI\n",
            "  3200/401123 ACCENNAR\n",
            "  3300/401123 ACCERCINO\n",
            "  3400/401123 ACCETTERO\n",
            "  3500/401123 ACCIAIAVI\n"
          ]
        },
        {
          "output_type": "error",
          "ename": "KeyboardInterrupt",
          "evalue": "ignored",
          "traceback": [
            "\u001b[0;31m---------------------------------------------------------------------------\u001b[0m",
            "\u001b[0;31mKeyboardInterrupt\u001b[0m                         Traceback (most recent call last)",
            "\u001b[0;32m<ipython-input-25-084a2514faa6>\u001b[0m in \u001b[0;36m<cell line: 6>\u001b[0;34m()\u001b[0m\n\u001b[1;32m     19\u001b[0m   \u001b[0;32mfor\u001b[0m \u001b[0mtargetWord\u001b[0m \u001b[0;32min\u001b[0m \u001b[0mcandidates\u001b[0m\u001b[0;34m:\u001b[0m\u001b[0;34m\u001b[0m\u001b[0;34m\u001b[0m\u001b[0m\n\u001b[1;32m     20\u001b[0m     \u001b[0msortedTargetWord\u001b[0m\u001b[0;34m,\u001b[0m \u001b[0mtargetLength\u001b[0m \u001b[0;34m=\u001b[0m \u001b[0mwordsBySortedAndLength\u001b[0m\u001b[0;34m[\u001b[0m\u001b[0mtargetWord\u001b[0m\u001b[0;34m]\u001b[0m\u001b[0;34m\u001b[0m\u001b[0;34m\u001b[0m\u001b[0m\n\u001b[0;32m---> 21\u001b[0;31m     \u001b[0misAnagram\u001b[0m\u001b[0;34m,\u001b[0m \u001b[0mdiff\u001b[0m \u001b[0;34m=\u001b[0m \u001b[0m_isAnagramEx2\u001b[0m\u001b[0;34m(\u001b[0m\u001b[0msortedWord\u001b[0m\u001b[0;34m,\u001b[0m \u001b[0msortedTargetWord\u001b[0m\u001b[0;34m,\u001b[0m \u001b[0mwordLength\u001b[0m\u001b[0;34m,\u001b[0m \u001b[0mtargetLength\u001b[0m\u001b[0;34m,\u001b[0m \u001b[0mmaxDiffLength\u001b[0m\u001b[0;34m=\u001b[0m\u001b[0;36m1\u001b[0m\u001b[0;34m,\u001b[0m \u001b[0mstrict\u001b[0m\u001b[0;34m=\u001b[0m\u001b[0;32mTrue\u001b[0m\u001b[0;34m)\u001b[0m\u001b[0;34m\u001b[0m\u001b[0;34m\u001b[0m\u001b[0m\n\u001b[0m\u001b[1;32m     22\u001b[0m     \u001b[0;32mif\u001b[0m \u001b[0misAnagram\u001b[0m\u001b[0;34m:\u001b[0m\u001b[0;34m\u001b[0m\u001b[0;34m\u001b[0m\u001b[0m\n\u001b[1;32m     23\u001b[0m       \u001b[0;31m# print(\"->\", targetWord)\u001b[0m\u001b[0;34m\u001b[0m\u001b[0;34m\u001b[0m\u001b[0m\n",
            "\u001b[0;32m<ipython-input-8-a65bd4bb0340>\u001b[0m in \u001b[0;36m_isAnagramEx2\u001b[0;34m(sortedSourceChars, sortedTargetChars, sourceLength, targetLength, maxDiffLength, strict)\u001b[0m\n\u001b[1;32m     18\u001b[0m       \u001b[0msourceCh\u001b[0m \u001b[0;34m=\u001b[0m \u001b[0msortedSourceChars\u001b[0m\u001b[0;34m[\u001b[0m\u001b[0mi\u001b[0m\u001b[0;34m]\u001b[0m\u001b[0;34m\u001b[0m\u001b[0;34m\u001b[0m\u001b[0m\n\u001b[1;32m     19\u001b[0m       \u001b[0mtargetCh\u001b[0m \u001b[0;34m=\u001b[0m \u001b[0msortedTargetChars\u001b[0m\u001b[0;34m[\u001b[0m\u001b[0mj\u001b[0m\u001b[0;34m]\u001b[0m\u001b[0;34m\u001b[0m\u001b[0;34m\u001b[0m\u001b[0m\n\u001b[0;32m---> 20\u001b[0;31m       \u001b[0;32mif\u001b[0m \u001b[0msourceCh\u001b[0m \u001b[0;34m==\u001b[0m \u001b[0mtargetCh\u001b[0m\u001b[0;34m:\u001b[0m\u001b[0;34m\u001b[0m\u001b[0;34m\u001b[0m\u001b[0m\n\u001b[0m\u001b[1;32m     21\u001b[0m         \u001b[0mi\u001b[0m \u001b[0;34m+=\u001b[0m \u001b[0;36m1\u001b[0m\u001b[0;34m\u001b[0m\u001b[0;34m\u001b[0m\u001b[0m\n\u001b[1;32m     22\u001b[0m         \u001b[0mj\u001b[0m \u001b[0;34m+=\u001b[0m \u001b[0;36m1\u001b[0m\u001b[0;34m\u001b[0m\u001b[0;34m\u001b[0m\u001b[0m\n",
            "\u001b[0;31mKeyboardInterrupt\u001b[0m: "
          ]
        }
      ]
    },
    {
      "cell_type": "code",
      "source": [
        "word = 'ABAVI'\n",
        "sortedWord, wordLength = wordsBySortedAndLength[word]\n",
        "display(anagramsDict[sortedWord])\n",
        "\n",
        "_isAnagramEx2(list('BAVA'), list('ABAVI'), 4, 5, maxDiffLength=1, strict=True)\n"
      ],
      "metadata": {
        "id": "IrhyGUGGMe0Y"
      },
      "id": "IrhyGUGGMe0Y",
      "execution_count": null,
      "outputs": []
    },
    {
      "cell_type": "code",
      "source": [
        "print('LUCRAMELO'.__hash__())\n",
        "print('LUCRAMELO'.__hash__())\n",
        "print('lucramelo'.__hash__())"
      ],
      "metadata": {
        "id": "9eiPA_6bouv5"
      },
      "id": "9eiPA_6bouv5",
      "execution_count": null,
      "outputs": []
    },
    {
      "cell_type": "code",
      "source": [
        "anvil.server.wait_forever()"
      ],
      "metadata": {
        "id": "bNPfNb8IPEga"
      },
      "id": "bNPfNb8IPEga",
      "execution_count": null,
      "outputs": []
    }
  ],
  "metadata": {
    "kernelspec": {
      "display_name": "Python 3 (ipykernel)",
      "language": "python",
      "name": "python3"
    },
    "language_info": {
      "codemirror_mode": {
        "name": "ipython",
        "version": 3
      },
      "file_extension": ".py",
      "mimetype": "text/x-python",
      "name": "python",
      "nbconvert_exporter": "python",
      "pygments_lexer": "ipython3",
      "version": "3.9.13"
    },
    "colab": {
      "provenance": []
    }
  },
  "nbformat": 4,
  "nbformat_minor": 5
}