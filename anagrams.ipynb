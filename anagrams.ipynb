{
  "cells": [
    {
      "cell_type": "code",
      "execution_count": 154,
      "id": "58bf4eb3",
      "metadata": {
        "colab": {
          "base_uri": "https://localhost:8080/",
          "height": 259
        },
        "id": "58bf4eb3",
        "outputId": "9dd12882-0e1d-41a3-89b3-7fff05d69ab8"
      },
      "outputs": [
        {
          "output_type": "stream",
          "name": "stdout",
          "text": [
            "Looking in indexes: https://pypi.org/simple, https://us-python.pkg.dev/colab-wheels/public/simple/\n",
            "Requirement already satisfied: anvil-uplink in /usr/local/lib/python3.10/dist-packages (0.4.2)\n",
            "Collecting argparse (from anvil-uplink)\n",
            "  Using cached argparse-1.4.0-py2.py3-none-any.whl (23 kB)\n",
            "Requirement already satisfied: future in /usr/local/lib/python3.10/dist-packages (from anvil-uplink) (0.18.3)\n",
            "Requirement already satisfied: six in /usr/local/lib/python3.10/dist-packages (from anvil-uplink) (1.16.0)\n",
            "Requirement already satisfied: ws4py in /usr/local/lib/python3.10/dist-packages (from anvil-uplink) (0.5.1)\n",
            "Installing collected packages: argparse\n",
            "Successfully installed argparse-1.4.0\n"
          ]
        },
        {
          "output_type": "display_data",
          "data": {
            "application/vnd.colab-display-data+json": {
              "pip_warning": {
                "packages": [
                  "argparse"
                ]
              }
            }
          },
          "metadata": {}
        }
      ],
      "source": [
        "!pip install anvil-uplink\n",
        "import anvil.server\n",
        "\n",
        "anvil.server.connect(\"server_AWZDTJC7ELLLWKQJM7XSDOUT-QMTVJN4LDJALI4EQ\")\n",
        "\n"
      ]
    },
    {
      "cell_type": "code",
      "source": [
        "# constansts\n",
        "\n",
        "START_WORD_LENGTHS = [4,5,6]\n",
        "\n",
        "MIN_WORD_LENGTH = 3\n",
        "MAX_WORD_LENGTH = 9\n",
        "\n",
        "NUM_STEPS = 8\n",
        "MIN_STEPS = 5\n"
      ],
      "metadata": {
        "id": "SrwvjfEE3gmm"
      },
      "id": "SrwvjfEE3gmm",
      "execution_count": 155,
      "outputs": []
    },
    {
      "cell_type": "code",
      "source": [
        "'''\n",
        "Created on Feb 7, 2013\n",
        "\n",
        "@author: olegs\n",
        "'''\n",
        "\n",
        "ROMAN_CONSTANTS = (\n",
        "            ( \"\", \"I\", \"II\", \"III\", \"IV\", \"V\", \"VI\", \"VII\", \"VIII\", \"IX\" ),\n",
        "            ( \"\", \"X\", \"XX\", \"XXX\", \"XL\", \"L\", \"LX\", \"LXX\", \"LXXX\", \"XC\" ),\n",
        "            ( \"\", \"C\", \"CC\", \"CCC\", \"CD\", \"D\", \"DC\", \"DCC\", \"DCCC\", \"CM\" ),\n",
        "            ( \"\", \"M\", \"MM\", \"MMM\", \"\",   \"\",  \"-\",  \"\",    \"\",     \"\"   ),\n",
        "        )\n",
        "\n",
        "ROMAN_SYMBOL_MAP = dict(I=1, V=5, X=10, L=50, C=100, D=500, M=1000)\n",
        "\n",
        "CUTOFF = 4000\n",
        "BIG_DEC = 2900\n",
        "BIG_ROMAN = \"MMCM\"\n",
        "ROMAN_NOUGHT = \"nulla\"\n",
        "\n",
        "def digits(num):\n",
        "    if num < 0:\n",
        "        raise Exception('range error: negative numbers not supported')\n",
        "    if num % 1 != 0.0:\n",
        "        raise Exception('floating point numbers not supported')\n",
        "    res = []\n",
        "    while num > 0:\n",
        "        res.append(num % 10)\n",
        "        num //= 10\n",
        "    return res\n",
        "\n",
        "def toString(num, emptyZero=False):\n",
        "    if num < CUTOFF:\n",
        "        digitlist = digits(num)\n",
        "        if digitlist:\n",
        "            res = reversed([ ROMAN_CONSTANTS[order][digit] for order, digit in enumerate(digitlist) ])\n",
        "            return \"\".join(res)\n",
        "        else:\n",
        "            return \"\" if emptyZero else ROMAN_NOUGHT \n",
        "    else:\n",
        "        if num % 1 != 0.0:\n",
        "            raise Exception('floating point numbers not supported')\n",
        "        # For numbers over or equal the CUTOFF, the remainder of division by 2900\n",
        "        # is represented as above, prepended with the multiples of MMCM (2900 in Roman),\n",
        "        # which guarantees no more than 3 repetitive Ms.\n",
        "        return BIG_ROMAN * (num // BIG_DEC) + toString(num % BIG_DEC, emptyZero=True)\n",
        "\n",
        "def parse(numeral):\n",
        "    numeral = numeral.upper()\n",
        "    result = 0\n",
        "\n",
        "    lastVal = 0\n",
        "    lastCount = 0\n",
        "    subtraction = False\n",
        "    for symbol in numeral[::-1]:\n",
        "        value = ROMAN_SYMBOL_MAP.get(symbol)\n",
        "        if not value:\n",
        "            return False\n",
        "        if lastVal == 0:\n",
        "            lastCount = 1\n",
        "            lastVal = value\n",
        "        elif lastVal == value:\n",
        "            lastCount += 1\n",
        "            # exceptions\n",
        "        else:\n",
        "            result += (-1 if subtraction else 1) * lastVal * lastCount\n",
        "            subtraction = lastVal > value\n",
        "            lastCount = 1\n",
        "            lastVal = value\n",
        "    \n",
        "    result = result + (-1 if subtraction else 1) * lastVal * lastCount\n",
        "    return True"
      ],
      "metadata": {
        "id": "tzf1yPgE_FOD"
      },
      "id": "tzf1yPgE_FOD",
      "execution_count": 156,
      "outputs": []
    },
    {
      "cell_type": "code",
      "execution_count": 157,
      "id": "c66edbee",
      "metadata": {
        "colab": {
          "base_uri": "https://localhost:8080/"
        },
        "id": "c66edbee",
        "outputId": "5eda57aa-1eab-4559-959a-42941e1a687b"
      },
      "outputs": [
        {
          "output_type": "stream",
          "name": "stdout",
          "text": [
            "Dictionary loaded in 1.66s\n",
            "401123/710993\n",
            "['AALENIANA', 'AALENIANE', 'AALENIANI', 'AALENIANO', 'ABABUA', 'ABACA', 'ABACETI', 'ABACETO', 'ABACHI', 'ABACHISTA']\n"
          ]
        }
      ],
      "source": [
        "import requests\n",
        "import time\n",
        "\n",
        "dictionaryFileName = 'assets/dictionary_FULL_IT.txt'\n",
        "dictionaryFileName = 'assets/Ita.txt'\n",
        "\n",
        "    \n",
        "def normalizeWord(word):\n",
        "    return word.strip().upper()\n",
        "    \n",
        "LOAD_FROM_URL = True\n",
        "\n",
        "t0 = time.time()\n",
        "\n",
        "lines = []\n",
        "if LOAD_FROM_URL:\n",
        "    baseUrl = 'https://azrafe7.github.io/'\n",
        "    f = requests.get(baseUrl + dictionaryFileName)\n",
        "    lines = f.text.splitlines()\n",
        "else:\n",
        "    with open(dictionaryFileName) as f:\n",
        "        lines = f.read().splitlines()\n",
        "\n",
        "filteredWords = []\n",
        "for line in lines:\n",
        "    word = normalizeWord(line)\n",
        "    length = len(word)\n",
        "    if length >= MIN_WORD_LENGTH and length <= MAX_WORD_LENGTH and not parse(word):\n",
        "        filteredWords.append(word)\n",
        "\n",
        "print(\"Dictionary loaded in {0:.2f}s\".format(time.time() - t0))\n",
        "\n",
        "print('{0}/{1}'.format(len(filteredWords), len(lines)))\n",
        "\n",
        "print(filteredWords[:10])"
      ]
    },
    {
      "cell_type": "code",
      "execution_count": 158,
      "id": "9722fc02",
      "metadata": {
        "colab": {
          "base_uri": "https://localhost:8080/"
        },
        "id": "9722fc02",
        "outputId": "4f5e0872-53eb-48e1-887e-353044f92437"
      },
      "outputs": [
        {
          "output_type": "execute_result",
          "data": {
            "text/plain": [
              "35094"
            ]
          },
          "metadata": {},
          "execution_count": 158
        }
      ],
      "source": [
        "\n",
        "def wordsOfLength(lengths):\n",
        "    return [word for word in filteredWords if len(word) in lengths]\n",
        "\n",
        "len(list(wordsOfLength(START_WORD_LENGTHS)))\n"
      ]
    },
    {
      "cell_type": "code",
      "execution_count": 159,
      "id": "61cf18e7",
      "metadata": {
        "colab": {
          "base_uri": "https://localhost:8080/"
        },
        "id": "61cf18e7",
        "outputId": "9570050b-0ebe-4942-d921-02a76497be4d"
      },
      "outputs": [
        {
          "output_type": "stream",
          "name": "stdout",
          "text": [
            "isAnagram(\"ostra\", \"motri\")\n",
            "False\n"
          ]
        }
      ],
      "source": [
        "\n",
        "def isAnagram(sourceWord, targetWord):\n",
        "    if len(sourceWord) != len(targetWord):\n",
        "        return False\n",
        "    \n",
        "    res = True\n",
        "    \n",
        "    sourceCharSet = list(sourceWord)\n",
        "    targetCharSet = list(targetWord)\n",
        "    \n",
        "    #print(targetCharSet)\n",
        "    for i, ch in enumerate(sourceWord):\n",
        "        #print(ch, targetCharSet)\n",
        "        if ch in targetCharSet:\n",
        "            targetCharSet.remove(ch)\n",
        "        else:\n",
        "            res = False\n",
        "            break\n",
        "    \n",
        "    return res\n",
        "    \n",
        "        \n",
        "assert(isAnagram('', ''))\n",
        "assert(not isAnagram('corto', 'trOca'))\n",
        "assert(not isAnagram('c', ''))\n",
        "assert(isAnagram('cortao', 'trocao'))\n",
        "\n",
        "srcWord = 'ostra'\n",
        "dstWord ='motri'\n",
        "\n",
        "print('isAnagram(\"{0}\", \"{1}\")'.format(srcWord, dstWord))\n",
        "print(isAnagram(srcWord, dstWord))"
      ]
    },
    {
      "cell_type": "code",
      "execution_count": 160,
      "id": "58c3fde5",
      "metadata": {
        "colab": {
          "base_uri": "https://localhost:8080/"
        },
        "id": "58c3fde5",
        "outputId": "b0e53586-4069-4f2a-f369-d6b389a61b37"
      },
      "outputs": [
        {
          "output_type": "stream",
          "name": "stdout",
          "text": [
            "isAnagramEx(\"straccio\", \"crosta\", 2)\n",
            "True\n",
            "0.0769s\n"
          ]
        }
      ],
      "source": [
        "import time\n",
        "\n",
        "def isAnagramEx(sourceWord, targetWord, maxDiffLength=0, strict=False):\n",
        "    if maxDiffLength == 0:\n",
        "        return isAnagram(sourceWord, targetWord)\n",
        "    else:\n",
        "        wordDiffLength = abs(len(sourceWord) - len(targetWord))\n",
        "        if wordDiffLength > maxDiffLength:\n",
        "            return False\n",
        "        \n",
        "    sourceCharSet = list(sourceWord)\n",
        "    targetCharSet = list(targetWord)\n",
        "    \n",
        "    if len(sourceCharSet) > len(targetCharSet):\n",
        "        sourceCharSet, targetCharSet = targetCharSet, sourceCharSet\n",
        "        \n",
        "    #print(targetCharSet, sourceCharSet)\n",
        "    for ch in sourceCharSet:\n",
        "        #print(ch, targetCharSet)\n",
        "        if ch in targetCharSet:\n",
        "            targetCharSet.remove(ch)\n",
        "    \n",
        "    #print(targetCharSet)\n",
        "    targetCharSetLength = len(targetCharSet)\n",
        "    #print(wordDiffLength, targetCharSet)\n",
        "    isLooseAnagram = (targetCharSetLength <= maxDiffLength)\n",
        "    res = (not strict and isLooseAnagram) or (strict and isLooseAnagram and wordDiffLength == maxDiffLength)\n",
        "    return res\n",
        "    \n",
        "        \n",
        "maxDiffLength=2\n",
        "\n",
        "assert(isAnagramEx('', ''))\n",
        "assert(not isAnagramEx('corto', 'trOca'))\n",
        "assert(not isAnagramEx('c', ''))\n",
        "assert(isAnagramEx('cortao', 'trocao'))\n",
        "assert(isAnagramEx('cortao', 'trocaox', 1))\n",
        "assert(not isAnagramEx('strappo', 'posta', 1))\n",
        "assert(isAnagramEx('strappo', 'posta', 2))\n",
        "assert(isAnagramEx('strappo', 'posta', 3))\n",
        "assert(not isAnagramEx('strappo', 'posta', 3, strict=True))\n",
        "assert(isAnagramEx('strappo', 'posta', 2, strict=True))\n",
        "assert(isAnagramEx('LEVI', 'ABILE', 2,))\n",
        "assert(not isAnagramEx('TUFFAI', 'ABACA', 2,))\n",
        "\n",
        "\n",
        "srcWord = 'straccio'\n",
        "dstWord ='crosta'\n",
        "\n",
        "print('isAnagramEx(\"{0}\", \"{1}\", {2})'.format(srcWord, dstWord, maxDiffLength))\n",
        "print(isAnagramEx(srcWord, dstWord, maxDiffLength=maxDiffLength))\n",
        "\n",
        "t0 = time.time()\n",
        "for i in range(5000):\n",
        "  isAnagramEx('', '')\n",
        "  not isAnagramEx('corto', 'trOca')\n",
        "  not isAnagramEx('c', '')\n",
        "  isAnagramEx('cortao', 'trocao')\n",
        "  isAnagramEx('cortao', 'trocaox', 1)\n",
        "  not isAnagramEx('strappo', 'posta', 1)\n",
        "  isAnagramEx('strappo', 'posta', 2)\n",
        "  isAnagramEx('strappo', 'posta', 3)\n",
        "  not isAnagramEx('strappo', 'posta', 3, strict=True)\n",
        "  isAnagramEx('strappo', 'posta', 2, strict=True)\n",
        "  isAnagramEx('LEVI', 'ABILE', 2, )\n",
        "  not isAnagramEx('TUFFAI', 'ABACA', 2, )  \n",
        "print(f'{(time.time() - t0):.4f}s')\n"
      ]
    },
    {
      "cell_type": "code",
      "source": [
        "import time\n",
        "\n",
        "\n",
        "def _isAnagramEx2(sortedSourceChars, sortedTargetChars, sourceLength, targetLength, maxDiffLength=0, strict=False):\n",
        "  # if maxDiffLength == 0:\n",
        "  #     return sortedSourceChars == sortedTargetChars\n",
        "  # else:\n",
        "  #   wordDiffLength = abs(sourceLength - targetLength)\n",
        "  #   if wordDiffLength > maxDiffLength:\n",
        "  #       return False\n",
        "\n",
        "  i = 0\n",
        "  j = 0\n",
        "  diff = 0\n",
        "  same = 0\n",
        "  if sourceLength != 0 and targetLength != 0:\n",
        "    while i < sourceLength and j < targetLength:\n",
        "      sourceCh = sortedSourceChars[i]\n",
        "      targetCh = sortedTargetChars[j]\n",
        "      if sourceCh == targetCh:\n",
        "        i += 1\n",
        "        j += 1\n",
        "        same += 1\n",
        "      else:\n",
        "        if sourceCh < targetCh:\n",
        "          i += 1\n",
        "        else:\n",
        "          j += 1\n",
        "\n",
        "  diff = max(sourceLength, targetLength) - same\n",
        "  #print(sortedSourceChars, sortedTargetChars, diff, same)\n",
        "  isLooseAnagram = diff <= maxDiffLength\n",
        "  res = (not strict and isLooseAnagram) or (strict and isLooseAnagram and diff == maxDiffLength)\n",
        "  return res, diff\n",
        "\n",
        "\n",
        "def isAnagramEx2(sourceWord, targetWord, maxDiffLength=0, strict=False):\n",
        "  sortedSourceChars = sorted(sourceWord)\n",
        "  sortedTargetChars = sorted(targetWord)\n",
        "\n",
        "  # if maxDiffLength == 0:\n",
        "  #     return sortedSourceChars == sortedTargetChars\n",
        "  # else:\n",
        "\n",
        "\n",
        "  sourceLength = len(sortedSourceChars)\n",
        "  targetLength = len(sortedTargetChars)\n",
        "\n",
        "  return _isAnagramEx2(sortedSourceChars, sortedTargetChars, sourceLength, targetLength, maxDiffLength=maxDiffLength, strict=strict)\n",
        "\n",
        "maxDiffLength = 2\n",
        "\n",
        "assert (True, 0) == isAnagramEx2('', '')\n",
        "assert (False, 2) == isAnagramEx2('corto', 'trOca')\n",
        "assert (False, 4) == isAnagramEx2('corto', 'trOcaul')\n",
        "assert (False, 1) == isAnagramEx2('c', '')\n",
        "assert (True, 1) == isAnagramEx2('cortao', 'trocaox', 1)\n",
        "assert (True, 0) == isAnagramEx2('cortao', 'trocao')\n",
        "assert (False, 2) == isAnagramEx2('strappo', 'posta', 1)\n",
        "assert (True, 2) == isAnagramEx2('strappo', 'posta', 2)\n",
        "assert (True, 2) == isAnagramEx2('strappo', 'posta', 3)\n",
        "assert (False, 2) == isAnagramEx2('strappo', 'posta', 3, strict=True)\n",
        "assert (True, 2) == isAnagramEx2('strappo', 'posta', 2, strict=True)\n",
        "assert (True, 2) == isAnagramEx2('LEVI', 'ABILE', 2, strict=False)\n",
        "assert (False, 5) == isAnagramEx2('TUFFAI', 'ABACA', 2, strict=False)\n",
        "assert (False, 5) == isAnagramEx2('TUFFAI', 'ABACA', 2, strict=True)\n",
        "assert (True, 1) == isAnagramEx2('AOPST', 'AOPSTU', 1, strict=False)\n",
        "assert (True, 1) == isAnagramEx2('AOPST', 'AOPSTU', 1, strict=True)\n",
        "\n",
        "srcWord = 'straccio'\n",
        "dstWord = 'crosta'\n",
        "\n",
        "print('isAnagramEx2(\"{0}\", \"{1}\", {2})'.format(srcWord, dstWord, maxDiffLength))\n",
        "print(isAnagramEx2(srcWord, dstWord, maxDiffLength=maxDiffLength))\n",
        "\n",
        "t0 = time.time()\n",
        "for i in range(5000):\n",
        "  isAnagramEx2('', '')\n",
        "  not isAnagramEx2('corto', 'trOca')\n",
        "  not isAnagramEx2('c', '')\n",
        "  isAnagramEx2('cortao', 'trocao')\n",
        "  isAnagramEx2('cortao', 'trocaox', 1)\n",
        "  not isAnagramEx2('strappo', 'posta', 1)\n",
        "  isAnagramEx2('strappo', 'posta', 2)\n",
        "  isAnagramEx2('strappo', 'posta', 3)\n",
        "  not isAnagramEx2('strappo', 'posta', 3, strict=True)\n",
        "  isAnagramEx2('strappo', 'posta', 2, strict=True)\n",
        "  isAnagramEx2('LEVI', 'ABILE', 2, )\n",
        "  not isAnagramEx2('TUFFAI', 'ABACA', 2, )\n",
        "print(f'{(time.time() - t0):.4f}s')\n"
      ],
      "metadata": {
        "colab": {
          "base_uri": "https://localhost:8080/"
        },
        "id": "CGB3EfzCYLUX",
        "outputId": "79328410-d5e4-4daf-d460-e0b254103531"
      },
      "id": "CGB3EfzCYLUX",
      "execution_count": 161,
      "outputs": [
        {
          "output_type": "stream",
          "name": "stdout",
          "text": [
            "isAnagramEx2(\"straccio\", \"crosta\", 2)\n",
            "(True, 2)\n",
            "0.1522s\n"
          ]
        }
      ]
    },
    {
      "cell_type": "code",
      "source": [
        "import time\n",
        "from collections import Counter\n",
        "\n",
        "def isAnagram_Counter(sourceWord, targetWord, maxDiffLength=0, strict=False):\n",
        "  sourceCounter = Counter(sourceWord)\n",
        "  targetCounter = Counter(targetWord)\n",
        "\n",
        "  # swap? (lengthier first!)\n",
        "  if len(sourceWord) < len(targetWord):\n",
        "    sourceCounter, targetCounter = targetCounter, sourceCounter\n",
        "\n",
        "  diffCounter = sourceCounter - targetCounter\n",
        "\n",
        "  diffSum = sum(diffCounter.values())\n",
        "\n",
        "  isAnagram = (not strict and diffSum <= maxDiffLength) or (strict and diffSum == maxDiffLength)\n",
        "  return isAnagram, diffSum\n",
        "\n",
        "print(\"->\", isAnagram_Counter('corto', 'trOca'))\n",
        "\n",
        "\n",
        "assert (True, 0) == isAnagram_Counter('', '')\n",
        "assert (False, 2) == isAnagram_Counter('corto', 'trOca')\n",
        "assert (False, 4) == isAnagram_Counter('corto', 'trOcaul')\n",
        "assert (False, 1) == isAnagram_Counter('c', '')\n",
        "assert (True, 1) == isAnagram_Counter('cortao', 'trocaox', 1)\n",
        "assert (True, 0) == isAnagram_Counter('cortao', 'trocao')\n",
        "assert (False, 2) == isAnagram_Counter('strappo', 'posta', 1)\n",
        "assert (True, 2) == isAnagram_Counter('strappo', 'posta', 2)\n",
        "assert (True, 2) == isAnagram_Counter('strappo', 'posta', 3)\n",
        "assert (False, 2) == isAnagram_Counter('strappo', 'posta', 3, strict=True)\n",
        "assert (True, 2) == isAnagram_Counter('strappo', 'posta', 2, strict=True)\n",
        "assert (True, 2) == isAnagram_Counter('LEVI', 'ABILE', 2, strict=False)\n",
        "assert (False, 5) == isAnagram_Counter('TUFFAI', 'ABACA', 2, strict=False)\n",
        "assert (False, 5) == isAnagram_Counter('TUFFAI', 'ABACA', 2, strict=True)\n",
        "assert (True, 1) == isAnagram_Counter('AOPST', 'AOPSTU', 1, strict=False)\n",
        "assert (True, 1) == isAnagram_Counter('AOPST', 'AOPSTU', 1, strict=True)\n",
        "assert (True, 1) == isAnagram_Counter('BAVA', 'ABAVI', 1, strict=True)\n",
        "\n",
        "t0 = time.time()\n",
        "for i in range(5000):\n",
        "  isAnagram_Counter('', '')\n",
        "  not isAnagram_Counter('corto', 'trOca')\n",
        "  not isAnagram_Counter('c', '')\n",
        "  isAnagram_Counter('cortao', 'trocao')\n",
        "  isAnagram_Counter('cortao', 'trocaox', 1)\n",
        "  not isAnagram_Counter('strappo', 'posta', 1)\n",
        "  isAnagram_Counter('strappo', 'posta', 2)\n",
        "  isAnagram_Counter('strappo', 'posta', 3)\n",
        "  not isAnagram_Counter('strappo', 'posta', 3, strict=True)\n",
        "  isAnagram_Counter('strappo', 'posta', 2, strict=True)\n",
        "  isAnagram_Counter('LEVI', 'ABILE', 2, )\n",
        "  not isAnagram_Counter('TUFFAI', 'ABACA', 2, )\n",
        "print(f'{(time.time() - t0):.4f}s')\n"
      ],
      "metadata": {
        "colab": {
          "base_uri": "https://localhost:8080/"
        },
        "id": "k_Ob2uNwsGy1",
        "outputId": "b97bb05b-9cb5-461f-88c2-0044ef7d5b07"
      },
      "id": "k_Ob2uNwsGy1",
      "execution_count": 162,
      "outputs": [
        {
          "output_type": "stream",
          "name": "stdout",
          "text": [
            "-> (False, 2)\n",
            "0.8381s\n"
          ]
        }
      ]
    },
    {
      "cell_type": "code",
      "source": [
        "import time\n",
        "from copy import copy\n",
        "\n",
        "class Counter2(dict):\n",
        "  \n",
        "  def __init__(self, word):\n",
        "    for ch in word:\n",
        "      if ch not in self:\n",
        "        self[ch] = 0\n",
        "      self[ch] += 1\n",
        "      # if ch not in self:\n",
        "      #   self[ch] = word.count(ch)\n",
        "\n",
        "  def __add__(self, otherCounter):\n",
        "    newCounter = copy(self)\n",
        "    for k, v in otherCounter.items():\n",
        "      if k not in newCounter:\n",
        "        newCounter[k] = 0\n",
        "      newCounter[k] += v\n",
        "    \n",
        "    return newCounter\n",
        "\n",
        "  def __sub__(self, otherCounter):\n",
        "    newCounter = copy(self)\n",
        "    for k, v in otherCounter.items():\n",
        "      if k not in newCounter:\n",
        "        newCounter[k] = 0\n",
        "      else:\n",
        "        newCounter[k] -= v\n",
        "        if newCounter[k] <= 0:\n",
        "          del newCounter[k]\n",
        "    \n",
        "    return newCounter\n",
        "\n",
        "  def isAnagram(self, otherCounter, maxDiffLength=1, strict=False):\n",
        "    sourceCounter, targetCounter = self, otherCounter\n",
        "    if len(sourceCounter) < len(targetCounter):\n",
        "      sourceCounter, targetCounter = targetCounter, sourceCounter\n",
        "    diffCounter = sourceCounter - targetCounter\n",
        "    diffSum = sum(diffCounter.values())\n",
        "   \n",
        "    isAnagram = (not strict and diffSum <= maxDiffLength) or (strict and diffSum == maxDiffLength)\n",
        "    return isAnagram, diffSum\n",
        "\n",
        "\n",
        "def isAnagram_Counter2(sourceWord, targetWord, maxDiffLength=0, strict=False):\n",
        "  sourceCounter = Counter2(sourceWord)\n",
        "  targetCounter = Counter2(targetWord)\n",
        "\n",
        "  # swap? (lengthier first!)\n",
        "  if len(sourceWord) < len(targetWord):\n",
        "    sourceCounter, targetCounter = targetCounter, sourceCounter\n",
        "\n",
        "  diffCounter = sourceCounter - targetCounter\n",
        "\n",
        "  diffSum = sum(diffCounter.values())\n",
        "\n",
        "  isAnagram = (not strict and diffSum <= maxDiffLength) or (strict and diffSum == maxDiffLength)\n",
        "  return isAnagram, diffSum\n",
        "\n",
        "print(\"->\", isAnagram_Counter2('corto', 'trOca'))\n",
        "\n",
        "word1 = Counter2('corto')\n",
        "word2 = Counter2('trOca')\n",
        "display(word1)\n",
        "display(word2)\n",
        "display(word1 + word2)\n",
        "display(word1 - word2)\n",
        "display(Counter('corto') - Counter('trOca'))\n",
        "\n",
        "assert (True, 0) == isAnagram_Counter2('', '')\n",
        "assert (False, 2) == isAnagram_Counter2('corto', 'trOca')\n",
        "assert (False, 4) == isAnagram_Counter2('corto', 'trOcaul')\n",
        "assert (False, 1) == isAnagram_Counter2('c', '')\n",
        "assert (True, 1) == isAnagram_Counter2('cortao', 'trocaox', 1)\n",
        "assert (True, 0) == isAnagram_Counter2('cortao', 'trocao')\n",
        "assert (False, 2) == isAnagram_Counter2('strappo', 'posta', 1)\n",
        "assert (True, 2) == isAnagram_Counter2('strappo', 'posta', 2)\n",
        "assert (True, 2) == isAnagram_Counter2('strappo', 'posta', 3)\n",
        "assert (False, 2) == isAnagram_Counter2('strappo', 'posta', 3, strict=True)\n",
        "assert (True, 2) == isAnagram_Counter2('strappo', 'posta', 2, strict=True)\n",
        "assert (True, 2) == isAnagram_Counter2('LEVI', 'ABILE', 2, strict=False)\n",
        "assert (False, 5) == isAnagram_Counter2('TUFFAI', 'ABACA', 2, strict=False)\n",
        "assert (False, 5) == isAnagram_Counter2('TUFFAI', 'ABACA', 2, strict=True)\n",
        "assert (True, 1) == isAnagram_Counter2('AOPST', 'AOPSTU', 1, strict=False)\n",
        "assert (True, 1) == isAnagram_Counter2('AOPST', 'AOPSTU', 1, strict=True)\n",
        "assert (True, 1) == isAnagram_Counter2('BAVA', 'ABAVI', 1, strict=True)\n",
        "assert (True, 1) == Counter2('BAVA').isAnagram(Counter2('ABAVI'), maxDiffLength=1)\n",
        "\n",
        "t0 = time.time()\n",
        "for i in range(5000):\n",
        "  isAnagram_Counter2('', '')\n",
        "  not isAnagram_Counter2('corto', 'trOca')\n",
        "  not isAnagram_Counter2('c', '')\n",
        "  isAnagram_Counter2('cortao', 'trocao')\n",
        "  isAnagram_Counter2('cortao', 'trocaox', 1)\n",
        "  not isAnagram_Counter2('strappo', 'posta', 1)\n",
        "  isAnagram_Counter2('strappo', 'posta', 2)\n",
        "  isAnagram_Counter2('strappo', 'posta', 3)\n",
        "  not isAnagram_Counter2('strappo', 'posta', 3, strict=True)\n",
        "  isAnagram_Counter2('strappo', 'posta', 2, strict=True)\n",
        "  isAnagram_Counter2('LEVI', 'ABILE', 2, )\n",
        "  not isAnagram_Counter2('TUFFAI', 'ABACA', 2, )\n",
        "print(f'{(time.time() - t0):.4f}s')\n"
      ],
      "metadata": {
        "id": "QZbMMTqDFpJd",
        "outputId": "ef40b705-d2c0-466d-f514-897e2a8ecdb8",
        "colab": {
          "base_uri": "https://localhost:8080/",
          "height": 139
        }
      },
      "id": "QZbMMTqDFpJd",
      "execution_count": 163,
      "outputs": [
        {
          "output_type": "stream",
          "name": "stdout",
          "text": [
            "-> (False, 2)\n"
          ]
        },
        {
          "output_type": "display_data",
          "data": {
            "text/plain": [
              "{'c': 1, 'o': 2, 'r': 1, 't': 1}"
            ]
          },
          "metadata": {}
        },
        {
          "output_type": "display_data",
          "data": {
            "text/plain": [
              "{'t': 1, 'r': 1, 'O': 1, 'c': 1, 'a': 1}"
            ]
          },
          "metadata": {}
        },
        {
          "output_type": "display_data",
          "data": {
            "text/plain": [
              "{'c': 2, 'o': 2, 'r': 2, 't': 2, 'O': 1, 'a': 1}"
            ]
          },
          "metadata": {}
        },
        {
          "output_type": "display_data",
          "data": {
            "text/plain": [
              "{'o': 2, 'O': 0, 'a': 0}"
            ]
          },
          "metadata": {}
        },
        {
          "output_type": "display_data",
          "data": {
            "text/plain": [
              "Counter({'o': 2})"
            ]
          },
          "metadata": {}
        },
        {
          "output_type": "stream",
          "name": "stdout",
          "text": [
            "0.7616s\n"
          ]
        }
      ]
    },
    {
      "cell_type": "code",
      "execution_count": 164,
      "id": "b03898fd",
      "metadata": {
        "colab": {
          "base_uri": "https://localhost:8080/"
        },
        "id": "b03898fd",
        "outputId": "910dcf46-1f9b-459b-c0b3-4ad3ed973f99"
      },
      "outputs": [
        {
          "output_type": "stream",
          "name": "stdout",
          "text": [
            "Build took 10.7111 s\n",
            "Read 401123 words into 674739 nodes\n",
            "Search took 2.89868 s\n"
          ]
        }
      ],
      "source": [
        "# http://stevehanov.ca/blog/index.php?id=114\n",
        "# By Steve Hanov, 2011. Released to the public domain\n",
        "import time\n",
        "import sys\n",
        "\n",
        "DICTIONARY = \"/usr/share/dict/words\";\n",
        "TARGET = \"SCORTA\"\n",
        "MAX_COST = 4\n",
        "\n",
        "# Keep some interesting statistics\n",
        "NodeCount = 0\n",
        "WordCount = 0\n",
        "\n",
        "# The Trie data structure keeps a set of words, organized with one node for\n",
        "# each letter. Each node has a branch for each letter that may follow it in the\n",
        "# set of words.\n",
        "class TrieNode:\n",
        "    def __init__(self):\n",
        "        self.word = None\n",
        "        self.children = {}\n",
        "\n",
        "        global NodeCount\n",
        "        NodeCount += 1\n",
        "\n",
        "    def insert( self, word ):\n",
        "        node = self\n",
        "        for letter in word:\n",
        "            if letter not in node.children: \n",
        "                node.children[letter] = TrieNode()\n",
        "\n",
        "            node = node.children[letter]\n",
        "\n",
        "        node.word = word\n",
        "\n",
        "# read dictionary file into a trie\n",
        "start = time.time()\n",
        "\n",
        "trie = TrieNode()\n",
        "for word in filteredWords:\n",
        "    WordCount += 1\n",
        "    trie.insert( word )\n",
        "\n",
        "end = time.time()\n",
        "print(\"Build took %g s\" % (end - start))\n",
        "\n",
        "print(\"Read %d words into %d nodes\" % (WordCount, NodeCount))\n",
        "\n",
        "# The search function returns a list of all words that are less than the given\n",
        "# maximum distance from the target word\n",
        "def search( word, maxCost ):\n",
        "\n",
        "    # build first row\n",
        "    currentRow = range( len(word) + 1 )\n",
        "\n",
        "    results = []\n",
        "\n",
        "    # recursively search each branch of the trie\n",
        "    for letter in trie.children:\n",
        "        searchRecursive( trie.children[letter], letter, word, currentRow, \n",
        "            results, maxCost )\n",
        "\n",
        "    return results\n",
        "\n",
        "# This recursive helper is used by the search function above. It assumes that\n",
        "# the previousRow has been filled in already.\n",
        "def searchRecursive( node, letter, word, previousRow, results, maxCost ):\n",
        "\n",
        "    columns = len( word ) + 1\n",
        "    currentRow = [ previousRow[0] + 1 ]\n",
        "\n",
        "    # Build one row for the letter, with a column for each letter in the target\n",
        "    # word, plus one for the empty string at column 0\n",
        "    for column in range( 1, columns ):\n",
        "\n",
        "        insertCost = currentRow[column - 1] + 1\n",
        "        deleteCost = previousRow[column] + 1\n",
        "\n",
        "        if word[column - 1] != letter:\n",
        "            replaceCost = previousRow[ column - 1 ] + 1\n",
        "        else:                \n",
        "            replaceCost = previousRow[ column - 1 ]\n",
        "\n",
        "        currentRow.append( min( insertCost, deleteCost, replaceCost ) )\n",
        "\n",
        "    # if the last entry in the row indicates the optimal cost is less than the\n",
        "    # maximum cost, and there is a word in this trie node, then add it.\n",
        "    if currentRow[-1] <= maxCost and node.word != None:\n",
        "        results.append( (node.word, currentRow[-1] ) )\n",
        "\n",
        "    # if any entries in the row are less than the maximum cost, then \n",
        "    # recursively search each branch of the trie\n",
        "    if min( currentRow ) <= maxCost:\n",
        "        for letter in node.children:\n",
        "            searchRecursive( node.children[letter], letter, word, currentRow, \n",
        "                results, maxCost )\n",
        "\n",
        "start = time.time()\n",
        "results = search( TARGET, MAX_COST )\n",
        "end = time.time()\n",
        "\n",
        "#for result in results: print(result)\n",
        "\n",
        "print(\"Search took %g s\" % (end - start))\n",
        "\n"
      ]
    },
    {
      "cell_type": "code",
      "source": [
        "# http://stevehanov.ca/blog/index.php?id=114\n",
        "# By Steve Hanov, 2011. Released to the public domain\n",
        "import time\n",
        "import sys\n",
        "\n",
        "DICTIONARY = \"/usr/share/dict/words\";\n",
        "TARGET = \"SCORTA\"\n",
        "MAX_COST = 4\n",
        "\n",
        "# Keep some interesting statistics\n",
        "CounterNodes = 0\n",
        "\n",
        "# The Trie data structure keeps a set of words, organized with one node for\n",
        "# each letter. Each node has a branch for each letter that may follow it in the\n",
        "# set of words.\n",
        "class CounterNode:\n",
        "    def __init__(self):\n",
        "        self.word = None\n",
        "        self.count = None\n",
        "        self.children = {}\n",
        "\n",
        "        global CounterNodes\n",
        "        CounterNodes += 1\n",
        "\n",
        "    def insert( self, word ):\n",
        "        node = self\n",
        "        for letter in word:\n",
        "            if letter not in node.children: \n",
        "                node.children[letter] = CounterNode()\n",
        "\n",
        "            node = node.children[letter]\n",
        "            node.count = word.count(letter)\n",
        "\n",
        "        node.word = word\n",
        "\n",
        "    def __repr__(self):\n",
        "      return f'{self.word} {self.children} {self.count}'\n",
        "\n",
        "# read dictionary file into a trie\n",
        "start = time.time()\n",
        "\n",
        "counterTrie = CounterNode()\n",
        "for word in ['carta', 'corta', 'bara', 'cara', 'branco', 'nostro']:\n",
        "    counterTrie.insert( word )\n",
        "\n",
        "end = time.time()\n",
        "print(\"Build took %g s\" % (end - start))\n",
        "\n",
        "print(counterTrie)\n",
        "counterTrie.children['c'].children['a'].count\n"
      ],
      "metadata": {
        "colab": {
          "base_uri": "https://localhost:8080/"
        },
        "id": "ypytpO2J-cGe",
        "outputId": "97413673-a25d-4dfd-dc29-7037e02b2e9f"
      },
      "id": "ypytpO2J-cGe",
      "execution_count": 165,
      "outputs": [
        {
          "output_type": "stream",
          "name": "stdout",
          "text": [
            "Build took 0.000504732 s\n",
            "None {'c': None {'a': None {'r': None {'t': None {'a': carta {} 2} 1, 'a': cara {} 2} 1} 2, 'o': None {'r': None {'t': None {'a': corta {} 1} 1} 1} 1} 1, 'b': None {'a': None {'r': None {'a': bara {} 2} 1} 2, 'r': None {'a': None {'n': None {'c': None {'o': branco {} 1} 1} 1} 1} 1} 1, 'n': None {'o': None {'s': None {'t': None {'r': None {'o': nostro {} 2} 1} 1} 1} 2} 1} None\n"
          ]
        },
        {
          "output_type": "execute_result",
          "data": {
            "text/plain": [
              "2"
            ]
          },
          "metadata": {},
          "execution_count": 165
        }
      ]
    },
    {
      "cell_type": "code",
      "execution_count": 166,
      "id": "4f36e052",
      "metadata": {
        "colab": {
          "base_uri": "https://localhost:8080/"
        },
        "id": "4f36e052",
        "outputId": "bfcf92c4-bf6e-444a-873b-3180b8e5a6eb"
      },
      "outputs": [
        {
          "output_type": "stream",
          "name": "stdout",
          "text": [
            "START WORD: ABOLITOTI\n",
            "Search took 1.24377 s\n",
            "END WORD: ('ABOLITETI', 1)\n"
          ]
        }
      ],
      "source": [
        "import random\n",
        "\n",
        "startWord = random.choice(filteredWords)\n",
        "print(\"START WORD:\", startWord)\n",
        "\n",
        "start = time.time()\n",
        "results = search(startWord, 3)\n",
        "end = time.time()\n",
        "\n",
        "print(\"Search took %g s\" % (end - start))\n",
        "\n",
        "validEndWord = random.choice(results)\n",
        "\n",
        "print(\"END WORD:\", validEndWord)\n"
      ]
    },
    {
      "cell_type": "code",
      "execution_count": 167,
      "id": "07dc857e",
      "metadata": {
        "id": "07dc857e"
      },
      "outputs": [],
      "source": [
        "def findAnagramsEx(wordList, word, maxDiffLength=1, strict=False):\n",
        "    results = []\n",
        "    wordLength = len(word)\n",
        "    for entry in wordList:\n",
        "        entryLength = len(entry)\n",
        "        if word == entry or entryLength < wordLength - maxDiffLength or entryLength > wordLength + maxDiffLength:\n",
        "            continue\n",
        "        if isAnagramEx(entry, word, maxDiffLength=maxDiffLength, strict=strict):\n",
        "            diffLength = abs(len(entry) - len(word))\n",
        "            results.append((entry, diffLength))\n",
        "    \n",
        "    return results\n"
      ]
    },
    {
      "cell_type": "code",
      "execution_count": 167,
      "id": "c1b41586",
      "metadata": {
        "id": "c1b41586"
      },
      "outputs": [],
      "source": []
    },
    {
      "cell_type": "code",
      "execution_count": 168,
      "id": "97032888",
      "metadata": {
        "id": "97032888",
        "colab": {
          "base_uri": "https://localhost:8080/"
        },
        "outputId": "e2203f18-43e4-45bd-e553-b67489eef637"
      },
      "outputs": [
        {
          "output_type": "stream",
          "name": "stdout",
          "text": [
            "START WORD: ABOLITOTI\n",
            "[('ERIOFILI', 0), ('ERIOFORI', 0), ('FERITORI', 0), ('FIORERAI', 0), ('FIOREREI', 0), ('FIORERIA', 0), ('FIORERIE', 0), ('FIORIERA', 0), ('FIORIERE', 0), ('FIORIFERI', 1), ('FIORIRAI', 0), ('FIORIRCI', 0), ('FIORIRE', 1), ('FIORIRLE', 0), ('FIORIRLI', 0), ('FIORIRMI', 0), ('FIORIRNE', 0), ('FIORIRSI', 0), ('FIORIRTI', 0), ('FIORIRVI', 0), ('FORBIREI', 0), ('FORIERI', 1), ('FORNIREI', 0), ('FORZIERI', 0), ('FRIGORIE', 0), ('FRINIREI', 0), ('INFERIORI', 1), ('INFERIRO', 0), ('INFERRIO', 0), ('INFIERIR', 0), ('INFIERIRO', 1), ('IODIFERI', 0), ('OFFRIREI', 0), ('ORRIFICI', 0), ('PORFIREI', 0), ('PORFIRIE', 0), ('PORIFERI', 0), ('PREFIORI', 0), ('PREFIORII', 1), ('PROFERII', 0), ('REIFORMI', 0), ('RIFEDIRO', 0), ('RIFERII', 1), ('RIFERIRO', 0), ('RIFERITI', 0), ('RIFERITO', 0), ('RIFERIVI', 0), ('RIFERIVO', 0), ('RIFIDERO', 0), ('RIFILERO', 0), ('RIFINERO', 0), ('RIFINIRE', 0), ('RIFINIRO', 0), ('RIFIORI', 1), ('RIFIORII', 0), ('RIFIORIR', 0), ('RIFIORIRE', 1), ('RIFIORITE', 1), ('RIFODERI', 0), ('RIFORBII', 0), ('RIFORNII', 0), ('RINFERII', 0), ('RINFIERI', 0), ('RINFIORI', 0), ('RIOFFRII', 0), ('ROTIFERI', 0), ('SFIORIRE', 0), ('SFIORIREI', 1)]\n"
          ]
        }
      ],
      "source": [
        "import random\n",
        "\n",
        "newStartWord = random.choice(filteredWords)\n",
        "print(\"START WORD:\", startWord)\n",
        "\n",
        "anagramsDict = {0:[], 1:[], 2:[]}\n",
        "randomFilteredWords = filteredWords[:]\n",
        "random.shuffle(filteredWords[:])\n",
        "randomFilteredWords = sorted(randomFilteredWords)\n",
        "\n",
        "anagrams = findAnagramsEx(randomFilteredWords, newStartWord, maxDiffLength=1, strict=False)\n",
        "for anagram in anagrams:\n",
        "    anagramsDict[anagram[1]].append(anagram[0])\n",
        "    \n",
        "print(anagrams)\n",
        "#print(anagramsDict[0][:10])"
      ]
    },
    {
      "cell_type": "code",
      "execution_count": 169,
      "id": "f203e9f3",
      "metadata": {
        "id": "f203e9f3",
        "colab": {
          "base_uri": "https://localhost:8080/"
        },
        "outputId": "aebea7b7-7ef1-463c-8386-e6b6e701279f"
      },
      "outputs": [
        {
          "output_type": "stream",
          "name": "stdout",
          "text": [
            "['FIORIFERI', 'FIORIRE', 'FORIERI', 'INFERIORI', 'INFIERIRO', 'PREFIORII', 'RIFERII', 'RIFIORI', 'RIFIORIRE', 'RIFIORITE', 'SFIORIREI']\n"
          ]
        }
      ],
      "source": [
        "print(anagramsDict[1])"
      ]
    },
    {
      "cell_type": "code",
      "execution_count": 170,
      "id": "57b8bafa",
      "metadata": {
        "id": "57b8bafa",
        "colab": {
          "base_uri": "https://localhost:8080/"
        },
        "outputId": "a2cac198-01d4-492a-ddec-7914f4365e56"
      },
      "outputs": [
        {
          "output_type": "stream",
          "name": "stdout",
          "text": [
            "START WORD: SFOTTE\n",
            "Finding levenshtein... (0.00)\n",
            "('SFOTTA', 1) 12 levenshtein\n",
            "Finding anagrams... (0.22)\n",
            "('TASTO', 1) 15 anagram\n",
            "Finding levenshtein... (0.01)\n",
            "('PASTO', 1) 17 levenshtein\n",
            "Finding levenshtein... (0.01)\n",
            "('FASTO', 1) 20 levenshtein\n",
            "Finding levenshtein... (0.01)\n",
            "('FESTO', 1) 18 levenshtein\n",
            "Finding anagrams... (0.12)\n",
            "('SFOLTE', 1) 16 anagram\n",
            "restart False\n",
            "\n",
            "END WORD: SFOLTE\n",
            "Elapsed 0.43s\n"
          ]
        }
      ],
      "source": [
        "import time\n",
        "\n",
        "def generateChain(quiet=False, startWord=None, strict=False):\n",
        "    startWords = wordsOfLength(START_WORD_LENGTHS)\n",
        "    \n",
        "    restart = True\n",
        "    \n",
        "    while restart:\n",
        "        restart = False\n",
        "        startWord = random.choice(startWords)\n",
        "        print(\"START WORD:\", startWord)\n",
        "    \n",
        "        steps = [startWord]\n",
        "    \n",
        "        prevStep = (startWord, 0)\n",
        "        #self.info.text = \"\"\n",
        "        for i in range(6):\n",
        "            choice = random.choice([\"anagram\", \"levenshtein\"])\n",
        "            if choice == \"anagram\":\n",
        "                if not quiet: print(\"Finding anagrams...\", end=\"\")\n",
        "                startTime = time.time()\n",
        "                anagrams = findAnagramsEx(filteredWords, prevStep[0], maxDiffLength=1, strict=strict)\n",
        "                if not quiet: print(\" ({0:.2f})\".format(time.time() - startTime))\n",
        "                if len(anagrams) < 10 and i < MIN_STEPS:\n",
        "                    restart = True\n",
        "                    print(choice, len(anagrams))\n",
        "                    break\n",
        "            else:\n",
        "                if not quiet: print(\"Finding levenshtein...\", end=\"\")\n",
        "                startTime = time.time()\n",
        "                results = search(prevStep[0], 1)\n",
        "                if not quiet: print(\" ({0:.2f})\".format(time.time() - startTime))\n",
        "                if len(results) < 10 and i < MIN_STEPS:\n",
        "                    restart = True\n",
        "                    print(choice, len(results))\n",
        "                    break\n",
        "                    \n",
        "            done = False\n",
        "            while not done:\n",
        "                if choice == \"anagram\":\n",
        "                    nextStep = random.choice(anagrams)\n",
        "                else:\n",
        "                    nextStep = random.choice(results)\n",
        "    \n",
        "                if nextStep[0] not in steps:\n",
        "                    steps.append(nextStep[0])\n",
        "                    done = True\n",
        "    \n",
        "            resultsCount = len(results) if choice == \"levenshtein\" else len(anagrams)\n",
        "            if not quiet: print(nextStep, resultsCount, choice)\n",
        "            prevStep = nextStep\n",
        "    \n",
        "        print(\"restart\", restart)\n",
        "        print()\n",
        "    \n",
        "    endWord = steps[-1]\n",
        "    print(\"END WORD:\", endWord)  \n",
        "    return steps\n",
        "\n",
        "t0 = time.time()\n",
        "steps = generateChain(startWord=None, strict=True)\n",
        "print(\"Elapsed {0:.2f}s\".format(time.time() - t0))\n",
        "\n",
        "startWord = steps[0]\n",
        "endWord = steps[-1]"
      ]
    },
    {
      "cell_type": "code",
      "execution_count": 171,
      "id": "11692f09",
      "metadata": {
        "id": "11692f09",
        "colab": {
          "base_uri": "https://localhost:8080/"
        },
        "outputId": "ef933786-3358-4b52-a81d-7c3b1702b147"
      },
      "outputs": [
        {
          "output_type": "stream",
          "name": "stdout",
          "text": [
            "START WORD: SFOTTE\n",
            "END WORD  : SFOLTE\n"
          ]
        }
      ],
      "source": [
        "def isInDictionary(word):\n",
        "    results = search(word, 0)\n",
        "    return len(results) > 0\n",
        "\n",
        "class WordStatus():\n",
        "  UNCHECKED = 0\n",
        "  VALID = 1\n",
        "  INVALID = 2\n",
        "  NOT_IN_DICT = 3\n",
        "\n",
        "def checkValidChain(startWord, endWord, wordChain):\n",
        "    prevWord = startWord\n",
        "    isOk = True\n",
        "    statuses = []\n",
        "    for word in wordChain + [endWord]:\n",
        "        inDictionary = isInDictionary(word)\n",
        "        results = [t[0] for t in search(prevWord, 1)]\n",
        "        anagrams = [t[0] for t in findAnagramsEx(filteredWords, prevWord, maxDiffLength=1, strict=False)]\n",
        "        isWordOk = inDictionary and (word in results or word in anagrams) \n",
        "        if not inDictionary:\n",
        "            print(\"✖️\", word)\n",
        "            statuses.append(WordStatus.NOT_IN_DICT)\n",
        "        else:\n",
        "            print(\"✔️\" if isWordOk else \"❌\", word)\n",
        "            statuses.append(WordStatus.VALID if isWordOk else WordStatus.INVALID)\n",
        "        \n",
        "        if not isWordOk:\n",
        "            isOk = False\n",
        "        prevWord = word\n",
        "\n",
        "    return isOk, statuses\n",
        "            \n",
        "print(\"START WORD:\", startWord)\n",
        "print(\"END WORD  :\", endWord)"
      ]
    },
    {
      "cell_type": "code",
      "execution_count": 172,
      "id": "e40e0b2d",
      "metadata": {
        "id": "e40e0b2d"
      },
      "outputs": [],
      "source": [
        "def displayCheckValidChain(startWord, endWord, wordChain):\n",
        "    print()\n",
        "    print(startWord)\n",
        "    ok, statuses = checkValidChain(startWord, endWord, wordChain)\n",
        "    print(endWord)\n",
        "\n",
        "    print()\n",
        "    print(\"👍 WON\" if ok else \"👎 LOST\")\n",
        "\n",
        "    print()\n"
      ]
    },
    {
      "cell_type": "code",
      "execution_count": 173,
      "id": "b13ddaf0",
      "metadata": {
        "id": "b13ddaf0",
        "colab": {
          "base_uri": "https://localhost:8080/"
        },
        "outputId": "4b7c1898-ba48-49ec-8d47-c5232e95829d"
      },
      "outputs": [
        {
          "output_type": "stream",
          "name": "stdout",
          "text": [
            "START WORD: SCOZZI\n",
            "restart False\n",
            "\n",
            "END WORD: ZIRLANO\n",
            "\n",
            "Generate 3.77s\n",
            "START WORD: SCOZZI\n",
            "END WORD  : ZIRLANO\n"
          ]
        }
      ],
      "source": [
        "# regenerate start/end words\n",
        "t0 = time.time()\n",
        "steps = generateChain(quiet=True, startWord='piccolo')\n",
        "print(\"\\nGenerate {0:.2f}s\".format(time.time() - t0))\n",
        "\n",
        "startWord = steps[0]\n",
        "endWord = steps[-1]\n",
        "\n",
        "print(\"START WORD:\", startWord)\n",
        "print(\"END WORD  :\", endWord)"
      ]
    },
    {
      "cell_type": "code",
      "execution_count": 174,
      "id": "510ee2b5",
      "metadata": {
        "scrolled": true,
        "id": "510ee2b5",
        "colab": {
          "base_uri": "https://localhost:8080/"
        },
        "outputId": "b370ae4d-9c43-4cb1-d7da-1ec30f13fa8c"
      },
      "outputs": [
        {
          "output_type": "stream",
          "name": "stdout",
          "text": [
            "\n",
            "SCOZZI\n",
            "❌ PANTERA\n",
            "❌ PENTOLA\n",
            "❌ PANTOFOLA\n",
            "❌ OSTERIA\n",
            "❌ RISTORAI\n",
            "❌ PIANTALA\n",
            "❌ ZIRLANO\n",
            "ZIRLANO\n",
            "\n",
            "👎 LOST\n",
            "\n",
            "Validate 4.89s\n"
          ]
        }
      ],
      "source": [
        "wordChain = [\n",
        "    'pantera',\n",
        "    'pentola',\n",
        "    'pantofola',\n",
        "    'osteria',\n",
        "    'ristorai',\n",
        "    'piantala',\n",
        "]\n",
        "wordChain = [w.strip().upper() for w in wordChain]\n",
        "#print(\"GUESS WORD CHAIN\", wordChain)\n",
        "\n",
        "t0 = time.time()\n",
        "displayCheckValidChain(startWord, endWord, wordChain)\n",
        "print(\"Validate {0:.2f}s\".format(time.time() - t0))"
      ]
    },
    {
      "cell_type": "code",
      "execution_count": 175,
      "id": "7659d980",
      "metadata": {
        "id": "7659d980",
        "colab": {
          "base_uri": "https://localhost:8080/"
        },
        "outputId": "5f5af400-565e-4fd0-9d7b-afaae8cd6daa"
      },
      "outputs": [
        {
          "output_type": "stream",
          "name": "stdout",
          "text": [
            "COMPUTED WORD CHAIN ['SCOZZI', 'SOZZACI', 'CODAZZI', 'CAZZINO', 'POCANZI', 'PINZALO', 'ZIRLANO']\n"
          ]
        }
      ],
      "source": [
        "# STEPS\n",
        "\n",
        "print(\"COMPUTED WORD CHAIN\", steps)"
      ]
    },
    {
      "cell_type": "code",
      "execution_count": 176,
      "id": "783783ce",
      "metadata": {
        "id": "783783ce",
        "colab": {
          "base_uri": "https://localhost:8080/"
        },
        "outputId": "b88b8072-afc5-4456-aa3f-825729be772b"
      },
      "outputs": [
        {
          "output_type": "execute_result",
          "data": {
            "text/plain": [
              "[('MUOVI', 0)]"
            ]
          },
          "metadata": {},
          "execution_count": 176
        }
      ],
      "source": [
        "# find in dictionary\n",
        "\n",
        "findWord = 'muovi'\n",
        "\n",
        "search(findWord.strip().upper(), 0)\n"
      ]
    },
    {
      "cell_type": "code",
      "source": [
        "print([hex(ord(ch)) for ch in \"✖️\"])\n",
        "print([hex(ord(ch)) for ch in \"✔️\"])\n",
        "print([hex(ord(ch)) for ch in \"❌\"])\n",
        "\"👍\"\n",
        "hex(ord(\"👎\"))"
      ],
      "metadata": {
        "id": "zxeuKIqdIM68",
        "colab": {
          "base_uri": "https://localhost:8080/",
          "height": 87
        },
        "outputId": "f1b3a346-6160-4139-9583-52492009a0c8"
      },
      "id": "zxeuKIqdIM68",
      "execution_count": 177,
      "outputs": [
        {
          "output_type": "stream",
          "name": "stdout",
          "text": [
            "['0x2716', '0xfe0f']\n",
            "['0x2714', '0xfe0f']\n",
            "['0x274c']\n"
          ]
        },
        {
          "output_type": "execute_result",
          "data": {
            "text/plain": [
              "'0x1f44e'"
            ],
            "application/vnd.google.colaboratory.intrinsic+json": {
              "type": "string"
            }
          },
          "metadata": {},
          "execution_count": 177
        }
      ]
    },
    {
      "cell_type": "code",
      "source": [
        "@anvil.server.callable\n",
        "def srvGenerateWordChain(quiet=True, startWord=None, strict=True):\n",
        "  steps = generateChain(quiet=quiet, startWord=startWord, strict=strict)\n",
        "  return steps\n",
        "\n",
        "@anvil.server.callable\n",
        "def srvValidateChain(startWord, endWord, wordChain):\n",
        "  isOk, statuses = checkValidChain(startWord, endWord, wordChain)\n",
        "  return isOk, statuses\n",
        "\n"
      ],
      "metadata": {
        "id": "kHDjlRX9O7Jm"
      },
      "id": "kHDjlRX9O7Jm",
      "execution_count": 178,
      "outputs": []
    },
    {
      "cell_type": "code",
      "source": [
        "t0 = time.time()\n",
        "\n",
        "anagramsDict = {}\n",
        "wordsByLength = {}\n",
        "wordsBySortedAndLength = {}\n",
        "for w in filteredWords[:]:\n",
        "  sortedWord = ''.join(sorted(w))\n",
        "  if sortedWord not in anagramsDict:\n",
        "    anagramsDict[sortedWord] = set()\n",
        "  anagramsDict[sortedWord].add(w)\n",
        "  # moreAnagrams = findAnagramsEx(filteredWords, w, maxDiffLength=1, strict=True)\n",
        "  # for item in moreAnagrams:\n",
        "  #   anagramsDict[sortedWord].add(item[0])\n",
        "  length = len(w)\n",
        "  if length not in wordsByLength:\n",
        "    wordsByLength[length] = set()\n",
        "  wordsByLength[length].add(w)\n",
        "  if w not in wordsBySortedAndLength:\n",
        "    wordsBySortedAndLength[w] = [None, None, None]\n",
        "  wordsBySortedAndLength[w][0] = sortedWord\n",
        "  wordsBySortedAndLength[w][1] = length\n",
        "  counter = Counter2(w)\n",
        "  wordsBySortedAndLength[w][2] = counter\n",
        "\n",
        "\n",
        "print(f'{(time.time() - t0):.2f}s')\n",
        "\n",
        "display([item for item in random.choices(list(anagramsDict.items()), k=10)])\n",
        "display([(k, list(v)[:5]) for k, v in wordsByLength.items()])\n",
        "display([item for item in random.choices(list(wordsBySortedAndLength.items()), k=10)])\n"
      ],
      "metadata": {
        "id": "SCxcY8vFkjAL",
        "outputId": "77a7cd42-1396-4366-d382-fb25bfd7bee3",
        "colab": {
          "base_uri": "https://localhost:8080/",
          "height": 677
        }
      },
      "id": "SCxcY8vFkjAL",
      "execution_count": 179,
      "outputs": [
        {
          "output_type": "stream",
          "name": "stdout",
          "text": [
            "3.69s\n"
          ]
        },
        {
          "output_type": "display_data",
          "data": {
            "text/plain": [
              "[('ACDIIIMNR', {'DICRINAMI', 'INDICARMI'}),\n",
              " ('AACIINORV', {'RICONIAVA', 'VICARIANO'}),\n",
              " ('ADGIINNR', {'GINANDRI', 'GRANDINI', 'INDIGNAR', 'INGRANDI'}),\n",
              " ('AEIORSSSV', {'SVIASSERO', 'VISASSERO'}),\n",
              " ('AFIORRSS', {'SFORARSI'}),\n",
              " ('AILOPSSTT', {'PLOTTASSI'}),\n",
              " ('AAAEGLMNU', {'AUGNAMELA', 'MALAGUENA'}),\n",
              " ('AAAELLMRZ', {'ALZARMELA'}),\n",
              " ('AADGHIINR', {'DRAGHIANI'}),\n",
              " ('AGIILOSV', {'SVALIGIO', 'SVOGLIAI'})]"
            ]
          },
          "metadata": {}
        },
        {
          "output_type": "display_data",
          "data": {
            "text/plain": [
              "[(9, ['SVELTISCE', 'GIOVENCHI', 'FREEZARMI', 'TREMATAVI', 'GRUPPETTI']),\n",
              " (6, ['DURARE', 'REDINI', 'TASTAR', 'CAMINO', 'BUGNAI']),\n",
              " (5, ['LELLI', 'MERGI', 'VERVE', 'RONFI', 'GNOSI']),\n",
              " (7, ['PEDANTI', 'CAPARLO', 'BABISTA', 'SORANDO', 'ANIMOSI']),\n",
              " (8, ['GUSTEREI', 'IRRIGATI', 'OCCISESI', 'UNTARGLI', 'CERACENE']),\n",
              " (4, ['FUND', 'RECO', 'BEAR', 'OVAI', 'PLOT'])]"
            ]
          },
          "metadata": {}
        },
        {
          "output_type": "display_data",
          "data": {
            "text/plain": [
              "[('SORARSENE',\n",
              "  ['AEENORRSS', 9, {'S': 2, 'O': 1, 'R': 2, 'A': 1, 'E': 2, 'N': 1}]),\n",
              " ('FORTIGNE',\n",
              "  ['EFGINORT',\n",
              "   8,\n",
              "   {'F': 1, 'O': 1, 'R': 1, 'T': 1, 'I': 1, 'G': 1, 'N': 1, 'E': 1}]),\n",
              " ('COMPARALI',\n",
              "  ['AACILMOPR',\n",
              "   9,\n",
              "   {'C': 1, 'O': 1, 'M': 1, 'P': 1, 'A': 2, 'R': 1, 'L': 1, 'I': 1}]),\n",
              " ('GROCCATE',\n",
              "  ['ACCEGORT', 8, {'G': 1, 'R': 1, 'O': 1, 'C': 2, 'A': 1, 'T': 1, 'E': 1}]),\n",
              " ('GENARLE', ['AEEGLNR', 7, {'G': 1, 'E': 2, 'N': 1, 'A': 1, 'R': 1, 'L': 1}]),\n",
              " ('UNTALE', ['AELNTU', 6, {'U': 1, 'N': 1, 'T': 1, 'A': 1, 'L': 1, 'E': 1}]),\n",
              " ('BRUNETTA',\n",
              "  ['ABENRTTU', 8, {'B': 1, 'R': 1, 'U': 1, 'N': 1, 'E': 1, 'T': 2, 'A': 1}]),\n",
              " ('CAZZACCIO', ['AACCCIOZZ', 9, {'C': 3, 'A': 2, 'Z': 2, 'I': 1, 'O': 1}]),\n",
              " ('IMPELARLE',\n",
              "  ['AEEILLMPR', 9, {'I': 1, 'M': 1, 'P': 1, 'E': 2, 'L': 2, 'A': 1, 'R': 1}]),\n",
              " ('STAGNAMMO',\n",
              "  ['AAGMMNOST', 9, {'S': 1, 'T': 1, 'A': 2, 'G': 1, 'N': 1, 'M': 2, 'O': 1}])]"
            ]
          },
          "metadata": {}
        }
      ]
    },
    {
      "cell_type": "code",
      "source": [],
      "metadata": {
        "id": "42Gw1vJYmDW6"
      },
      "id": "42Gw1vJYmDW6",
      "execution_count": 179,
      "outputs": []
    },
    {
      "cell_type": "code",
      "source": [
        "\n",
        "# t0 = time.time()\n",
        "\n",
        "# wordList = filteredWords[:21]\n",
        "# for i, w in enumerate(wordList):\n",
        "#   if i % 100 == 0:\n",
        "#     print(f'{i:6}/{len(wordList)} {w}')\n",
        "#   sortedWord, wordLength, sourceCounter = wordsBySortedAndLength[w]\n",
        "  \n",
        "#   candidates = []\n",
        "#   targetLength = wordLength - 1\n",
        "#   if targetLength in wordsByLength:\n",
        "#     candidates = list(wordsByLength[targetLength])\n",
        "#   targetLength = wordLength + 1\n",
        "#   if targetLength in wordsByLength:\n",
        "#     candidates += list(wordsByLength[targetLength])\n",
        "  \n",
        "#   for targetWord in candidates:\n",
        "#     sortedTargetWord, targetLength, targetCounter = wordsBySortedAndLength[targetWord]\n",
        "#     isAnagram, diff = _isAnagramEx2(sortedWord, sortedTargetWord, wordLength, targetLength, maxDiffLength=1, strict=True)\n",
        "    \n",
        "#     # if len(w) < len(targetWord):\n",
        "#     #   sourceCounter, targetCounter = targetCounter, sourceCounter\n",
        "#     # diffCounter = sourceCounter - targetCounter\n",
        "#     # diffSum = sum(diffCounter.values())\n",
        "#     # isAnagram = diffSum == 1\n",
        "\n",
        "#     #sourceCounter.isAnagram(targetCounter, maxDiffLength = 1)\n",
        "\n",
        "#     if isAnagram:\n",
        "#       # print(\"->\", targetWord)\n",
        "#       anagramsDict[sortedWord].add(targetWord)\n",
        "#       # display(anagramsDict[sortedWord])\n",
        "\n",
        "# print(f'{(time.time() - t0):.2f}s')\n"
      ],
      "metadata": {
        "id": "nVL2EeW-vcdL"
      },
      "id": "nVL2EeW-vcdL",
      "execution_count": 180,
      "outputs": []
    },
    {
      "cell_type": "code",
      "source": [
        "word = 'ABAVI'\n",
        "sortedWord, wordLength, sourceCounter = wordsBySortedAndLength[word]\n",
        "display(anagramsDict[sortedWord])\n",
        "\n",
        "_isAnagramEx2(list('BAVA'), list('ABAVI'), 4, 5, maxDiffLength=1, strict=True)\n"
      ],
      "metadata": {
        "id": "IrhyGUGGMe0Y",
        "colab": {
          "base_uri": "https://localhost:8080/",
          "height": 52
        },
        "outputId": "d36caa54-0d8a-4d3d-ae8f-a1ef4d9d7cda"
      },
      "id": "IrhyGUGGMe0Y",
      "execution_count": 182,
      "outputs": [
        {
          "output_type": "display_data",
          "data": {
            "text/plain": [
              "{'ABAVI', 'BIAVA'}"
            ]
          },
          "metadata": {}
        },
        {
          "output_type": "execute_result",
          "data": {
            "text/plain": [
              "(False, 2)"
            ]
          },
          "metadata": {},
          "execution_count": 182
        }
      ]
    },
    {
      "cell_type": "code",
      "source": [
        "print('LUCRAMELO'.__hash__())\n",
        "print('LUCRAMELO'.__hash__())\n",
        "print('lucramelo'.__hash__())\n",
        "\n",
        "for k,v in wordsByLength.items():\n",
        "  print(k, len(v))\n",
        "\n",
        "#findAnagramsEx(filteredWords, 'TAVOLIERE', maxDiffLength=1, strict=True)"
      ],
      "metadata": {
        "id": "9eiPA_6bouv5",
        "colab": {
          "base_uri": "https://localhost:8080/"
        },
        "outputId": "4ec19f7c-409d-432c-ca7c-227d71caa86a"
      },
      "id": "9eiPA_6bouv5",
      "execution_count": 183,
      "outputs": [
        {
          "output_type": "stream",
          "name": "stdout",
          "text": [
            "1825648678846464053\n",
            "1825648678846464053\n",
            "5612121926921189805\n",
            "9 200178\n",
            "6 23116\n",
            "5 9051\n",
            "7 56496\n",
            "8 109355\n",
            "4 2927\n"
          ]
        },
        {
          "output_type": "execute_result",
          "data": {
            "text/plain": [
              "[('AEROLITE', 1),\n",
              " ('AVERTELI', 1),\n",
              " ('AVERTELO', 1),\n",
              " ('AVERTILE', 1),\n",
              " ('AVERTILO', 1),\n",
              " ('AVOLTERI', 1),\n",
              " ('ELATERIO', 1),\n",
              " ('ELEVARTI', 1),\n",
              " ('ELEVATOR', 1),\n",
              " ('EVERTILA', 1),\n",
              " ('EVERTILO', 1),\n",
              " ('EVITARLE', 1),\n",
              " ('EVITARLO', 1),\n",
              " ('LEVATOIE', 1),\n",
              " ('LEVATORE', 1),\n",
              " ('LEVATORI', 1),\n",
              " ('LEVIRATO', 1),\n",
              " ('LEVITARE', 1),\n",
              " ('LEVITERA', 1),\n",
              " ('LEVITERO', 1),\n",
              " ('LIVERATE', 1),\n",
              " ('LIVERATO', 1),\n",
              " ('LIVREATE', 1),\n",
              " ('LIVREATO', 1),\n",
              " ('OLEATEVI', 1),\n",
              " ('ORLATEVI', 1),\n",
              " ('RELATIVE', 1),\n",
              " ('RELATIVO', 1),\n",
              " ('RILEVATE', 1),\n",
              " ('RILEVATO', 1),\n",
              " ('RIVALETE', 1),\n",
              " ('RIVELATE', 1),\n",
              " ('RIVELATO', 1),\n",
              " ('RIVOLATE', 1),\n",
              " ('RIVOLETE', 1),\n",
              " ('RIVOTALE', 1),\n",
              " ('VALITORE', 1),\n",
              " ('VETRIOLA', 1),\n",
              " ('VETRIOLE', 1),\n",
              " ('VIETARLE', 1),\n",
              " ('VIETARLO', 1),\n",
              " ('VIRATELE', 1),\n",
              " ('VIRATELO', 1),\n",
              " ('VIRATOLE', 1),\n",
              " ('VOIALTRE', 1),\n",
              " ('VOLITARE', 1),\n",
              " ('VOLITERA', 1),\n",
              " ('VOLTAIRE', 1),\n",
              " ('VOLTERAI', 1),\n",
              " ('VOLTEREI', 1),\n",
              " ('VORATELE', 1),\n",
              " ('VORATELI', 1)]"
            ]
          },
          "metadata": {},
          "execution_count": 183
        }
      ]
    },
    {
      "cell_type": "code",
      "source": [
        "anvil.server.wait_forever()"
      ],
      "metadata": {
        "id": "bNPfNb8IPEga"
      },
      "id": "bNPfNb8IPEga",
      "execution_count": null,
      "outputs": []
    }
  ],
  "metadata": {
    "kernelspec": {
      "display_name": "Python 3 (ipykernel)",
      "language": "python",
      "name": "python3"
    },
    "language_info": {
      "codemirror_mode": {
        "name": "ipython",
        "version": 3
      },
      "file_extension": ".py",
      "mimetype": "text/x-python",
      "name": "python",
      "nbconvert_exporter": "python",
      "pygments_lexer": "ipython3",
      "version": "3.9.13"
    },
    "colab": {
      "provenance": []
    }
  },
  "nbformat": 4,
  "nbformat_minor": 5
}