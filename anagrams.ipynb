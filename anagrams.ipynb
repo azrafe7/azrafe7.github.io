{
  "cells": [
    {
      "cell_type": "markdown",
      "source": [
        "# server connect"
      ],
      "metadata": {
        "id": "m6JfBc_TaMs_"
      },
      "id": "m6JfBc_TaMs_"
    },
    {
      "cell_type": "code",
      "execution_count": 32,
      "id": "58bf4eb3",
      "metadata": {
        "colab": {
          "base_uri": "https://localhost:8080/",
          "height": 416
        },
        "id": "58bf4eb3",
        "outputId": "da3b65a4-8a38-4061-f369-2cbc2d33ba5e"
      },
      "outputs": [
        {
          "output_type": "stream",
          "name": "stdout",
          "text": [
            "Looking in indexes: https://pypi.org/simple, https://us-python.pkg.dev/colab-wheels/public/simple/\n",
            "Requirement already satisfied: anvil-uplink in /usr/local/lib/python3.10/dist-packages (0.4.2)\n",
            "Collecting argparse (from anvil-uplink)\n",
            "  Using cached argparse-1.4.0-py2.py3-none-any.whl (23 kB)\n",
            "Requirement already satisfied: future in /usr/local/lib/python3.10/dist-packages (from anvil-uplink) (0.18.3)\n",
            "Requirement already satisfied: six in /usr/local/lib/python3.10/dist-packages (from anvil-uplink) (1.16.0)\n",
            "Requirement already satisfied: ws4py in /usr/local/lib/python3.10/dist-packages (from anvil-uplink) (0.5.1)\n",
            "Reconnecting Anvil Uplink...\n",
            "Connecting to wss://anvil.works/uplink\n",
            "Anvil websocket open\n",
            "Fatal error from Anvil server: Incorrect uplink key\n",
            "Anvil websocket closed (code 1000, reason=b'')\n",
            "Installing collected packages: argparse\n",
            "Successfully installed argparse-1.4.0\n"
          ]
        },
        {
          "output_type": "display_data",
          "data": {
            "application/vnd.colab-display-data+json": {
              "pip_warning": {
                "packages": [
                  "argparse"
                ]
              }
            }
          },
          "metadata": {}
        },
        {
          "output_type": "stream",
          "name": "stdout",
          "text": [
            "Disconnecting from previous connection first...\n",
            "Connecting to wss://anvil.works/uplink\n",
            "Anvil websocket open\n",
            "Connected to \"Debug for azrafe7@gmail.com\" as SERVER\n"
          ]
        }
      ],
      "source": [
        "!pip install anvil-uplink\n",
        "import anvil.server\n",
        "\n",
        "anvil.server.connect(\"server_2BWTWXDY2V4ON7JLQ4HILKDO-QMTVJN4LDJALI4EQ\")\n",
        "\n"
      ]
    },
    {
      "cell_type": "markdown",
      "source": [
        "# start"
      ],
      "metadata": {
        "id": "sH35oMtuYq9q"
      },
      "id": "sH35oMtuYq9q"
    },
    {
      "cell_type": "code",
      "source": [
        "# constansts\n",
        "\n",
        "START_WORD_LENGTHS = [4,5,6]\n",
        "\n",
        "MIN_WORD_LENGTH = 3\n",
        "MAX_WORD_LENGTH = 9\n",
        "\n",
        "NUM_STEPS = 8\n",
        "MIN_STEPS = 5\n"
      ],
      "metadata": {
        "id": "SrwvjfEE3gmm"
      },
      "id": "SrwvjfEE3gmm",
      "execution_count": 2,
      "outputs": []
    },
    {
      "cell_type": "code",
      "source": [
        "'''\n",
        "Created on Feb 7, 2013\n",
        "\n",
        "@author: olegs\n",
        "'''\n",
        "\n",
        "ROMAN_CONSTANTS = (\n",
        "            ( \"\", \"I\", \"II\", \"III\", \"IV\", \"V\", \"VI\", \"VII\", \"VIII\", \"IX\" ),\n",
        "            ( \"\", \"X\", \"XX\", \"XXX\", \"XL\", \"L\", \"LX\", \"LXX\", \"LXXX\", \"XC\" ),\n",
        "            ( \"\", \"C\", \"CC\", \"CCC\", \"CD\", \"D\", \"DC\", \"DCC\", \"DCCC\", \"CM\" ),\n",
        "            ( \"\", \"M\", \"MM\", \"MMM\", \"\",   \"\",  \"-\",  \"\",    \"\",     \"\"   ),\n",
        "        )\n",
        "\n",
        "ROMAN_SYMBOL_MAP = dict(I=1, V=5, X=10, L=50, C=100, D=500, M=1000)\n",
        "\n",
        "CUTOFF = 4000\n",
        "BIG_DEC = 2900\n",
        "BIG_ROMAN = \"MMCM\"\n",
        "ROMAN_NOUGHT = \"nulla\"\n",
        "\n",
        "def digits(num):\n",
        "    if num < 0:\n",
        "        raise Exception('range error: negative numbers not supported')\n",
        "    if num % 1 != 0.0:\n",
        "        raise Exception('floating point numbers not supported')\n",
        "    res = []\n",
        "    while num > 0:\n",
        "        res.append(num % 10)\n",
        "        num //= 10\n",
        "    return res\n",
        "\n",
        "def toString(num, emptyZero=False):\n",
        "    if num < CUTOFF:\n",
        "        digitlist = digits(num)\n",
        "        if digitlist:\n",
        "            res = reversed([ ROMAN_CONSTANTS[order][digit] for order, digit in enumerate(digitlist) ])\n",
        "            return \"\".join(res)\n",
        "        else:\n",
        "            return \"\" if emptyZero else ROMAN_NOUGHT \n",
        "    else:\n",
        "        if num % 1 != 0.0:\n",
        "            raise Exception('floating point numbers not supported')\n",
        "        # For numbers over or equal the CUTOFF, the remainder of division by 2900\n",
        "        # is represented as above, prepended with the multiples of MMCM (2900 in Roman),\n",
        "        # which guarantees no more than 3 repetitive Ms.\n",
        "        return BIG_ROMAN * (num // BIG_DEC) + toString(num % BIG_DEC, emptyZero=True)\n",
        "\n",
        "def parse(numeral):\n",
        "    numeral = numeral.upper()\n",
        "    result = 0\n",
        "\n",
        "    lastVal = 0\n",
        "    lastCount = 0\n",
        "    subtraction = False\n",
        "    for symbol in numeral[::-1]:\n",
        "        value = ROMAN_SYMBOL_MAP.get(symbol)\n",
        "        if not value:\n",
        "            return False\n",
        "        if lastVal == 0:\n",
        "            lastCount = 1\n",
        "            lastVal = value\n",
        "        elif lastVal == value:\n",
        "            lastCount += 1\n",
        "            # exceptions\n",
        "        else:\n",
        "            result += (-1 if subtraction else 1) * lastVal * lastCount\n",
        "            subtraction = lastVal > value\n",
        "            lastCount = 1\n",
        "            lastVal = value\n",
        "    \n",
        "    result = result + (-1 if subtraction else 1) * lastVal * lastCount\n",
        "    return True"
      ],
      "metadata": {
        "id": "tzf1yPgE_FOD"
      },
      "id": "tzf1yPgE_FOD",
      "execution_count": 3,
      "outputs": []
    },
    {
      "cell_type": "markdown",
      "source": [
        "# loadDict"
      ],
      "metadata": {
        "id": "Zlk4lc6_Y1nX"
      },
      "id": "Zlk4lc6_Y1nX"
    },
    {
      "cell_type": "code",
      "execution_count": 4,
      "id": "c66edbee",
      "metadata": {
        "colab": {
          "base_uri": "https://localhost:8080/"
        },
        "id": "c66edbee",
        "outputId": "cc2c0437-df83-49ff-c4c4-e79127d81caa"
      },
      "outputs": [
        {
          "output_type": "stream",
          "name": "stdout",
          "text": [
            "Dictionary loaded in 1.46s\n",
            "401123/710993\n",
            "['AALENIANA', 'AALENIANE', 'AALENIANI', 'AALENIANO', 'ABABUA', 'ABACA', 'ABACETI', 'ABACETO', 'ABACHI', 'ABACHISTA']\n"
          ]
        }
      ],
      "source": [
        "import requests\n",
        "import time\n",
        "\n",
        "dictionaryFileName = 'assets/dictionary_FULL_IT.txt'\n",
        "dictionaryFileName = 'assets/Ita.txt'\n",
        "\n",
        "    \n",
        "def normalizeWord(word):\n",
        "    return word.strip().upper()\n",
        "    \n",
        "LOAD_FROM_URL = True\n",
        "\n",
        "t0 = time.time()\n",
        "\n",
        "lines = []\n",
        "if LOAD_FROM_URL:\n",
        "    baseUrl = 'https://azrafe7.github.io/'\n",
        "    f = requests.get(baseUrl + dictionaryFileName)\n",
        "    lines = f.text.splitlines()\n",
        "else:\n",
        "    with open(dictionaryFileName) as f:\n",
        "        lines = f.read().splitlines()\n",
        "\n",
        "filteredWords = []\n",
        "for line in lines:\n",
        "    word = normalizeWord(line)\n",
        "    length = len(word)\n",
        "    if length >= MIN_WORD_LENGTH and length <= MAX_WORD_LENGTH and not parse(word):\n",
        "        filteredWords.append(word)\n",
        "\n",
        "print(\"Dictionary loaded in {0:.2f}s\".format(time.time() - t0))\n",
        "\n",
        "print('{0}/{1}'.format(len(filteredWords), len(lines)))\n",
        "\n",
        "print(filteredWords[:10])"
      ]
    },
    {
      "cell_type": "code",
      "execution_count": 5,
      "id": "9722fc02",
      "metadata": {
        "colab": {
          "base_uri": "https://localhost:8080/"
        },
        "id": "9722fc02",
        "outputId": "9d6bb1e6-c4eb-4897-ddea-eb1dd5c480c3"
      },
      "outputs": [
        {
          "output_type": "execute_result",
          "data": {
            "text/plain": [
              "35094"
            ]
          },
          "metadata": {},
          "execution_count": 5
        }
      ],
      "source": [
        "\n",
        "def wordsOfLength(lengths):\n",
        "    return [word for word in filteredWords if len(word) in lengths]\n",
        "\n",
        "len(list(wordsOfLength(START_WORD_LENGTHS)))\n"
      ]
    },
    {
      "cell_type": "code",
      "execution_count": 6,
      "id": "61cf18e7",
      "metadata": {
        "colab": {
          "base_uri": "https://localhost:8080/"
        },
        "id": "61cf18e7",
        "outputId": "bd78157c-ff6b-4754-8fc4-47504772f759"
      },
      "outputs": [
        {
          "output_type": "stream",
          "name": "stdout",
          "text": [
            "isAnagram(\"ostra\", \"motri\")\n",
            "False\n"
          ]
        }
      ],
      "source": [
        "\n",
        "def isAnagram(sourceWord, targetWord):\n",
        "    if len(sourceWord) != len(targetWord):\n",
        "        return False\n",
        "    \n",
        "    res = True\n",
        "    \n",
        "    sourceCharSet = list(sourceWord)\n",
        "    targetCharSet = list(targetWord)\n",
        "    \n",
        "    #print(targetCharSet)\n",
        "    for i, ch in enumerate(sourceWord):\n",
        "        #print(ch, targetCharSet)\n",
        "        if ch in targetCharSet:\n",
        "            targetCharSet.remove(ch)\n",
        "        else:\n",
        "            res = False\n",
        "            break\n",
        "    \n",
        "    return res\n",
        "    \n",
        "        \n",
        "assert(isAnagram('', ''))\n",
        "assert(not isAnagram('corto', 'trOca'))\n",
        "assert(not isAnagram('c', ''))\n",
        "assert(isAnagram('cortao', 'trocao'))\n",
        "\n",
        "srcWord = 'ostra'\n",
        "dstWord ='motri'\n",
        "\n",
        "print('isAnagram(\"{0}\", \"{1}\")'.format(srcWord, dstWord))\n",
        "print(isAnagram(srcWord, dstWord))"
      ]
    },
    {
      "cell_type": "code",
      "execution_count": 7,
      "id": "58c3fde5",
      "metadata": {
        "colab": {
          "base_uri": "https://localhost:8080/"
        },
        "id": "58c3fde5",
        "outputId": "95c47e73-9aea-4e7d-a93e-8abfabc511ca"
      },
      "outputs": [
        {
          "output_type": "stream",
          "name": "stdout",
          "text": [
            "isAnagramEx(\"straccio\", \"crosta\", 2)\n",
            "True\n",
            "0.0003s\n"
          ]
        }
      ],
      "source": [
        "import time\n",
        "\n",
        "def isAnagramEx(sourceWord, targetWord, maxDiffLength=0, strict=False):\n",
        "    if maxDiffLength == 0:\n",
        "        return isAnagram(sourceWord, targetWord)\n",
        "    else:\n",
        "        wordDiffLength = abs(len(sourceWord) - len(targetWord))\n",
        "        if wordDiffLength > maxDiffLength:\n",
        "            return False\n",
        "        \n",
        "    sourceCharSet = list(sourceWord)\n",
        "    targetCharSet = list(targetWord)\n",
        "    \n",
        "    if len(sourceCharSet) > len(targetCharSet):\n",
        "        sourceCharSet, targetCharSet = targetCharSet, sourceCharSet\n",
        "        \n",
        "    #print(targetCharSet, sourceCharSet)\n",
        "    for ch in sourceCharSet:\n",
        "        #print(ch, targetCharSet)\n",
        "        if ch in targetCharSet:\n",
        "            targetCharSet.remove(ch)\n",
        "    \n",
        "    #print(targetCharSet)\n",
        "    targetCharSetLength = len(targetCharSet)\n",
        "    #print(wordDiffLength, targetCharSet)\n",
        "    isLooseAnagram = (targetCharSetLength <= maxDiffLength)\n",
        "    res = (not strict and isLooseAnagram) or (strict and isLooseAnagram and wordDiffLength == maxDiffLength)\n",
        "    return res\n",
        "    \n",
        "        \n",
        "maxDiffLength=2\n",
        "\n",
        "assert(isAnagramEx('', ''))\n",
        "assert(not isAnagramEx('corto', 'trOca'))\n",
        "assert(not isAnagramEx('c', ''))\n",
        "assert(isAnagramEx('cortao', 'trocao'))\n",
        "assert(isAnagramEx('cortao', 'trocaox', 1))\n",
        "assert(not isAnagramEx('strappo', 'posta', 1))\n",
        "assert(isAnagramEx('strappo', 'posta', 2))\n",
        "assert(isAnagramEx('strappo', 'posta', 3))\n",
        "assert(not isAnagramEx('strappo', 'posta', 3, strict=True))\n",
        "assert(isAnagramEx('strappo', 'posta', 2, strict=True))\n",
        "assert(isAnagramEx('LEVI', 'ABILE', 2,))\n",
        "assert(not isAnagramEx('TUFFAI', 'ABACA', 2,))\n",
        "\n",
        "\n",
        "srcWord = 'straccio'\n",
        "dstWord ='crosta'\n",
        "\n",
        "print('isAnagramEx(\"{0}\", \"{1}\", {2})'.format(srcWord, dstWord, maxDiffLength))\n",
        "print(isAnagramEx(srcWord, dstWord, maxDiffLength=maxDiffLength))\n",
        "\n",
        "t0 = time.time()\n",
        "for i in range(0):\n",
        "  isAnagramEx('', '')\n",
        "  not isAnagramEx('corto', 'trOca')\n",
        "  not isAnagramEx('c', '')\n",
        "  isAnagramEx('cortao', 'trocao')\n",
        "  isAnagramEx('cortao', 'trocaox', 1)\n",
        "  not isAnagramEx('strappo', 'posta', 1)\n",
        "  isAnagramEx('strappo', 'posta', 2)\n",
        "  isAnagramEx('strappo', 'posta', 3)\n",
        "  not isAnagramEx('strappo', 'posta', 3, strict=True)\n",
        "  isAnagramEx('strappo', 'posta', 2, strict=True)\n",
        "  isAnagramEx('LEVI', 'ABILE', 2, )\n",
        "  not isAnagramEx('TUFFAI', 'ABACA', 2, )  \n",
        "print(f'{(time.time() - t0):.4f}s')\n"
      ]
    },
    {
      "cell_type": "markdown",
      "source": [
        "# isAnagramEx2"
      ],
      "metadata": {
        "id": "UvkA0J8vY7c6"
      },
      "id": "UvkA0J8vY7c6"
    },
    {
      "cell_type": "code",
      "source": [
        "import time\n",
        "\n",
        "\n",
        "def _isAnagramEx2(sortedSourceChars, sortedTargetChars, sourceLength, targetLength, maxDiffLength=0, strict=False, failFast=False):\n",
        "  if failFast and abs(sourceLength - targetLength) > maxDiffLength:\n",
        "    return False, -1\n",
        "\n",
        "  # if maxDiffLength == 0:\n",
        "  #     return sortedSourceChars == sortedTargetChars\n",
        "  # else:\n",
        "  #   wordDiffLength = abs(sourceLength - targetLength)\n",
        "  #   if wordDiffLength > maxDiffLength:\n",
        "  #       return False\n",
        "\n",
        "  i = 0\n",
        "  j = 0\n",
        "  diff = 0\n",
        "  same = 0\n",
        "  if sourceLength != 0 and targetLength != 0:\n",
        "    while i < sourceLength and j < targetLength:\n",
        "      sourceCh = sortedSourceChars[i]\n",
        "      targetCh = sortedTargetChars[j]\n",
        "      if sourceCh == targetCh:\n",
        "        i += 1\n",
        "        j += 1\n",
        "        same += 1\n",
        "      else:\n",
        "        if sourceCh < targetCh:\n",
        "          i += 1\n",
        "        else:\n",
        "          j += 1\n",
        "\n",
        "  diff = max(sourceLength, targetLength) - same\n",
        "  #print(sortedSourceChars, sortedTargetChars, diff, same)\n",
        "  isLooseAnagram = diff <= maxDiffLength\n",
        "  res = (not strict and isLooseAnagram) or (strict and isLooseAnagram and diff == maxDiffLength)\n",
        "  return res, diff\n",
        "\n",
        "\n",
        "def isAnagramEx2(sourceWord, targetWord, maxDiffLength=0, strict=False, failFast=False):\n",
        "  sortedSourceChars = sorted(sourceWord)\n",
        "  sortedTargetChars = sorted(targetWord)\n",
        "\n",
        "  # if maxDiffLength == 0:\n",
        "  #     return sortedSourceChars == sortedTargetChars\n",
        "  # else:\n",
        "\n",
        "\n",
        "  sourceLength = len(sortedSourceChars)\n",
        "  targetLength = len(sortedTargetChars)\n",
        "\n",
        "  return _isAnagramEx2(sortedSourceChars, sortedTargetChars, sourceLength, targetLength, maxDiffLength=maxDiffLength, strict=strict, failFast=failFast)\n",
        "\n",
        "maxDiffLength = 2\n",
        "\n",
        "assert (True, 0) == isAnagramEx2('', '')\n",
        "assert (False, 2) == isAnagramEx2('corto', 'trOca')\n",
        "assert (False, 4) == isAnagramEx2('corto', 'trOcaul')\n",
        "assert (False, 1) == isAnagramEx2('c', '')\n",
        "assert (True, 1) == isAnagramEx2('cortao', 'trocaox', 1)\n",
        "assert (True, 0) == isAnagramEx2('cortao', 'trocao')\n",
        "assert (False, 2) == isAnagramEx2('strappo', 'posta', 1)\n",
        "assert (True, 2) == isAnagramEx2('strappo', 'posta', 2)\n",
        "assert (True, 2) == isAnagramEx2('strappo', 'posta', 3)\n",
        "assert (False, 2) == isAnagramEx2('strappo', 'posta', 3, strict=True)\n",
        "assert (True, 2) == isAnagramEx2('strappo', 'posta', 2, strict=True)\n",
        "assert (True, 2) == isAnagramEx2('LEVI', 'ABILE', 2, strict=False)\n",
        "assert (False, 5) == isAnagramEx2('TUFFAI', 'ABACA', 2, strict=False)\n",
        "assert (False, 5) == isAnagramEx2('TUFFAI', 'ABACA', 2, strict=True)\n",
        "assert (True, 1) == isAnagramEx2('AOPST', 'AOPSTU', 1, strict=False)\n",
        "assert (True, 1) == isAnagramEx2('AOPST', 'AOPSTU', 1, strict=True)\n",
        "\n",
        "srcWord = 'straccio'\n",
        "dstWord = 'crosta'\n",
        "\n",
        "print('isAnagramEx2(\"{0}\", \"{1}\", {2})'.format(srcWord, dstWord, maxDiffLength))\n",
        "print(isAnagramEx2(srcWord, dstWord, maxDiffLength=maxDiffLength))\n",
        "\n",
        "t0 = time.time()\n",
        "for i in range(0):\n",
        "  isAnagramEx2('', '')\n",
        "  not isAnagramEx2('corto', 'trOca')\n",
        "  not isAnagramEx2('c', '')\n",
        "  isAnagramEx2('cortao', 'trocao')\n",
        "  isAnagramEx2('cortao', 'trocaox', 1)\n",
        "  not isAnagramEx2('strappo', 'posta', 1)\n",
        "  isAnagramEx2('strappo', 'posta', 2)\n",
        "  isAnagramEx2('strappo', 'posta', 3)\n",
        "  not isAnagramEx2('strappo', 'posta', 3, strict=True)\n",
        "  isAnagramEx2('strappo', 'posta', 2, strict=True)\n",
        "  isAnagramEx2('LEVI', 'ABILE', 2, )\n",
        "  not isAnagramEx2('TUFFAI', 'ABACA', 2, )\n",
        "print(f'{(time.time() - t0):.4f}s')\n"
      ],
      "metadata": {
        "colab": {
          "base_uri": "https://localhost:8080/"
        },
        "id": "CGB3EfzCYLUX",
        "outputId": "34077348-22e4-4584-d7c3-cf52bdd41d12"
      },
      "id": "CGB3EfzCYLUX",
      "execution_count": 8,
      "outputs": [
        {
          "output_type": "stream",
          "name": "stdout",
          "text": [
            "isAnagramEx2(\"straccio\", \"crosta\", 2)\n",
            "(True, 2)\n",
            "0.0002s\n"
          ]
        }
      ]
    },
    {
      "cell_type": "code",
      "source": [
        "import time\n",
        "from collections import Counter\n",
        "\n",
        "def isAnagram_Counter(sourceWord, targetWord, maxDiffLength=0, strict=False):\n",
        "  sourceCounter = Counter(sourceWord)\n",
        "  targetCounter = Counter(targetWord)\n",
        "\n",
        "  # swap? (lengthier first!)\n",
        "  if len(sourceWord) < len(targetWord):\n",
        "    sourceCounter, targetCounter = targetCounter, sourceCounter\n",
        "\n",
        "  diffCounter = sourceCounter - targetCounter\n",
        "\n",
        "  diffSum = sum(diffCounter.values())\n",
        "\n",
        "  isAnagram = (not strict and diffSum <= maxDiffLength) or (strict and diffSum == maxDiffLength)\n",
        "  return isAnagram, diffSum\n",
        "\n",
        "print(\"->\", isAnagram_Counter('corto', 'trOca'))\n",
        "\n",
        "\n",
        "assert (True, 0) == isAnagram_Counter('', '')\n",
        "assert (False, 2) == isAnagram_Counter('corto', 'trOca')\n",
        "assert (False, 4) == isAnagram_Counter('corto', 'trOcaul')\n",
        "assert (False, 1) == isAnagram_Counter('c', '')\n",
        "assert (True, 1) == isAnagram_Counter('cortao', 'trocaox', 1)\n",
        "assert (True, 0) == isAnagram_Counter('cortao', 'trocao')\n",
        "assert (False, 2) == isAnagram_Counter('strappo', 'posta', 1)\n",
        "assert (True, 2) == isAnagram_Counter('strappo', 'posta', 2)\n",
        "assert (True, 2) == isAnagram_Counter('strappo', 'posta', 3)\n",
        "assert (False, 2) == isAnagram_Counter('strappo', 'posta', 3, strict=True)\n",
        "assert (True, 2) == isAnagram_Counter('strappo', 'posta', 2, strict=True)\n",
        "assert (True, 2) == isAnagram_Counter('LEVI', 'ABILE', 2, strict=False)\n",
        "assert (False, 5) == isAnagram_Counter('TUFFAI', 'ABACA', 2, strict=False)\n",
        "assert (False, 5) == isAnagram_Counter('TUFFAI', 'ABACA', 2, strict=True)\n",
        "assert (True, 1) == isAnagram_Counter('AOPST', 'AOPSTU', 1, strict=False)\n",
        "assert (True, 1) == isAnagram_Counter('AOPST', 'AOPSTU', 1, strict=True)\n",
        "assert (True, 1) == isAnagram_Counter('BAVA', 'ABAVI', 1, strict=True)\n",
        "\n",
        "t0 = time.time()\n",
        "for i in range(0):\n",
        "  isAnagram_Counter('', '')\n",
        "  not isAnagram_Counter('corto', 'trOca')\n",
        "  not isAnagram_Counter('c', '')\n",
        "  isAnagram_Counter('cortao', 'trocao')\n",
        "  isAnagram_Counter('cortao', 'trocaox', 1)\n",
        "  not isAnagram_Counter('strappo', 'posta', 1)\n",
        "  isAnagram_Counter('strappo', 'posta', 2)\n",
        "  isAnagram_Counter('strappo', 'posta', 3)\n",
        "  not isAnagram_Counter('strappo', 'posta', 3, strict=True)\n",
        "  isAnagram_Counter('strappo', 'posta', 2, strict=True)\n",
        "  isAnagram_Counter('LEVI', 'ABILE', 2, )\n",
        "  not isAnagram_Counter('TUFFAI', 'ABACA', 2, )\n",
        "print(f'{(time.time() - t0):.4f}s')\n"
      ],
      "metadata": {
        "colab": {
          "base_uri": "https://localhost:8080/"
        },
        "id": "k_Ob2uNwsGy1",
        "outputId": "b88233bb-9de0-4d70-c2b0-7a897ed10db4"
      },
      "id": "k_Ob2uNwsGy1",
      "execution_count": 9,
      "outputs": [
        {
          "output_type": "stream",
          "name": "stdout",
          "text": [
            "-> (False, 2)\n",
            "0.0002s\n"
          ]
        }
      ]
    },
    {
      "cell_type": "code",
      "source": [
        "import time\n",
        "from copy import copy\n",
        "\n",
        "class Counter2(dict):\n",
        "  \n",
        "  def __init__(self, word):\n",
        "    self.word = word\n",
        "    for ch in word:\n",
        "      if ch not in self:\n",
        "        self[ch] = 0\n",
        "      self[ch] += 1\n",
        "      # if ch not in self:\n",
        "      #   self[ch] = word.count(ch)\n",
        "\n",
        "  def __add__(self, otherCounter):\n",
        "    newCounter = copy(self)\n",
        "    for k, v in otherCounter.items():\n",
        "      if k not in newCounter:\n",
        "        newCounter[k] = 0\n",
        "      newCounter[k] += v\n",
        "    \n",
        "    return newCounter\n",
        "\n",
        "  def __sub__(self, otherCounter):\n",
        "    newCounter = copy(self)\n",
        "    for k, v in otherCounter.items():\n",
        "      if k not in newCounter:\n",
        "        newCounter[k] = 0\n",
        "      else:\n",
        "        newCounter[k] -= v\n",
        "        if newCounter[k] <= 0:\n",
        "          del newCounter[k]\n",
        "    \n",
        "    return newCounter\n",
        "\n",
        "  def isAnagram(self, otherCounter, maxDiffLength=1, strict=False, failFast=False):\n",
        "    sourceCounter, targetCounter = self, otherCounter\n",
        "    sourceLength, targetLength = len(sourceCounter.word), len(targetCounter.word)\n",
        "    if failFast and abs(targetLength - sourceLength) > maxDiffLength:\n",
        "      return False, -1\n",
        "    if sourceLength < targetLength:\n",
        "      sourceCounter, targetCounter = targetCounter, sourceCounter\n",
        "      sourceLength, targetLength = targetLength, sourceLength\n",
        "    diffCounter = sourceCounter - targetCounter\n",
        "    diffSum = sum(diffCounter.values())\n",
        "   \n",
        "    isAnagram = (not strict and diffSum <= maxDiffLength) or (strict and diffSum == maxDiffLength)\n",
        "    return isAnagram, diffSum\n",
        "\n",
        "\n",
        "def isAnagram_Counter2(sourceWord, targetWord, maxDiffLength=0, strict=False):\n",
        "  sourceCounter = Counter2(sourceWord)\n",
        "  targetCounter = Counter2(targetWord)\n",
        "\n",
        "  # swap? (lengthier first!)\n",
        "  if len(sourceWord) < len(targetWord):\n",
        "    sourceCounter, targetCounter = targetCounter, sourceCounter\n",
        "\n",
        "  diffCounter = sourceCounter - targetCounter\n",
        "\n",
        "  diffSum = sum(diffCounter.values())\n",
        "\n",
        "  isAnagram = (not strict and diffSum <= maxDiffLength) or (strict and diffSum == maxDiffLength)\n",
        "  return isAnagram, diffSum\n",
        "\n",
        "print(\"->\", isAnagram_Counter2('corto', 'trOca'))\n",
        "\n",
        "word1 = Counter2('corto')\n",
        "word2 = Counter2('trOca')\n",
        "display(word1)\n",
        "display(word2)\n",
        "display(word1 + word2)\n",
        "display(word1 - word2)\n",
        "display(Counter('corto') - Counter('trOca'))\n",
        "\n",
        "assert (True, 0) == isAnagram_Counter2('', '')\n",
        "assert (False, 2) == isAnagram_Counter2('corto', 'trOca')\n",
        "assert (False, 4) == isAnagram_Counter2('corto', 'trOcaul')\n",
        "assert (False, 1) == isAnagram_Counter2('c', '')\n",
        "assert (True, 1) == isAnagram_Counter2('cortao', 'trocaox', 1)\n",
        "assert (True, 0) == isAnagram_Counter2('cortao', 'trocao')\n",
        "assert (False, 2) == isAnagram_Counter2('strappo', 'posta', 1)\n",
        "assert (True, 2) == isAnagram_Counter2('strappo', 'posta', 2)\n",
        "assert (True, 2) == isAnagram_Counter2('strappo', 'posta', 3)\n",
        "assert (False, 2) == isAnagram_Counter2('strappo', 'posta', 3, strict=True)\n",
        "assert (True, 2) == isAnagram_Counter2('strappo', 'posta', 2, strict=True)\n",
        "assert (True, 2) == isAnagram_Counter2('LEVI', 'ABILE', 2, strict=False)\n",
        "assert (False, 5) == isAnagram_Counter2('TUFFAI', 'ABACA', 2, strict=False)\n",
        "assert (False, 5) == isAnagram_Counter2('TUFFAI', 'ABACA', 2, strict=True)\n",
        "assert (True, 1) == isAnagram_Counter2('AOPST', 'AOPSTU', 1, strict=False)\n",
        "assert (True, 1) == isAnagram_Counter2('AOPST', 'AOPSTU', 1, strict=True)\n",
        "assert (True, 1) == isAnagram_Counter2('BAVA', 'ABAVI', 1, strict=True)\n",
        "assert (True, 1) == Counter2('BAVA').isAnagram(Counter2('ABAVI'), maxDiffLength=1)\n",
        "\n",
        "t0 = time.time()\n",
        "for i in range(0):\n",
        "  isAnagram_Counter2('', '')\n",
        "  not isAnagram_Counter2('corto', 'trOca')\n",
        "  not isAnagram_Counter2('c', '')\n",
        "  isAnagram_Counter2('cortao', 'trocao')\n",
        "  isAnagram_Counter2('cortao', 'trocaox', 1)\n",
        "  not isAnagram_Counter2('strappo', 'posta', 1)\n",
        "  isAnagram_Counter2('strappo', 'posta', 2)\n",
        "  isAnagram_Counter2('strappo', 'posta', 3)\n",
        "  not isAnagram_Counter2('strappo', 'posta', 3, strict=True)\n",
        "  isAnagram_Counter2('strappo', 'posta', 2, strict=True)\n",
        "  isAnagram_Counter2('LEVI', 'ABILE', 2, )\n",
        "  not isAnagram_Counter2('TUFFAI', 'ABACA', 2, )\n",
        "print(f'{(time.time() - t0):.4f}s')\n"
      ],
      "metadata": {
        "id": "QZbMMTqDFpJd",
        "outputId": "9dd7b580-b7fd-434f-8f3f-a2a5ddb81016",
        "colab": {
          "base_uri": "https://localhost:8080/",
          "height": 139
        }
      },
      "id": "QZbMMTqDFpJd",
      "execution_count": 10,
      "outputs": [
        {
          "output_type": "stream",
          "name": "stdout",
          "text": [
            "-> (False, 2)\n"
          ]
        },
        {
          "output_type": "display_data",
          "data": {
            "text/plain": [
              "{'c': 1, 'o': 2, 'r': 1, 't': 1}"
            ]
          },
          "metadata": {}
        },
        {
          "output_type": "display_data",
          "data": {
            "text/plain": [
              "{'t': 1, 'r': 1, 'O': 1, 'c': 1, 'a': 1}"
            ]
          },
          "metadata": {}
        },
        {
          "output_type": "display_data",
          "data": {
            "text/plain": [
              "{'c': 2, 'o': 2, 'r': 2, 't': 2, 'O': 1, 'a': 1}"
            ]
          },
          "metadata": {}
        },
        {
          "output_type": "display_data",
          "data": {
            "text/plain": [
              "{'o': 2, 'O': 0, 'a': 0}"
            ]
          },
          "metadata": {}
        },
        {
          "output_type": "display_data",
          "data": {
            "text/plain": [
              "Counter({'o': 2})"
            ]
          },
          "metadata": {}
        },
        {
          "output_type": "stream",
          "name": "stdout",
          "text": [
            "0.0003s\n"
          ]
        }
      ]
    },
    {
      "cell_type": "markdown",
      "source": [
        "# TreeNode"
      ],
      "metadata": {
        "id": "bNXGsvcJZDx6"
      },
      "id": "bNXGsvcJZDx6"
    },
    {
      "cell_type": "code",
      "source": [
        "import random\n",
        "\n",
        "def counterCompare(counterA, counterB):\n",
        "  # counterA = Counter2(wordA)\n",
        "  # counterB = Counter2(wordB)\n",
        "  #isAnagram, diff = counterA.isAnagram(counterB, maxDiffLength=1, strict=True, failFast=True)\n",
        "  isAnagram, diff = isAnagramEx2(counterA.word, counterB.word, maxDiffLength=1, strict=True)\n",
        "  #print(counterA.word, counterB.word, (isAnagram, diff))\n",
        "  return -1 if isAnagram else 1\n",
        "\n",
        "def wordCompare(wordA, wordB):\n",
        "  isAnagram, diff = isAnagramEx2(wordA, wordB, maxDiffLength=1, strict=True, failFast=True)\n",
        "  #print(counterA.word, counterB.word, (isAnagram, diff))\n",
        "  return -1 if isAnagram else 1\n",
        "\n",
        "class TreeNode:\n",
        "  def __init__(self, word):\n",
        "    self.left = None\n",
        "    self.right = None\n",
        "    self.data = word\n",
        "\n",
        "  def insert(self, word, compare=wordCompare):\n",
        "    data = word\n",
        "    \n",
        "    y = None\n",
        "    node = self\n",
        "    i = 0\n",
        "    while node is not None:\n",
        "      i += 1\n",
        "      if node.data:\n",
        "        y = node\n",
        "        comparison = compare(node.data, data)\n",
        "        if comparison < 0:\n",
        "          node = node.left\n",
        "        else:\n",
        "          node = node.right\n",
        "\n",
        "    # if random.choice([0,1,2,4,5]) == 0:\n",
        "    #   print(i)\n",
        "    \n",
        "    if y is None:\n",
        "      self.data = data\n",
        "    elif comparison < 0:\n",
        "      y.left = TreeNode(word)\n",
        "    else:\n",
        "      y.right = TreeNode(word)\n",
        "\n",
        "  def search(self, word, compare=wordCompare):\n",
        "    results = []\n",
        "\n",
        "    data = word\n",
        "    \n",
        "    y = None\n",
        "    node = self\n",
        "    while node is not None:\n",
        "      if node.data:\n",
        "        y = node\n",
        "        comparison = compare(node.data, data)\n",
        "        #print(comparison, node.data.word, data.word)\n",
        "        if comparison < 0:\n",
        "          results.append(node.data)\n",
        "          node = node.left\n",
        "        else:\n",
        "          node = node.right\n",
        "\n",
        "    return results\n",
        "\n",
        "\n",
        "def printTree(node, level=0):\n",
        "  if node != None:\n",
        "    printTree(node.left, level + 1)\n",
        "    print(' ' * 4 * level + '-> ' + str(node.word))\n",
        "    printTree(node.right, level + 1)\n",
        "\n",
        "\n",
        "\n",
        "t0 = time.time()\n",
        "root = TreeNode('@')\n",
        "shuffledWords = filteredWords[:]\n",
        "random.shuffle(shuffledWords)\n",
        "for i, word in enumerate(shuffledWords[:10000]):\n",
        "  root.insert(word)\n",
        "  if i % 1000 == 0:\n",
        "    print(i, word)\n",
        "print(f'build took {(time.time() - t0):.2f}')\n",
        "\n",
        "#printTree(root)\n",
        "\n",
        "t0 = time.time()\n",
        "word = shuffledWords[1]\n",
        "res = root.search(word)\n",
        "print(f'search {word} took {(time.time() - t0):.2f}')\n",
        "\n",
        "display(res)\n"
      ],
      "metadata": {
        "colab": {
          "base_uri": "https://localhost:8080/",
          "height": 850
        },
        "id": "XWnHA1-fgXbz",
        "outputId": "6389822f-22f3-4215-8bca-57f5bfd825d6"
      },
      "id": "XWnHA1-fgXbz",
      "execution_count": 11,
      "outputs": [
        {
          "output_type": "stream",
          "name": "stdout",
          "text": [
            "0 AZIONAGLI\n",
            "1000 INDORSATO\n",
            "2000 ISTESSI\n",
            "Reconnecting Anvil Uplink...\n",
            "Connecting to wss://anvil.works/uplink\n",
            "Anvil websocket open\n",
            "Fatal error from Anvil server: Incorrect uplink key\n",
            "Anvil websocket closed (code 1000, reason=b'')\n",
            "Reconnecting Anvil Uplink...\n",
            "Connecting to wss://anvil.works/uplink\n",
            "Anvil websocket open\n",
            "Fatal error from Anvil server: Incorrect uplink key\n",
            "Anvil websocket closed (code 1000, reason=b'')\n",
            "3000 DERIMENTE\n",
            "4000 SBARACCAI\n",
            "Reconnecting Anvil Uplink...\n",
            "Connecting to wss://anvil.works/uplink\n",
            "Anvil websocket open\n",
            "Fatal error from Anvil server: Incorrect uplink key\n",
            "Anvil websocket closed (code 1000, reason=b'')\n",
            "5000 SLUMANTI\n",
            "Reconnecting Anvil Uplink...\n",
            "Connecting to wss://anvil.works/uplink\n",
            "Anvil websocket open\n",
            "Fatal error from Anvil server: Incorrect uplink key\n",
            "Anvil websocket closed (code 1000, reason=b'')\n",
            "6000 BRUCIOLI\n",
            "Reconnecting Anvil Uplink...\n",
            "Connecting to wss://anvil.works/uplink\n",
            "Anvil websocket open\n",
            "Fatal error from Anvil server: Incorrect uplink key\n",
            "Anvil websocket closed (code 1000, reason=b'')\n",
            "7000 FRETTALE\n",
            "8000 RIANIMAI\n",
            "Reconnecting Anvil Uplink...\n",
            "Connecting to wss://anvil.works/uplink\n",
            "Anvil websocket open\n",
            "Fatal error from Anvil server: Incorrect uplink key\n",
            "Anvil websocket closed (code 1000, reason=b'')\n",
            "9000 BARRIQUE\n",
            "Reconnecting Anvil Uplink...\n",
            "Connecting to wss://anvil.works/uplink\n",
            "Anvil websocket open\n",
            "Fatal error from Anvil server: Incorrect uplink key\n",
            "Anvil websocket closed (code 1000, reason=b'')\n",
            "build took 78.17\n",
            "search ATTUTISCI took 0.02\n"
          ]
        },
        {
          "output_type": "display_data",
          "data": {
            "text/plain": [
              "[]"
            ]
          },
          "metadata": {}
        }
      ]
    },
    {
      "cell_type": "code",
      "source": [
        "#print(shuffledWords[:100])\n",
        "t0 = time.time()\n",
        "word = random.choice(shuffledWords[:5000])\n",
        "res = root.search(word)\n",
        "print(f'search {word} took {(time.time() - t0):.2f}')\n",
        "\n",
        "display(res)\n"
      ],
      "metadata": {
        "colab": {
          "base_uri": "https://localhost:8080/",
          "height": 52
        },
        "id": "ZazG-K-xvwwB",
        "outputId": "8d05494b-c899-4ecb-e220-c09f35649808"
      },
      "id": "ZazG-K-xvwwB",
      "execution_count": 12,
      "outputs": [
        {
          "output_type": "stream",
          "name": "stdout",
          "text": [
            "search SGRUMAVA took 0.02\n"
          ]
        },
        {
          "output_type": "display_data",
          "data": {
            "text/plain": [
              "[]"
            ]
          },
          "metadata": {}
        }
      ]
    },
    {
      "cell_type": "markdown",
      "source": [
        "# Trie"
      ],
      "metadata": {
        "id": "lKHyFXGsZIaS"
      },
      "id": "lKHyFXGsZIaS"
    },
    {
      "cell_type": "code",
      "execution_count": 13,
      "id": "b03898fd",
      "metadata": {
        "id": "b03898fd",
        "outputId": "132702ac-5973-4bd1-fa95-7142884b873b",
        "colab": {
          "base_uri": "https://localhost:8080/"
        }
      },
      "outputs": [
        {
          "output_type": "stream",
          "name": "stdout",
          "text": [
            "Reconnecting Anvil Uplink...\n",
            "Connecting to wss://anvil.works/uplink\n",
            "Build took 3.69534 s\n",
            "Read 401123 words into 674739 nodes\n",
            "Anvil websocket open\n",
            "Fatal error from Anvil server: Incorrect uplink key\n",
            "Anvil websocket closed (code 1000, reason=b'')\n",
            "Search took 0.563971 s\n"
          ]
        }
      ],
      "source": [
        "# http://stevehanov.ca/blog/index.php?id=114\n",
        "# By Steve Hanov, 2011. Released to the public domain\n",
        "import time\n",
        "import sys\n",
        "\n",
        "DICTIONARY = \"/usr/share/dict/words\";\n",
        "TARGET = \"SCORTA\"\n",
        "MAX_COST = 4\n",
        "\n",
        "# Keep some interesting statistics\n",
        "NodeCount = 0\n",
        "WordCount = 0\n",
        "\n",
        "# The Trie data structure keeps a set of words, organized with one node for\n",
        "# each letter. Each node has a branch for each letter that may follow it in the\n",
        "# set of words.\n",
        "class TrieNode:\n",
        "    def __init__(self):\n",
        "        self.word = None\n",
        "        self.children = {}\n",
        "\n",
        "        global NodeCount\n",
        "        NodeCount += 1\n",
        "\n",
        "    def insert( self, word ):\n",
        "        node = self\n",
        "        for letter in word:\n",
        "            if letter not in node.children: \n",
        "                node.children[letter] = TrieNode()\n",
        "\n",
        "            node = node.children[letter]\n",
        "\n",
        "        node.word = word\n",
        "\n",
        "# read dictionary file into a trie\n",
        "start = time.time()\n",
        "\n",
        "trie = TrieNode()\n",
        "for word in filteredWords:\n",
        "    WordCount += 1\n",
        "    trie.insert( word )\n",
        "\n",
        "end = time.time()\n",
        "print(\"Build took %g s\" % (end - start))\n",
        "\n",
        "print(\"Read %d words into %d nodes\" % (WordCount, NodeCount))\n",
        "\n",
        "# The search function returns a list of all words that are less than the given\n",
        "# maximum distance from the target word\n",
        "def search( word, maxCost ):\n",
        "\n",
        "    # build first row\n",
        "    currentRow = range( len(word) + 1 )\n",
        "\n",
        "    results = []\n",
        "\n",
        "    # recursively search each branch of the trie\n",
        "    for letter in trie.children:\n",
        "        searchRecursive( trie.children[letter], letter, word, currentRow, \n",
        "            results, maxCost )\n",
        "\n",
        "    return results\n",
        "\n",
        "# This recursive helper is used by the search function above. It assumes that\n",
        "# the previousRow has been filled in already.\n",
        "def searchRecursive( node, letter, word, previousRow, results, maxCost ):\n",
        "\n",
        "    columns = len( word ) + 1\n",
        "    currentRow = [ previousRow[0] + 1 ]\n",
        "\n",
        "    # Build one row for the letter, with a column for each letter in the target\n",
        "    # word, plus one for the empty string at column 0\n",
        "    for column in range( 1, columns ):\n",
        "\n",
        "        insertCost = currentRow[column - 1] + 1\n",
        "        deleteCost = previousRow[column] + 1\n",
        "\n",
        "        if word[column - 1] != letter:\n",
        "            replaceCost = previousRow[ column - 1 ] + 1\n",
        "        else:                \n",
        "            replaceCost = previousRow[ column - 1 ]\n",
        "\n",
        "        currentRow.append( min( insertCost, deleteCost, replaceCost ) )\n",
        "\n",
        "    # if the last entry in the row indicates the optimal cost is less than the\n",
        "    # maximum cost, and there is a word in this trie node, then add it.\n",
        "    if currentRow[-1] <= maxCost and node.word != None:\n",
        "        results.append( (node.word, currentRow[-1] ) )\n",
        "\n",
        "    # if any entries in the row are less than the maximum cost, then \n",
        "    # recursively search each branch of the trie\n",
        "    if min( currentRow ) <= maxCost:\n",
        "        for letter in node.children:\n",
        "            searchRecursive( node.children[letter], letter, word, currentRow, \n",
        "                results, maxCost )\n",
        "\n",
        "start = time.time()\n",
        "results = search( TARGET, MAX_COST )\n",
        "end = time.time()\n",
        "\n",
        "#for result in results: print(result)\n",
        "\n",
        "print(\"Search took %g s\" % (end - start))\n",
        "\n"
      ]
    },
    {
      "cell_type": "code",
      "execution_count": 14,
      "id": "4f36e052",
      "metadata": {
        "id": "4f36e052",
        "outputId": "b9c01643-5ed8-4647-e533-c09e57d806f0",
        "colab": {
          "base_uri": "https://localhost:8080/"
        }
      },
      "outputs": [
        {
          "output_type": "stream",
          "name": "stdout",
          "text": [
            "START WORD: CROSTARLA\n",
            "Search took 0.238652 s\n",
            "END WORD: ('PRESTARLO', 3)\n"
          ]
        }
      ],
      "source": [
        "import random\n",
        "\n",
        "startWord = random.choice(filteredWords)\n",
        "print(\"START WORD:\", startWord)\n",
        "\n",
        "start = time.time()\n",
        "results = search(startWord, 3)\n",
        "end = time.time()\n",
        "\n",
        "print(\"Search took %g s\" % (end - start))\n",
        "\n",
        "validEndWord = random.choice(results)\n",
        "\n",
        "print(\"END WORD:\", validEndWord)\n"
      ]
    },
    {
      "cell_type": "markdown",
      "source": [
        "findAnagramsEx"
      ],
      "metadata": {
        "id": "bgr5QMRUZOvB"
      },
      "id": "bgr5QMRUZOvB"
    },
    {
      "cell_type": "code",
      "execution_count": 15,
      "id": "07dc857e",
      "metadata": {
        "id": "07dc857e"
      },
      "outputs": [],
      "source": [
        "def findAnagramsEx(wordList, word, maxDiffLength=1, strict=False):\n",
        "    results = []\n",
        "    wordLength = len(word)\n",
        "    for entry in wordList:\n",
        "        entryLength = len(entry)\n",
        "        if word == entry or entryLength < wordLength - maxDiffLength or entryLength > wordLength + maxDiffLength:\n",
        "            continue\n",
        "        if isAnagramEx(entry, word, maxDiffLength=maxDiffLength, strict=strict):\n",
        "            diffLength = abs(len(entry) - len(word))\n",
        "            results.append((entry, diffLength))\n",
        "    \n",
        "    return results\n"
      ]
    },
    {
      "cell_type": "code",
      "execution_count": 15,
      "id": "c1b41586",
      "metadata": {
        "id": "c1b41586"
      },
      "outputs": [],
      "source": []
    },
    {
      "cell_type": "code",
      "execution_count": 16,
      "id": "97032888",
      "metadata": {
        "id": "97032888",
        "outputId": "86925bbd-dc24-4e6b-88b2-a091d25518ac",
        "colab": {
          "base_uri": "https://localhost:8080/"
        }
      },
      "outputs": [
        {
          "output_type": "stream",
          "name": "stdout",
          "text": [
            "START WORD: CROSTARLA\n",
            "[('ADONTAVA', 0), ('AITAVANO', 0), ('ANATRANO', 0), ('ANATRAVO', 0), ('ANATRONA', 0), ('ANDAVANO', 0), ('ANFANATO', 0), ('ANFANAVO', 0), ('ANNASATO', 0), ('ANNASAVO', 0), ('ANNODATA', 0), ('ANNODAVA', 0), ('ANNOIATA', 0), ('ANNOIAVA', 0), ('ANNOMATA', 0), ('ANNOMAVA', 0), ('ANNOTALA', 0), ('ANNOTATA', 0), ('ANNOTAVA', 0), ('ANNOTAVI', 0), ('ANNOTAVO', 0), ('ANNOTTAVA', 1), ('ANSAVANO', 0), ('ARTAVANO', 0), ('ATTAVANO', 0), ('AVANZANO', 0), ('AVANZATO', 0), ('CANTAVANO', 1), ('CANTONAVA', 1), ('DATAVANO', 0), ('FATAVANO', 0), ('INNOVATA', 0), ('INTANAVA', 0), ('INTANAVO', 0), ('INTONAVA', 0), ('LONTANAVA', 1), ('MANTOVANA', 1), ('NASAVANO', 0), ('NATAVAMO', 0), ('NOTAVANO', 0), ('NOVANTA', 1), ('NOVATANE', 0), ('OSANNATA', 0), ('OSANNAVA', 0), ('PANAVANO', 0), ('PAVONATA', 0), ('RAVANANO', 0), ('RAVANATO', 0), ('SANAVANO', 0), ('STANAVANO', 1), ('TAFANANO', 0), ('TAFANAVO', 0), ('TANAVAMO', 0), ('TANAVANO', 0), ('TANCAVANO', 1), ('TANFANAVO', 1), ('TANFAVANO', 1), ('TANGONAVA', 1), ('TANNAVA', 1), ('TANNAVAMO', 1), ('TANNAVANO', 1), ('TANNAVO', 1), ('TARAVANO', 0), ('TONAVANO', 0), ('TRANAVANO', 1), ('UNTAVANO', 0), ('VAGONATA', 0), ('VANADATO', 0), ('VANATONE', 0), ('VANAVANO', 0), ('VANTANDO', 0), ('VANTANO', 1), ('VANTANZA', 0), ('VANTAVANO', 1)]\n"
          ]
        }
      ],
      "source": [
        "import random\n",
        "\n",
        "newStartWord = random.choice(filteredWords)\n",
        "print(\"START WORD:\", startWord)\n",
        "\n",
        "anagramsDict = {0:[], 1:[], 2:[]}\n",
        "randomFilteredWords = filteredWords[:]\n",
        "random.shuffle(filteredWords[:])\n",
        "randomFilteredWords = sorted(randomFilteredWords)\n",
        "\n",
        "anagrams = findAnagramsEx(randomFilteredWords, newStartWord, maxDiffLength=1, strict=False)\n",
        "for anagram in anagrams:\n",
        "    anagramsDict[anagram[1]].append(anagram[0])\n",
        "    \n",
        "print(anagrams)\n",
        "#print(anagramsDict[0][:10])"
      ]
    },
    {
      "cell_type": "code",
      "execution_count": 17,
      "id": "f203e9f3",
      "metadata": {
        "id": "f203e9f3",
        "outputId": "60444b59-6a33-493e-ae2f-ee354d1f1caf",
        "colab": {
          "base_uri": "https://localhost:8080/"
        }
      },
      "outputs": [
        {
          "output_type": "stream",
          "name": "stdout",
          "text": [
            "['ANNOTTAVA', 'CANTAVANO', 'CANTONAVA', 'LONTANAVA', 'MANTOVANA', 'NOVANTA', 'STANAVANO', 'TANCAVANO', 'TANFANAVO', 'TANFAVANO', 'TANGONAVA', 'TANNAVA', 'TANNAVAMO', 'TANNAVANO', 'TANNAVO', 'TRANAVANO', 'VANTANO', 'VANTAVANO']\n"
          ]
        }
      ],
      "source": [
        "print(anagramsDict[1])"
      ]
    },
    {
      "cell_type": "markdown",
      "source": [
        "# generateChain"
      ],
      "metadata": {
        "id": "gatv97TJZR95"
      },
      "id": "gatv97TJZR95"
    },
    {
      "cell_type": "code",
      "execution_count": 36,
      "id": "57b8bafa",
      "metadata": {
        "id": "57b8bafa",
        "outputId": "818f76be-6d77-41a6-d497-13318e955ad1",
        "colab": {
          "base_uri": "https://localhost:8080/"
        }
      },
      "outputs": [
        {
          "output_type": "stream",
          "name": "stdout",
          "text": [
            "START WORD: AGUZZO\n",
            "Finding levenshtein... (0.00)\n",
            "levenshtein 4\n",
            "restart True\n",
            "\n",
            "START WORD: SOFFRO\n",
            "Finding anagrams... (0.19)\n",
            "anagram 7\n",
            "restart True\n",
            "\n",
            "START WORD: COGLIE\n",
            "Finding levenshtein... (0.01)\n",
            "('COOLIE', 1) 16 levenshtein\n",
            "Finding levenshtein... (0.00)\n",
            "levenshtein 6\n",
            "restart True\n",
            "\n",
            "START WORD: LEGAMI\n",
            "Finding anagrams... (0.21)\n",
            "('MELAGLI', 1) 49 anagram\n",
            "Finding levenshtein... (0.01)\n",
            "('BELAGLI', 1) 17 levenshtein\n",
            "Finding levenshtein... (0.01)\n",
            "('BELLAGLI', 1) 15 levenshtein\n",
            "Finding anagrams... (0.87)\n",
            "anagram 9\n",
            "restart True\n",
            "\n",
            "START WORD: DISC\n",
            "Finding anagrams... (0.08)\n",
            "('DISCS', 1) 11 anagram\n",
            "Finding anagrams... (0.11)\n",
            "anagram 1\n",
            "restart True\n",
            "\n",
            "START WORD: RIPESI\n",
            "Finding anagrams... (0.20)\n",
            "('RISPEDI', 1) 74 anagram\n",
            "Finding anagrams... (0.50)\n",
            "('DISEPARI', 1) 55 anagram\n",
            "Finding anagrams... (1.55)\n",
            "('PRESIDIAR', 1) 72 anagram\n",
            "Finding anagrams... (1.58)\n",
            "('ADERIRSI', 1) 27 anagram\n",
            "Finding levenshtein... (0.01)\n",
            "levenshtein 9\n",
            "restart True\n",
            "\n",
            "START WORD: SPEGNE\n",
            "Finding levenshtein... (0.01)\n",
            "levenshtein 8\n",
            "restart True\n",
            "\n",
            "START WORD: SFILZA\n",
            "Finding anagrams... (0.43)\n",
            "anagram 5\n",
            "restart True\n",
            "\n",
            "START WORD: PALANE\n",
            "Finding anagrams... (0.41)\n",
            "('PLANARE', 1) 39 anagram\n",
            "Finding anagrams... (0.50)\n",
            "('PREANALE', 1) 51 anagram\n",
            "Finding anagrams... (0.81)\n",
            "('PALARVENE', 1) 37 anagram\n",
            "Finding anagrams... (0.75)\n",
            "anagram 8\n",
            "restart True\n",
            "\n",
            "START WORD: SVISI\n",
            "Finding levenshtein... (0.00)\n",
            "('SMISI', 1) 14 levenshtein\n",
            "Finding levenshtein... (0.00)\n",
            "('OMISI', 1) 10 levenshtein\n",
            "Finding anagrams... (0.10)\n",
            "('ROSIMI', 1) 31 anagram\n",
            "Finding anagrams... (0.20)\n",
            "('EROSIMI', 1) 51 anagram\n",
            "Finding levenshtein... (0.01)\n",
            "('ERASIMI', 1) 13 levenshtein\n",
            "Finding anagrams... (0.44)\n",
            "('RIAMMISE', 1) 96 anagram\n",
            "restart False\n",
            "\n",
            "['SMISI', 'OMISI', 'ROSIMI', 'EROSIMI', 'ERASIMI']\n",
            "END WORD: RIAMMISE\n",
            "Elapsed 9.12s\n"
          ]
        }
      ],
      "source": [
        "import time\n",
        "\n",
        "def generateChain(quiet=False, startWord=None, strict=False):\n",
        "    startWords = wordsOfLength(START_WORD_LENGTHS)\n",
        "    \n",
        "    restart = True\n",
        "    \n",
        "    while restart:\n",
        "        restart = False\n",
        "        startWord = random.choice(startWords)\n",
        "        print(\"START WORD:\", startWord)\n",
        "    \n",
        "        steps = [startWord]\n",
        "    \n",
        "        prevStep = (startWord, 0)\n",
        "        #self.info.text = \"\"\n",
        "        for i in range(6):\n",
        "            choice = random.choice([\"anagram\", \"levenshtein\"])\n",
        "            if choice == \"anagram\":\n",
        "                if not quiet: print(\"Finding anagrams...\", end=\"\")\n",
        "                startTime = time.time()\n",
        "                anagrams = findAnagramsEx(filteredWords, prevStep[0], maxDiffLength=1, strict=strict)\n",
        "                if not quiet: print(\" ({0:.2f})\".format(time.time() - startTime))\n",
        "                if len(anagrams) < 10 and i < MIN_STEPS:\n",
        "                    restart = True\n",
        "                    print(choice, len(anagrams))\n",
        "                    break\n",
        "            else:\n",
        "                if not quiet: print(\"Finding levenshtein...\", end=\"\")\n",
        "                startTime = time.time()\n",
        "                results = search(prevStep[0], 1)\n",
        "                if not quiet: print(\" ({0:.2f})\".format(time.time() - startTime))\n",
        "                if len(results) < 10 and i < MIN_STEPS:\n",
        "                    restart = True\n",
        "                    print(choice, len(results))\n",
        "                    break\n",
        "                    \n",
        "            done = False\n",
        "            while not done:\n",
        "                if choice == \"anagram\":\n",
        "                    nextStep = random.choice(anagrams)\n",
        "                else:\n",
        "                    nextStep = random.choice(results)\n",
        "    \n",
        "                if nextStep[0] not in steps:\n",
        "                    steps.append(nextStep[0])\n",
        "                    done = True\n",
        "    \n",
        "            resultsCount = len(results) if choice == \"levenshtein\" else len(anagrams)\n",
        "            if not quiet: print(nextStep, resultsCount, choice)\n",
        "            prevStep = nextStep\n",
        "    \n",
        "        print(\"restart\", restart)\n",
        "        print()\n",
        "    \n",
        "    endWord = steps[-1]\n",
        "    print(steps[1:-1])\n",
        "    print(\"END WORD:\", endWord)  \n",
        "    return steps\n",
        "\n",
        "t0 = time.time()\n",
        "steps = generateChain(startWord=None, strict=True)\n",
        "print(\"Elapsed {0:.2f}s\".format(time.time() - t0))\n",
        "\n",
        "startWord = steps[0]\n",
        "endWord = steps[-1]"
      ]
    },
    {
      "cell_type": "markdown",
      "source": [
        "# checkValidChain"
      ],
      "metadata": {
        "id": "lbYFvq4BKIxC"
      },
      "id": "lbYFvq4BKIxC"
    },
    {
      "cell_type": "code",
      "execution_count": 40,
      "id": "11692f09",
      "metadata": {
        "id": "11692f09",
        "outputId": "c2a1812f-b4b2-4fac-c924-4056ad5bc38b",
        "colab": {
          "base_uri": "https://localhost:8080/"
        }
      },
      "outputs": [
        {
          "output_type": "stream",
          "name": "stdout",
          "text": [
            "START WORD: SVISI\n",
            "END WORD  : RIAMMISE\n",
            "\n",
            "❌ PAROLA\n",
            "❌ RIAMMISE\n"
          ]
        },
        {
          "output_type": "execute_result",
          "data": {
            "text/plain": [
              "(False, [2, 2])"
            ]
          },
          "metadata": {},
          "execution_count": 40
        }
      ],
      "source": [
        "def isInDictionary(word):\n",
        "    results = search(word, 0)\n",
        "    return len(results) > 0\n",
        "\n",
        "class WordStatus():\n",
        "  UNCHECKED = 0\n",
        "  VALID = 1\n",
        "  INVALID = 2\n",
        "  NOT_IN_DICT = 3\n",
        "\n",
        "def checkValidChain(startWord, endWord, wordChain):\n",
        "    prevWord = startWord\n",
        "    isOk = True\n",
        "    statuses = []\n",
        "    print()\n",
        "    for word in wordChain + [endWord]:\n",
        "        inDictionary = isInDictionary(word)\n",
        "        results = [t[0] for t in search(prevWord, 1)]\n",
        "        anagrams = [t[0] for t in findAnagramsEx(filteredWords, prevWord, maxDiffLength=1, strict=False)]\n",
        "        isWordOk = inDictionary and (word in results or word in anagrams) \n",
        "        if not inDictionary:\n",
        "            print(\"✖️\", word)\n",
        "            statuses.append(WordStatus.NOT_IN_DICT)\n",
        "        else:\n",
        "            print(\"✔️\" if isWordOk else \"❌\", word)\n",
        "            statuses.append(WordStatus.VALID if isWordOk else WordStatus.INVALID)\n",
        "        \n",
        "        if not isWordOk:\n",
        "            isOk = False\n",
        "        prevWord = word\n",
        "\n",
        "    return isOk, statuses\n",
        "            \n",
        "print(\"START WORD:\", startWord)\n",
        "print(\"END WORD  :\", endWord)\n",
        "checkValidChain(startWord, endWord, [\"PAROLA\"])"
      ]
    },
    {
      "cell_type": "markdown",
      "source": [
        "checkValidChain"
      ],
      "metadata": {
        "id": "6TEWY2KAZWCB"
      },
      "id": "6TEWY2KAZWCB"
    },
    {
      "cell_type": "code",
      "execution_count": 20,
      "id": "e40e0b2d",
      "metadata": {
        "id": "e40e0b2d"
      },
      "outputs": [],
      "source": [
        "def displayCheckValidChain(startWord, endWord, wordChain):\n",
        "    print()\n",
        "    print(startWord)\n",
        "    ok, statuses = checkValidChain(startWord, endWord, wordChain)\n",
        "    print(endWord)\n",
        "\n",
        "    print()\n",
        "    print(\"👍 WON\" if ok else \"👎 LOST\")\n",
        "\n",
        "    print()\n"
      ]
    },
    {
      "cell_type": "code",
      "execution_count": 21,
      "id": "b13ddaf0",
      "metadata": {
        "id": "b13ddaf0",
        "outputId": "f7453b82-c578-4961-b2ea-00698c0234b9",
        "colab": {
          "base_uri": "https://localhost:8080/"
        }
      },
      "outputs": [
        {
          "output_type": "stream",
          "name": "stdout",
          "text": [
            "START WORD: VILLAN\n",
            "restart False\n",
            "\n",
            "END WORD: GELOSI\n",
            "\n",
            "Generate 0.88s\n",
            "START WORD: VILLAN\n",
            "END WORD  : GELOSI\n"
          ]
        }
      ],
      "source": [
        "# regenerate start/end words\n",
        "t0 = time.time()\n",
        "steps = generateChain(quiet=True, startWord='piccolo')\n",
        "print(\"\\nGenerate {0:.2f}s\".format(time.time() - t0))\n",
        "\n",
        "startWord = steps[0]\n",
        "endWord = steps[-1]\n",
        "\n",
        "print(\"START WORD:\", startWord)\n",
        "print(\"END WORD  :\", endWord)"
      ]
    },
    {
      "cell_type": "code",
      "execution_count": 22,
      "id": "510ee2b5",
      "metadata": {
        "scrolled": true,
        "id": "510ee2b5",
        "outputId": "79d937af-a4ff-438a-ea57-427d60789ec1",
        "colab": {
          "base_uri": "https://localhost:8080/"
        }
      },
      "outputs": [
        {
          "output_type": "stream",
          "name": "stdout",
          "text": [
            "\n",
            "VILLAN\n",
            "❌ PANTERA\n",
            "❌ PENTOLA\n",
            "❌ PANTOFOLA\n",
            "❌ OSTERIA\n",
            "❌ RISTORAI\n",
            "❌ PIANTALA\n",
            "❌ GELOSI\n",
            "GELOSI\n",
            "\n",
            "👎 LOST\n",
            "\n",
            "Validate 3.92s\n"
          ]
        }
      ],
      "source": [
        "wordChain = [\n",
        "    'pantera',\n",
        "    'pentola',\n",
        "    'pantofola',\n",
        "    'osteria',\n",
        "    'ristorai',\n",
        "    'piantala',\n",
        "]\n",
        "wordChain = [w.strip().upper() for w in wordChain]\n",
        "#print(\"GUESS WORD CHAIN\", wordChain)\n",
        "\n",
        "t0 = time.time()\n",
        "displayCheckValidChain(startWord, endWord, wordChain)\n",
        "print(\"Validate {0:.2f}s\".format(time.time() - t0))"
      ]
    },
    {
      "cell_type": "code",
      "execution_count": 35,
      "id": "7659d980",
      "metadata": {
        "id": "7659d980",
        "outputId": "033f5ce9-3b74-45af-af82-d46388cf7a3d",
        "colab": {
          "base_uri": "https://localhost:8080/"
        }
      },
      "outputs": [
        {
          "output_type": "stream",
          "name": "stdout",
          "text": [
            "COMPUTED WORD CHAIN ['VILLAN', 'LAVINO', 'SOLANI', 'LINOSA', 'LINOSO', 'GOLOSI', 'GELOSI']\n"
          ]
        }
      ],
      "source": [
        "# STEPS\n",
        "\n",
        "print(\"COMPUTED WORD CHAIN\", steps)"
      ]
    },
    {
      "cell_type": "code",
      "execution_count": 24,
      "id": "783783ce",
      "metadata": {
        "id": "783783ce",
        "outputId": "f4d478f9-b77e-46ef-a35c-9b1dff07d30e",
        "colab": {
          "base_uri": "https://localhost:8080/"
        }
      },
      "outputs": [
        {
          "output_type": "execute_result",
          "data": {
            "text/plain": [
              "[('MUOVI', 0)]"
            ]
          },
          "metadata": {},
          "execution_count": 24
        }
      ],
      "source": [
        "# find in dictionary\n",
        "\n",
        "findWord = 'muovi'\n",
        "\n",
        "search(findWord.strip().upper(), 0)\n"
      ]
    },
    {
      "cell_type": "code",
      "source": [
        "print([hex(ord(ch)) for ch in \"✖️\"])\n",
        "print([hex(ord(ch)) for ch in \"✔️\"])\n",
        "print([hex(ord(ch)) for ch in \"❌\"])\n",
        "\"👍\"\n",
        "hex(ord(\"👎\"))"
      ],
      "metadata": {
        "id": "zxeuKIqdIM68",
        "outputId": "5e5ded6e-8ebf-4655-fe08-617ce06cac6e",
        "colab": {
          "base_uri": "https://localhost:8080/",
          "height": 87
        }
      },
      "id": "zxeuKIqdIM68",
      "execution_count": 25,
      "outputs": [
        {
          "output_type": "stream",
          "name": "stdout",
          "text": [
            "['0x2716', '0xfe0f']\n",
            "['0x2714', '0xfe0f']\n",
            "['0x274c']\n"
          ]
        },
        {
          "output_type": "execute_result",
          "data": {
            "text/plain": [
              "'0x1f44e'"
            ],
            "application/vnd.google.colaboratory.intrinsic+json": {
              "type": "string"
            }
          },
          "metadata": {},
          "execution_count": 25
        }
      ]
    },
    {
      "cell_type": "markdown",
      "source": [
        "# server functions"
      ],
      "metadata": {
        "id": "H7sxyh5IZ3H2"
      },
      "id": "H7sxyh5IZ3H2"
    },
    {
      "cell_type": "code",
      "source": [
        "@anvil.server.callable\n",
        "def srvGenerateWordChain(quiet=True, startWord=None, strict=True):\n",
        "  steps = generateChain(quiet=quiet, startWord=startWord, strict=strict)\n",
        "  return steps\n",
        "\n",
        "@anvil.server.callable\n",
        "def srvValidateChain(startWord, endWord, wordChain):\n",
        "  isOk, statuses = checkValidChain(startWord, endWord, wordChain)\n",
        "  return isOk, statuses\n",
        "\n"
      ],
      "metadata": {
        "id": "kHDjlRX9O7Jm"
      },
      "id": "kHDjlRX9O7Jm",
      "execution_count": 26,
      "outputs": []
    },
    {
      "cell_type": "markdown",
      "source": [
        "# anagrams dict"
      ],
      "metadata": {
        "id": "1uHZ5H3RaBpf"
      },
      "id": "1uHZ5H3RaBpf"
    },
    {
      "cell_type": "code",
      "source": [
        "t0 = time.time()\n",
        "\n",
        "anagramsDict = {}\n",
        "wordsByLength = {}\n",
        "wordsBySortedAndLength = {}\n",
        "for w in filteredWords[:]:\n",
        "  sortedWord = ''.join(sorted(w))\n",
        "  if sortedWord not in anagramsDict:\n",
        "    anagramsDict[sortedWord] = set()\n",
        "  anagramsDict[sortedWord].add(w)\n",
        "  # moreAnagrams = findAnagramsEx(filteredWords, w, maxDiffLength=1, strict=True)\n",
        "  # for item in moreAnagrams:\n",
        "  #   anagramsDict[sortedWord].add(item[0])\n",
        "  length = len(w)\n",
        "  if length not in wordsByLength:\n",
        "    wordsByLength[length] = set()\n",
        "  wordsByLength[length].add(w)\n",
        "  if w not in wordsBySortedAndLength:\n",
        "    wordsBySortedAndLength[w] = [None, None, None]\n",
        "  wordsBySortedAndLength[w][0] = sortedWord\n",
        "  wordsBySortedAndLength[w][1] = length\n",
        "  counter = Counter2(w)\n",
        "  wordsBySortedAndLength[w][2] = counter\n",
        "\n",
        "\n",
        "print(f'{(time.time() - t0):.2f}s')\n",
        "\n",
        "display([item for item in random.choices(list(anagramsDict.items()), k=10)])\n",
        "display([(k, list(v)[:5]) for k, v in wordsByLength.items()])\n",
        "display([item for item in random.choices(list(wordsBySortedAndLength.items()), k=10)])\n"
      ],
      "metadata": {
        "id": "SCxcY8vFkjAL",
        "outputId": "1c035aac-cf26-4b83-d753-07aa0d16ab3a",
        "colab": {
          "base_uri": "https://localhost:8080/",
          "height": 781
        }
      },
      "id": "SCxcY8vFkjAL",
      "execution_count": 27,
      "outputs": [
        {
          "output_type": "stream",
          "name": "stdout",
          "text": [
            "Reconnecting Anvil Uplink...\n",
            "Connecting to wss://anvil.works/uplink\n",
            "Anvil websocket open\n",
            "Fatal error from Anvil server: Incorrect uplink key\n",
            "Anvil websocket closed (code 1000, reason=b'')\n",
            "4.21s\n"
          ]
        },
        {
          "output_type": "display_data",
          "data": {
            "text/plain": [
              "[('AABGIIMRV', {'IMBRAGAVI', 'IMBRIGAVA'}),\n",
              " ('CEHIIMNO', {'MINOICHE'}),\n",
              " ('AACINNRST', {'SCANNARTI', 'SCANTINAR', 'SCARNANTI', 'STRACANNI'}),\n",
              " ('EGGIIMMTU', {'MUGGITEMI'}),\n",
              " ('AEIIPPTV', {'APPETIVI', 'PEPATIVI', 'PIPATEVI'}),\n",
              " ('AABEEINSU', {'EUSEBIANA'}),\n",
              " ('AAEILQTUV', {'LIQUAVATE'}),\n",
              " ('AIMRZ', {'MARZI'}),\n",
              " ('CHIINOT', {'CHITINO', 'CHITONI'}),\n",
              " ('AAACHIPPT', {'CHIAPPATA'})]"
            ]
          },
          "metadata": {}
        },
        {
          "output_type": "display_data",
          "data": {
            "text/plain": [
              "[(9, ['RICAMARMI', 'DIFILARLE', 'SFIANCATA', 'MAZZICARE', 'TOMARTELO']),\n",
              " (6, ['BILOBE', 'NUOTAI', 'PLACCO', 'UGGERO', 'VIELLE']),\n",
              " (5, ['FERVO', 'SACRA', 'ATOUT', 'SMODA', 'ETINI']),\n",
              " (7, ['PISCOPI', 'FINTASI', 'MOZZALI', 'STESANO', 'FOLCERE']),\n",
              " (8, ['RASOIAVI', 'ODIRANNO', 'APPULCRI', 'PUNTAZZO', 'MALFATTE']),\n",
              " (4, ['BUCA', 'PIPE', 'VIGE', 'RENO', 'FICO'])]"
            ]
          },
          "metadata": {}
        },
        {
          "output_type": "display_data",
          "data": {
            "text/plain": [
              "[('MONTICALO',\n",
              "  ['ACILMNOOT',\n",
              "   9,\n",
              "   {'M': 1, 'O': 2, 'N': 1, 'T': 1, 'I': 1, 'C': 1, 'A': 1, 'L': 1}]),\n",
              " ('SUOLALO', ['ALLOOSU', 7, {'S': 1, 'U': 1, 'O': 2, 'L': 2, 'A': 1}]),\n",
              " ('RELATIONS',\n",
              "  ['AEILNORST',\n",
              "   9,\n",
              "   {'R': 1, 'E': 1, 'L': 1, 'A': 1, 'T': 1, 'I': 1, 'O': 1, 'N': 1, 'S': 1}]),\n",
              " ('SAGRARONO',\n",
              "  ['AAGNOORRS', 9, {'S': 1, 'A': 2, 'G': 1, 'R': 2, 'O': 2, 'N': 1}]),\n",
              " ('GUSTOSITA',\n",
              "  ['AGIOSSTTU', 9, {'G': 1, 'U': 1, 'S': 2, 'T': 2, 'O': 1, 'I': 1, 'A': 1}]),\n",
              " ('BRASILE',\n",
              "  ['ABEILRS', 7, {'B': 1, 'R': 1, 'A': 1, 'S': 1, 'I': 1, 'L': 1, 'E': 1}]),\n",
              " ('BETTOLATA',\n",
              "  ['AABELOTTT', 9, {'B': 1, 'E': 1, 'T': 3, 'O': 1, 'L': 1, 'A': 2}]),\n",
              " ('VEGANIANI',\n",
              "  ['AAEGIINNV', 9, {'V': 1, 'E': 1, 'G': 1, 'A': 2, 'N': 2, 'I': 2}]),\n",
              " ('SMORTISCI',\n",
              "  ['CIIMORSST', 9, {'S': 2, 'M': 1, 'O': 1, 'R': 1, 'T': 1, 'I': 2, 'C': 1}]),\n",
              " ('MALGAMELA', ['AAAEGLLMM', 9, {'M': 2, 'A': 3, 'L': 2, 'G': 1, 'E': 1}])]"
            ]
          },
          "metadata": {}
        }
      ]
    },
    {
      "cell_type": "code",
      "source": [],
      "metadata": {
        "id": "42Gw1vJYmDW6"
      },
      "id": "42Gw1vJYmDW6",
      "execution_count": 27,
      "outputs": []
    },
    {
      "cell_type": "code",
      "source": [
        "\n",
        "# t0 = time.time()\n",
        "\n",
        "# wordList = filteredWords[:21]\n",
        "# for i, w in enumerate(wordList):\n",
        "#   if i % 100 == 0:\n",
        "#     print(f'{i:6}/{len(wordList)} {w}')\n",
        "#   sortedWord, wordLength, sourceCounter = wordsBySortedAndLength[w]\n",
        "  \n",
        "#   candidates = []\n",
        "#   targetLength = wordLength - 1\n",
        "#   if targetLength in wordsByLength:\n",
        "#     candidates = list(wordsByLength[targetLength])\n",
        "#   targetLength = wordLength + 1\n",
        "#   if targetLength in wordsByLength:\n",
        "#     candidates += list(wordsByLength[targetLength])\n",
        "  \n",
        "#   for targetWord in candidates:\n",
        "#     sortedTargetWord, targetLength, targetCounter = wordsBySortedAndLength[targetWord]\n",
        "#     isAnagram, diff = _isAnagramEx2(sortedWord, sortedTargetWord, wordLength, targetLength, maxDiffLength=1, strict=True)\n",
        "    \n",
        "#     # if len(w) < len(targetWord):\n",
        "#     #   sourceCounter, targetCounter = targetCounter, sourceCounter\n",
        "#     # diffCounter = sourceCounter - targetCounter\n",
        "#     # diffSum = sum(diffCounter.values())\n",
        "#     # isAnagram = diffSum == 1\n",
        "\n",
        "#     #sourceCounter.isAnagram(targetCounter, maxDiffLength = 1)\n",
        "\n",
        "#     if isAnagram:\n",
        "#       # print(\"->\", targetWord)\n",
        "#       anagramsDict[sortedWord].add(targetWord)\n",
        "#       # display(anagramsDict[sortedWord])\n",
        "\n",
        "# print(f'{(time.time() - t0):.2f}s')\n"
      ],
      "metadata": {
        "id": "nVL2EeW-vcdL"
      },
      "id": "nVL2EeW-vcdL",
      "execution_count": 28,
      "outputs": []
    },
    {
      "cell_type": "code",
      "source": [
        "word = 'ABAVI'\n",
        "sortedWord, wordLength, sourceCounter = wordsBySortedAndLength[word]\n",
        "display(anagramsDict[sortedWord])\n",
        "\n",
        "_isAnagramEx2(list('BAVA'), list('ABAVI'), 4, 5, maxDiffLength=1, strict=True)\n"
      ],
      "metadata": {
        "id": "IrhyGUGGMe0Y",
        "outputId": "89d7d6d9-4ee2-41bf-e145-b80b4383bf34",
        "colab": {
          "base_uri": "https://localhost:8080/",
          "height": 52
        }
      },
      "id": "IrhyGUGGMe0Y",
      "execution_count": 29,
      "outputs": [
        {
          "output_type": "display_data",
          "data": {
            "text/plain": [
              "{'ABAVI', 'BIAVA'}"
            ]
          },
          "metadata": {}
        },
        {
          "output_type": "execute_result",
          "data": {
            "text/plain": [
              "(False, 2)"
            ]
          },
          "metadata": {},
          "execution_count": 29
        }
      ]
    },
    {
      "cell_type": "code",
      "source": [
        "print('LUCRAMELO'.__hash__())\n",
        "print('LUCRAMELO'.__hash__())\n",
        "print('lucramelo'.__hash__())\n",
        "\n",
        "for k,v in wordsByLength.items():\n",
        "  print(k, len(v))\n",
        "\n",
        "#findAnagramsEx(filteredWords, 'TAVOLIERE', maxDiffLength=1, strict=True)"
      ],
      "metadata": {
        "id": "9eiPA_6bouv5",
        "outputId": "ee3ebb9d-161e-483e-8302-ae103ac282bd",
        "colab": {
          "base_uri": "https://localhost:8080/"
        }
      },
      "id": "9eiPA_6bouv5",
      "execution_count": 30,
      "outputs": [
        {
          "output_type": "stream",
          "name": "stdout",
          "text": [
            "-6357037853119430282\n",
            "-6357037853119430282\n",
            "-8225445108557952560\n",
            "9 200178\n",
            "6 23116\n",
            "5 9051\n",
            "7 56496\n",
            "8 109355\n",
            "4 2927\n"
          ]
        }
      ]
    },
    {
      "cell_type": "markdown",
      "source": [
        "# server wait"
      ],
      "metadata": {
        "id": "Td26zg62Z9yf"
      },
      "id": "Td26zg62Z9yf"
    },
    {
      "cell_type": "code",
      "source": [
        "anvil.server.wait_forever()"
      ],
      "metadata": {
        "id": "bNPfNb8IPEga",
        "outputId": "3e242fa4-0a3c-4252-b8d6-9b8111f7009d",
        "colab": {
          "base_uri": "https://localhost:8080/",
          "height": 1000
        }
      },
      "id": "bNPfNb8IPEga",
      "execution_count": 37,
      "outputs": [
        {
          "output_type": "stream",
          "name": "stdout",
          "text": [
            "START WORD: OSANTE\n",
            "restart False\n",
            "\n",
            "['OSTANTE', 'OSTANTI', 'COSTANTI', 'COSANTI', 'DOSANTI']\n",
            "END WORD: DESINATO\n",
            "START WORD: BAIULO\n",
            "levenshtein 6\n",
            "restart True\n",
            "\n",
            "START WORD: INPUTO\n",
            "levenshtein 7\n",
            "restart True\n",
            "\n",
            "START WORD: SPELTA\n",
            "restart False\n",
            "\n",
            "['LESTA', 'LASTA', 'SALATO', 'ALITOSA', 'ASSOLATI']\n",
            "END WORD: ASSOLACI\n",
            "START WORD: RODAMI\n",
            "levenshtein 9\n",
            "restart True\n",
            "\n",
            "START WORD: ANTI\n",
            "restart False\n",
            "\n",
            "['CANTI', 'CACTI', 'CASTI', 'SCIATI', 'SCITALI']\n",
            "END WORD: CITALI\n",
            "START WORD: QUASSU\n",
            "anagram 0\n",
            "restart True\n",
            "\n",
            "START WORD: RAREFA\n",
            "levenshtein 4\n",
            "restart True\n",
            "\n",
            "START WORD: OPTAVO\n",
            "levenshtein 7\n",
            "restart True\n",
            "\n",
            "START WORD: ERBAI\n",
            "restart False\n",
            "\n",
            "['RAIE', 'BAIE', 'BALIE', 'BALIA', 'ALBICA']\n",
            "END WORD: CABLAMI\n",
            "START WORD: SORATI\n",
            "restart False\n",
            "\n",
            "['SORBATI', 'BASIRO', 'BASTIRO', 'BASTIRLO', 'SABOTARLI']\n",
            "END WORD: SABOTALI\n",
            "START WORD: ARTATE\n",
            "levenshtein 9\n",
            "restart True\n",
            "\n",
            "START WORD: RUPINA\n",
            "restart False\n",
            "\n",
            "['SUPINA', 'PINSA', 'PINNA', 'PENNA', 'SPENNA']\n",
            "END WORD: SPENTA\n",
            "START WORD: IBERA\n",
            "levenshtein 4\n",
            "restart True\n",
            "\n",
            "START WORD: ALBANA\n",
            "anagram 7\n",
            "restart True\n",
            "\n",
            "START WORD: GILDA\n",
            "levenshtein 5\n",
            "restart True\n",
            "\n",
            "START WORD: EMENDI\n",
            "levenshtein 4\n",
            "restart True\n",
            "\n",
            "START WORD: DIRENO\n",
            "levenshtein 6\n",
            "restart True\n",
            "\n",
            "START WORD: LIDAR\n",
            "restart False\n",
            "\n",
            "['LIDER', 'DELI', 'DEGLI', 'LEDI', 'DIRLE']\n",
            "END WORD: SDIRLE\n",
            "❌ POLLO\n",
            "❌ SDIRLE\n",
            "❌ POLLO\n",
            "✔️ POLO\n",
            "❌ SDIRLE\n",
            "❌ SDIRLE\n",
            "❌ SDIRLE\n",
            "✔️ POLO\n",
            "START WORD: CECATI\n",
            "restart False\n",
            "\n",
            "['CECAI', 'CECA', 'CIECA', 'CICA', 'SICA']\n",
            "END WORD: FICA\n",
            "START WORD: FATEVI\n",
            "restart False\n",
            "\n",
            "['FATEMI', 'FITEUMA', 'RIFUMATE', 'GRUFATEMI', 'GRUFIATE']\n",
            "END WORD: GRIFIATE\n",
            "START WORD: POLIVA\n",
            "levenshtein 8\n",
            "restart True\n",
            "\n",
            "START WORD: SBARRI\n",
            "restart False\n",
            "\n",
            "['SBARDI', 'SARDI', 'RAIS', 'SAURI', 'LAURI']\n",
            "END WORD: LAURE\n",
            "❌ POLLO\n",
            "❌ LAURE\n",
            "✔️ POLLO\n",
            "❌ LAURE\n",
            "✔️ POLLO\n",
            "❌ LAURE\n",
            "START WORD: OROMO\n",
            "levenshtein 9\n",
            "restart True\n",
            "\n",
            "START WORD: SAPONA\n",
            "levenshtein 9\n",
            "restart True\n",
            "\n",
            "START WORD: TUFOSO\n",
            "anagram 4\n",
            "restart True\n",
            "\n",
            "START WORD: ERNIAI\n",
            "restart False\n",
            "\n",
            "['ERNIACI', 'LINCERAI', 'INCERAI', 'INCERAR', 'INCARAR']\n",
            "END WORD: INCORAR\n",
            "✖️ \n",
            "❌ INCORAR\n",
            "❌ CORNAI\n",
            "✔️ INCORAR\n",
            "✔️ CERNIA\n",
            "✔️ CORNAI\n",
            "✔️ INCORAR\n",
            "✔️ CERNIA\n",
            "✔️ CORNAI\n",
            "✔️ INCORAR\n",
            "START WORD: GUANO\n",
            "restart False\n",
            "\n",
            "['GUAIO', 'GAIO', 'DOGAI', 'IOGA', 'YOGA']\n",
            "END WORD: FOGA\n",
            "❌ FUGA\n",
            "✔️ FOGA\n",
            "❌ GUFO\n",
            "✔️ FOGA\n",
            "✔️ UNGO\n",
            "✔️ GUFO\n",
            "✔️ FOGA\n"
          ]
        },
        {
          "output_type": "error",
          "ename": "KeyboardInterrupt",
          "evalue": "ignored",
          "traceback": [
            "\u001b[0;31m---------------------------------------------------------------------------\u001b[0m",
            "\u001b[0;31mKeyboardInterrupt\u001b[0m                         Traceback (most recent call last)",
            "\u001b[0;32m<ipython-input-37-95cac3476493>\u001b[0m in \u001b[0;36m<cell line: 1>\u001b[0;34m()\u001b[0m\n\u001b[0;32m----> 1\u001b[0;31m \u001b[0manvil\u001b[0m\u001b[0;34m.\u001b[0m\u001b[0mserver\u001b[0m\u001b[0;34m.\u001b[0m\u001b[0mwait_forever\u001b[0m\u001b[0;34m(\u001b[0m\u001b[0;34m)\u001b[0m\u001b[0;34m\u001b[0m\u001b[0;34m\u001b[0m\u001b[0m\n\u001b[0m",
            "\u001b[0;32m/usr/local/lib/python3.10/dist-packages/anvil/server.py\u001b[0m in \u001b[0;36mwait_forever\u001b[0;34m()\u001b[0m\n\u001b[1;32m    435\u001b[0m     \u001b[0m_get_connection\u001b[0m\u001b[0;34m(\u001b[0m\u001b[0;34m)\u001b[0m\u001b[0;34m\u001b[0m\u001b[0;34m\u001b[0m\u001b[0m\n\u001b[1;32m    436\u001b[0m     \u001b[0;32mwhile\u001b[0m \u001b[0;32mTrue\u001b[0m\u001b[0;34m:\u001b[0m\u001b[0;34m\u001b[0m\u001b[0;34m\u001b[0m\u001b[0m\n\u001b[0;32m--> 437\u001b[0;31m         \u001b[0mtime\u001b[0m\u001b[0;34m.\u001b[0m\u001b[0msleep\u001b[0m\u001b[0;34m(\u001b[0m\u001b[0;36m1\u001b[0m\u001b[0;34m)\u001b[0m\u001b[0;34m\u001b[0m\u001b[0;34m\u001b[0m\u001b[0m\n\u001b[0m",
            "\u001b[0;31mKeyboardInterrupt\u001b[0m: "
          ]
        }
      ]
    }
  ],
  "metadata": {
    "kernelspec": {
      "display_name": "Python 3 (ipykernel)",
      "language": "python",
      "name": "python3"
    },
    "language_info": {
      "codemirror_mode": {
        "name": "ipython",
        "version": 3
      },
      "file_extension": ".py",
      "mimetype": "text/x-python",
      "name": "python",
      "nbconvert_exporter": "python",
      "pygments_lexer": "ipython3",
      "version": "3.9.13"
    },
    "colab": {
      "provenance": [],
      "toc_visible": true
    }
  },
  "nbformat": 4,
  "nbformat_minor": 5
}